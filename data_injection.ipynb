{
 "cells": [
  {
   "cell_type": "markdown",
   "id": "700f510a5988d22f",
   "metadata": {},
   "source": [
    "## Import Library"
   ]
  },
  {
   "cell_type": "code",
   "execution_count": 5,
   "id": "3f34c4da0b84864d",
   "metadata": {
    "ExecuteTime": {
     "end_time": "2023-10-02T14:26:08.030373Z",
     "start_time": "2023-10-02T14:26:07.103853Z"
    }
   },
   "outputs": [],
   "source": [
    "import numpy as np\n",
    "import pandas as pd\n",
    "import csv\n",
    "import mysql.connector\n",
    "import mysql\n",
    "from mysql.connector import Error\n",
    "\n",
    "import threading"
   ]
  },
  {
   "cell_type": "markdown",
   "id": "40bd763747ed1c6e",
   "metadata": {},
   "source": [
    "## Create connection to database"
   ]
  },
  {
   "cell_type": "code",
   "execution_count": 6,
   "id": "f29234e1a7136252",
   "metadata": {
    "ExecuteTime": {
     "end_time": "2023-10-02T14:26:09.143249Z",
     "start_time": "2023-10-02T14:26:09.099464Z"
    }
   },
   "outputs": [],
   "source": [
    "def create_connection(host, user, password, database):\n",
    "    try:\n",
    "        connection = mysql.connector.connect(\n",
    "            host=host,\n",
    "            user=user,\n",
    "            password=password,\n",
    "            database=database\n",
    "        )\n",
    "        if connection.is_connected():\n",
    "            print(f'Connected to MySQL database: {database}')\n",
    "            return connection\n",
    "    except Error as e:\n",
    "        print(f'Error: {e}')\n",
    "        return None"
   ]
  },
  {
   "cell_type": "code",
   "execution_count": 7,
   "id": "f396fd7c9c2444b5",
   "metadata": {
    "ExecuteTime": {
     "end_time": "2023-10-02T14:26:09.510494Z",
     "start_time": "2023-10-02T14:26:09.493098Z"
    }
   },
   "outputs": [],
   "source": [
    "db_host = 'localhost'\n",
    "db_user = 'root'\n",
    "db_password = 'your_password'\n",
    "db_name = 'iranketab_db'"
   ]
  },
  {
   "cell_type": "code",
   "execution_count": 8,
   "id": "bc21ab921472cd7b",
   "metadata": {
    "ExecuteTime": {
     "end_time": "2023-10-02T14:26:10.023520Z",
     "start_time": "2023-10-02T14:26:09.863938Z"
    }
   },
   "outputs": [
    {
     "name": "stdout",
     "output_type": "stream",
     "text": [
      "Connected to MySQL database: iranketab_db\n"
     ]
    }
   ],
   "source": [
    "connection = create_connection(db_host, db_user, db_password, db_name)\n",
    "cursor = connection.cursor()"
   ]
  },
  {
   "cell_type": "markdown",
   "id": "aaa6fee53c05dd52",
   "metadata": {},
   "source": [
    "## Import publisher to publisher_name table"
   ]
  },
  {
   "cell_type": "code",
   "execution_count": 29,
   "id": "aa7cd20812a6b4fb",
   "metadata": {
    "ExecuteTime": {
     "end_time": "2023-09-30T13:53:35.465342Z",
     "start_time": "2023-09-30T13:53:34.595167Z"
    }
   },
   "outputs": [
    {
     "data": {
      "text/html": [
       "<div>\n",
       "<style scoped>\n",
       "    .dataframe tbody tr th:only-of-type {\n",
       "        vertical-align: middle;\n",
       "    }\n",
       "\n",
       "    .dataframe tbody tr th {\n",
       "        vertical-align: top;\n",
       "    }\n",
       "\n",
       "    .dataframe thead th {\n",
       "        text-align: right;\n",
       "    }\n",
       "</style>\n",
       "<table border=\"1\" class=\"dataframe\">\n",
       "  <thead>\n",
       "    <tr style=\"text-align: right;\">\n",
       "      <th></th>\n",
       "      <th>Publisher</th>\n",
       "    </tr>\n",
       "  </thead>\n",
       "  <tbody>\n",
       "    <tr>\n",
       "      <th>0</th>\n",
       "      <td>نشر چشمه</td>\n",
       "    </tr>\n",
       "    <tr>\n",
       "      <th>1</th>\n",
       "      <td>ندای معاصر (زرین کلک)</td>\n",
       "    </tr>\n",
       "    <tr>\n",
       "      <th>2</th>\n",
       "      <td>نیلوفر</td>\n",
       "    </tr>\n",
       "    <tr>\n",
       "      <th>3</th>\n",
       "      <td>مروارید</td>\n",
       "    </tr>\n",
       "    <tr>\n",
       "      <th>4</th>\n",
       "      <td>مجید (به سخن)</td>\n",
       "    </tr>\n",
       "    <tr>\n",
       "      <th>...</th>\n",
       "      <td>...</td>\n",
       "    </tr>\n",
       "    <tr>\n",
       "      <th>2036</th>\n",
       "      <td>نبش استور</td>\n",
       "    </tr>\n",
       "    <tr>\n",
       "      <th>2037</th>\n",
       "      <td>نفحات</td>\n",
       "    </tr>\n",
       "    <tr>\n",
       "      <th>2038</th>\n",
       "      <td>نیکوروش</td>\n",
       "    </tr>\n",
       "    <tr>\n",
       "      <th>2039</th>\n",
       "      <td>زندگی نو</td>\n",
       "    </tr>\n",
       "    <tr>\n",
       "      <th>2040</th>\n",
       "      <td>دید</td>\n",
       "    </tr>\n",
       "  </tbody>\n",
       "</table>\n",
       "<p>2041 rows × 1 columns</p>\n",
       "</div>"
      ],
      "text/plain": [
       "                  Publisher\n",
       "0                  نشر چشمه\n",
       "1     ندای معاصر (زرین کلک)\n",
       "2                    نیلوفر\n",
       "3                   مروارید\n",
       "4             مجید (به سخن)\n",
       "...                     ...\n",
       "2036              نبش استور\n",
       "2037                  نفحات\n",
       "2038                نیکوروش\n",
       "2039               زندگی نو\n",
       "2040                    دید\n",
       "\n",
       "[2041 rows x 1 columns]"
      ]
     },
     "execution_count": 29,
     "metadata": {},
     "output_type": "execute_result"
    }
   ],
   "source": [
    "df_publisher = pd.read_csv('Book.csv', usecols=['Publisher'])\n",
    "df_publisher = df_publisher.drop_duplicates()\n",
    "df_publisher = df_publisher.reset_index(drop=True)\n",
    "df_publisher"
   ]
  },
  {
   "cell_type": "code",
   "execution_count": 32,
   "id": "e9d7a6814f93e074",
   "metadata": {
    "ExecuteTime": {
     "end_time": "2023-09-30T13:57:06.341111Z",
     "start_time": "2023-09-30T13:57:06.114950Z"
    }
   },
   "outputs": [
    {
     "name": "stdout",
     "output_type": "stream",
     "text": [
      "Data inserted into table: publisher\n"
     ]
    }
   ],
   "source": [
    "table_name = 'publisher'\n",
    "\n",
    "for _, row in df_publisher.iterrows():\n",
    "        insert_query = f\"INSERT INTO {table_name} (publisher_name) VALUES ('{row['Publisher']}')\"\n",
    "        cursor.execute(insert_query)\n",
    "\n",
    "connection.commit()\n"
   ]
  },
  {
   "cell_type": "markdown",
   "id": "f7d9ce7ebbc91539",
   "metadata": {},
   "source": [
    "## Import type of print to type_of_print table"
   ]
  },
  {
   "cell_type": "code",
   "execution_count": 5,
   "id": "50bde1418ac8390d",
   "metadata": {
    "ExecuteTime": {
     "end_time": "2023-09-30T20:30:15.654961Z",
     "start_time": "2023-09-30T20:30:14.496026Z"
    }
   },
   "outputs": [
    {
     "data": {
      "text/html": [
       "<div>\n",
       "<style scoped>\n",
       "    .dataframe tbody tr th:only-of-type {\n",
       "        vertical-align: middle;\n",
       "    }\n",
       "\n",
       "    .dataframe tbody tr th {\n",
       "        vertical-align: top;\n",
       "    }\n",
       "\n",
       "    .dataframe thead th {\n",
       "        text-align: right;\n",
       "    }\n",
       "</style>\n",
       "<table border=\"1\" class=\"dataframe\">\n",
       "  <thead>\n",
       "    <tr style=\"text-align: right;\">\n",
       "      <th></th>\n",
       "      <th>type_of_print</th>\n",
       "    </tr>\n",
       "  </thead>\n",
       "  <tbody>\n",
       "    <tr>\n",
       "      <th>0</th>\n",
       "      <td>جلد سخت</td>\n",
       "    </tr>\n",
       "    <tr>\n",
       "      <th>1</th>\n",
       "      <td>شومیز</td>\n",
       "    </tr>\n",
       "    <tr>\n",
       "      <th>2</th>\n",
       "      <td>زرکوب</td>\n",
       "    </tr>\n",
       "    <tr>\n",
       "      <th>3</th>\n",
       "      <td>جلد نرم</td>\n",
       "    </tr>\n",
       "    <tr>\n",
       "      <th>4</th>\n",
       "      <td>سلفونی</td>\n",
       "    </tr>\n",
       "    <tr>\n",
       "      <th>5</th>\n",
       "      <td>Not Define</td>\n",
       "    </tr>\n",
       "    <tr>\n",
       "      <th>6</th>\n",
       "      <td>طرح چرم با قاب کشویی</td>\n",
       "    </tr>\n",
       "    <tr>\n",
       "      <th>7</th>\n",
       "      <td>چرم طبیعی برجسته</td>\n",
       "    </tr>\n",
       "    <tr>\n",
       "      <th>8</th>\n",
       "      <td>جلد سخت همراه با قاب</td>\n",
       "    </tr>\n",
       "    <tr>\n",
       "      <th>9</th>\n",
       "      <td>چرم با قاب بازشو</td>\n",
       "    </tr>\n",
       "  </tbody>\n",
       "</table>\n",
       "</div>"
      ],
      "text/plain": [
       "          type_of_print\n",
       "0               جلد سخت\n",
       "1                 شومیز\n",
       "2                 زرکوب\n",
       "3               جلد نرم\n",
       "4                سلفونی\n",
       "5            Not Define\n",
       "6  طرح چرم با قاب کشویی\n",
       "7      چرم طبیعی برجسته\n",
       "8  جلد سخت همراه با قاب\n",
       "9      چرم با قاب بازشو"
      ]
     },
     "execution_count": 5,
     "metadata": {},
     "output_type": "execute_result"
    }
   ],
   "source": [
    "df_type_of_print = pd.read_csv('Book.csv', usecols=['type_of_print'])\n",
    "df_type_of_print = df_type_of_print.drop_duplicates()\n",
    "df_type_of_print = df_type_of_print.reset_index(drop=True)\n",
    "df_type_of_print"
   ]
  },
  {
   "cell_type": "code",
   "execution_count": 6,
   "id": "b1d77b473a5210d7",
   "metadata": {
    "ExecuteTime": {
     "end_time": "2023-09-30T20:31:38.388306Z",
     "start_time": "2023-09-30T20:31:38.288607Z"
    }
   },
   "outputs": [],
   "source": [
    "table_name = 'type_of_print'\n",
    "\n",
    "for _, row in df_type_of_print.iterrows():\n",
    "        insert_query = f\"INSERT INTO {table_name} (type_of_print) VALUES ('{row['type_of_print']}')\"\n",
    "        cursor.execute(insert_query)\n",
    "        \n",
    "connection.commit()"
   ]
  },
  {
   "cell_type": "markdown",
   "id": "fe3a1faf4793525f",
   "metadata": {},
   "source": [
    "## Import summary to summery table"
   ]
  },
  {
   "cell_type": "code",
   "execution_count": 7,
   "id": "218ab71e2bb0203a",
   "metadata": {
    "ExecuteTime": {
     "end_time": "2023-09-30T20:34:54.476082Z",
     "start_time": "2023-09-30T20:34:52.719005Z"
    }
   },
   "outputs": [
    {
     "data": {
      "text/html": [
       "<div>\n",
       "<style scoped>\n",
       "    .dataframe tbody tr th:only-of-type {\n",
       "        vertical-align: middle;\n",
       "    }\n",
       "\n",
       "    .dataframe tbody tr th {\n",
       "        vertical-align: top;\n",
       "    }\n",
       "\n",
       "    .dataframe thead th {\n",
       "        text-align: right;\n",
       "    }\n",
       "</style>\n",
       "<table border=\"1\" class=\"dataframe\">\n",
       "  <thead>\n",
       "    <tr style=\"text-align: right;\">\n",
       "      <th></th>\n",
       "      <th>Description</th>\n",
       "    </tr>\n",
       "  </thead>\n",
       "  <tbody>\n",
       "    <tr>\n",
       "      <th>0</th>\n",
       "      <td>جسپر دین، بیشتر عمرش نمی توانست تصمیم بگیرد چه...</td>\n",
       "    </tr>\n",
       "    <tr>\n",
       "      <th>1</th>\n",
       "      <td>امیر، پسر یک تاجر ثروتمند کابلی و از قبیله ی ص...</td>\n",
       "    </tr>\n",
       "    <tr>\n",
       "      <th>2</th>\n",
       "      <td>داستان های مهیج هری پاتر، جادوگر جوانی که تحت ...</td>\n",
       "    </tr>\n",
       "    <tr>\n",
       "      <th>3</th>\n",
       "      <td>رمان نام من سرخ، معمایی شرورانه، عاشقانه ای جذ...</td>\n",
       "    </tr>\n",
       "    <tr>\n",
       "      <th>4</th>\n",
       "      <td>این رمان نفس گیر و هیجان انگیز، با تصادفی شبان...</td>\n",
       "    </tr>\n",
       "    <tr>\n",
       "      <th>...</th>\n",
       "      <td>...</td>\n",
       "    </tr>\n",
       "    <tr>\n",
       "      <th>70407</th>\n",
       "      <td>خدای سبحان احاطه مطلق وجودی دارد و این احاطه م...</td>\n",
       "    </tr>\n",
       "    <tr>\n",
       "      <th>70408</th>\n",
       "      <td>دخترهای گلم و پسرهای نازنینم شاهنامک میخواد خی...</td>\n",
       "    </tr>\n",
       "    <tr>\n",
       "      <th>70409</th>\n",
       "      <td>خواهران روایتی است از دو زن که از تبعید و رویا...</td>\n",
       "    </tr>\n",
       "    <tr>\n",
       "      <th>70410</th>\n",
       "      <td>در حالی که برخی بازی را بی‌ارزش و بی‌نتیجه و ح...</td>\n",
       "    </tr>\n",
       "    <tr>\n",
       "      <th>70411</th>\n",
       "      <td>این کتاب در حقیقت پژوهشی درباره حضور هخامنشیان...</td>\n",
       "    </tr>\n",
       "  </tbody>\n",
       "</table>\n",
       "<p>70412 rows × 1 columns</p>\n",
       "</div>"
      ],
      "text/plain": [
       "                                             Description\n",
       "0      جسپر دین، بیشتر عمرش نمی توانست تصمیم بگیرد چه...\n",
       "1      امیر، پسر یک تاجر ثروتمند کابلی و از قبیله ی ص...\n",
       "2      داستان های مهیج هری پاتر، جادوگر جوانی که تحت ...\n",
       "3      رمان نام من سرخ، معمایی شرورانه، عاشقانه ای جذ...\n",
       "4      این رمان نفس گیر و هیجان انگیز، با تصادفی شبان...\n",
       "...                                                  ...\n",
       "70407  خدای سبحان احاطه مطلق وجودی دارد و این احاطه م...\n",
       "70408  دخترهای گلم و پسرهای نازنینم شاهنامک میخواد خی...\n",
       "70409  خواهران روایتی است از دو زن که از تبعید و رویا...\n",
       "70410  در حالی که برخی بازی را بی‌ارزش و بی‌نتیجه و ح...\n",
       "70411  این کتاب در حقیقت پژوهشی درباره حضور هخامنشیان...\n",
       "\n",
       "[70412 rows x 1 columns]"
      ]
     },
     "execution_count": 7,
     "metadata": {},
     "output_type": "execute_result"
    }
   ],
   "source": [
    "df_summery = pd.read_csv('Book.csv', usecols=['Description'])\n",
    "df_summery = df_summery.drop_duplicates()\n",
    "df_summery = df_summery.reset_index(drop=True)\n",
    "df_summery"
   ]
  },
  {
   "cell_type": "code",
   "execution_count": 8,
   "id": "62c5dbf96bf4a7a2",
   "metadata": {
    "ExecuteTime": {
     "end_time": "2023-09-30T20:35:55.481950Z",
     "start_time": "2023-09-30T20:35:48.141047Z"
    }
   },
   "outputs": [],
   "source": [
    "table_name = 'summery'\n",
    "\n",
    "for _, row in df_summery.iterrows():\n",
    "    # Use parameterized queries to safely insert data\n",
    "    insert_query = \"INSERT INTO {} (summary_text) VALUES (%s)\".format(table_name)\n",
    "    cursor.execute(insert_query, (row['Description'],))\n",
    "\n",
    "connection.commit()"
   ]
  },
  {
   "cell_type": "markdown",
   "id": "91ae54527bcc713e",
   "metadata": {},
   "source": [
    "## Import size to size table"
   ]
  },
  {
   "cell_type": "code",
   "execution_count": 9,
   "id": "8e1cf0ccabcc9e3f",
   "metadata": {
    "ExecuteTime": {
     "end_time": "2023-09-30T20:37:11.284856Z",
     "start_time": "2023-09-30T20:37:10.040448Z"
    }
   },
   "outputs": [
    {
     "data": {
      "text/html": [
       "<div>\n",
       "<style scoped>\n",
       "    .dataframe tbody tr th:only-of-type {\n",
       "        vertical-align: middle;\n",
       "    }\n",
       "\n",
       "    .dataframe tbody tr th {\n",
       "        vertical-align: top;\n",
       "    }\n",
       "\n",
       "    .dataframe thead th {\n",
       "        text-align: right;\n",
       "    }\n",
       "</style>\n",
       "<table border=\"1\" class=\"dataframe\">\n",
       "  <thead>\n",
       "    <tr style=\"text-align: right;\">\n",
       "      <th></th>\n",
       "      <th>size</th>\n",
       "    </tr>\n",
       "  </thead>\n",
       "  <tbody>\n",
       "    <tr>\n",
       "      <th>0</th>\n",
       "      <td>رقعی</td>\n",
       "    </tr>\n",
       "    <tr>\n",
       "      <th>1</th>\n",
       "      <td>وزیری</td>\n",
       "    </tr>\n",
       "    <tr>\n",
       "      <th>2</th>\n",
       "      <td>جیبی</td>\n",
       "    </tr>\n",
       "    <tr>\n",
       "      <th>3</th>\n",
       "      <td>پالتویی</td>\n",
       "    </tr>\n",
       "    <tr>\n",
       "      <th>4</th>\n",
       "      <td>Not Define</td>\n",
       "    </tr>\n",
       "    <tr>\n",
       "      <th>5</th>\n",
       "      <td>رحلی</td>\n",
       "    </tr>\n",
       "    <tr>\n",
       "      <th>6</th>\n",
       "      <td>خشتی</td>\n",
       "    </tr>\n",
       "    <tr>\n",
       "      <th>7</th>\n",
       "      <td>سلطانی</td>\n",
       "    </tr>\n",
       "    <tr>\n",
       "      <th>8</th>\n",
       "      <td>بیاضی</td>\n",
       "    </tr>\n",
       "    <tr>\n",
       "      <th>9</th>\n",
       "      <td>رحلی کوچک</td>\n",
       "    </tr>\n",
       "  </tbody>\n",
       "</table>\n",
       "</div>"
      ],
      "text/plain": [
       "         size\n",
       "0        رقعی\n",
       "1       وزیری\n",
       "2        جیبی\n",
       "3     پالتویی\n",
       "4  Not Define\n",
       "5        رحلی\n",
       "6        خشتی\n",
       "7      سلطانی\n",
       "8       بیاضی\n",
       "9   رحلی کوچک"
      ]
     },
     "execution_count": 9,
     "metadata": {},
     "output_type": "execute_result"
    }
   ],
   "source": [
    "df_size = pd.read_csv('Book.csv', usecols=['size'])\n",
    "df_size = df_size.drop_duplicates()\n",
    "df_size = df_size.reset_index(drop=True)\n",
    "df_size"
   ]
  },
  {
   "cell_type": "code",
   "execution_count": 10,
   "id": "ee091d1bfe9949fd",
   "metadata": {
    "ExecuteTime": {
     "end_time": "2023-09-30T20:38:01.287656Z",
     "start_time": "2023-09-30T20:38:01.234169Z"
    }
   },
   "outputs": [],
   "source": [
    "table_name = 'size'\n",
    "\n",
    "for _, row in df_size.iterrows():\n",
    "    # Use parameterized queries to safely insert data\n",
    "    insert_query = \"INSERT INTO {} (size_name) VALUES (%s)\".format(table_name)\n",
    "    cursor.execute(insert_query, (row['size'],))\n",
    "\n",
    "connection.commit()"
   ]
  },
  {
   "cell_type": "markdown",
   "id": "b551adf8c4231b9",
   "metadata": {},
   "source": [
    "## Import category to category table"
   ]
  },
  {
   "cell_type": "code",
   "execution_count": 51,
   "id": "2b7d5256afb9e3c",
   "metadata": {
    "ExecuteTime": {
     "end_time": "2023-09-30T21:22:35.637291Z",
     "start_time": "2023-09-30T21:22:29.800628Z"
    }
   },
   "outputs": [
    {
     "data": {
      "text/html": [
       "<div>\n",
       "<style scoped>\n",
       "    .dataframe tbody tr th:only-of-type {\n",
       "        vertical-align: middle;\n",
       "    }\n",
       "\n",
       "    .dataframe tbody tr th {\n",
       "        vertical-align: top;\n",
       "    }\n",
       "\n",
       "    .dataframe thead th {\n",
       "        text-align: right;\n",
       "    }\n",
       "</style>\n",
       "<table border=\"1\" class=\"dataframe\">\n",
       "  <thead>\n",
       "    <tr style=\"text-align: right;\">\n",
       "      <th></th>\n",
       "      <th>Category</th>\n",
       "    </tr>\n",
       "  </thead>\n",
       "  <tbody>\n",
       "    <tr>\n",
       "      <th>0</th>\n",
       "      <td>جایزه ی ان اس دبلیو پرایمر</td>\n",
       "    </tr>\n",
       "    <tr>\n",
       "      <th>1</th>\n",
       "      <td>ادبیات استرالیا</td>\n",
       "    </tr>\n",
       "    <tr>\n",
       "      <th>2</th>\n",
       "      <td>ادبیات داستانی</td>\n",
       "    </tr>\n",
       "    <tr>\n",
       "      <th>3</th>\n",
       "      <td>داستان فلسفی</td>\n",
       "    </tr>\n",
       "    <tr>\n",
       "      <th>4</th>\n",
       "      <td>ادبیات معاصر</td>\n",
       "    </tr>\n",
       "    <tr>\n",
       "      <th>...</th>\n",
       "      <td>...</td>\n",
       "    </tr>\n",
       "    <tr>\n",
       "      <th>279455</th>\n",
       "      <td>پرفروش ترین های چاپ 1402</td>\n",
       "    </tr>\n",
       "    <tr>\n",
       "      <th>281802</th>\n",
       "      <td>رنگ آمیزی</td>\n",
       "    </tr>\n",
       "    <tr>\n",
       "      <th>283797</th>\n",
       "      <td>الهیات</td>\n",
       "    </tr>\n",
       "    <tr>\n",
       "      <th>284928</th>\n",
       "      <td>جایزه ی آگوست(ادبی سوئد)</td>\n",
       "    </tr>\n",
       "    <tr>\n",
       "      <th>290944</th>\n",
       "      <td>ادبیات گرجستان</td>\n",
       "    </tr>\n",
       "  </tbody>\n",
       "</table>\n",
       "<p>1267 rows × 1 columns</p>\n",
       "</div>"
      ],
      "text/plain": [
       "                          Category\n",
       "0       جایزه ی ان اس دبلیو پرایمر\n",
       "1                  ادبیات استرالیا\n",
       "2                   ادبیات داستانی\n",
       "3                     داستان فلسفی\n",
       "4                     ادبیات معاصر\n",
       "...                            ...\n",
       "279455    پرفروش ترین های چاپ 1402\n",
       "281802                   رنگ آمیزی\n",
       "283797                      الهیات\n",
       "284928    جایزه ی آگوست(ادبی سوئد)\n",
       "290944              ادبیات گرجستان\n",
       "\n",
       "[1267 rows x 1 columns]"
      ]
     },
     "execution_count": 51,
     "metadata": {},
     "output_type": "execute_result"
    }
   ],
   "source": [
    "df_category = pd.read_csv('Book.csv', usecols=['Category'])\n",
    "df_category = df_category.drop_duplicates()\n",
    "df_category['Category'] = df_category['Category'].str.split(',')\n",
    "new_df = pd.DataFrame(columns = ['Category'])\n",
    "new_df['Category'] = pd.concat([pd.Series(row['Category']).explode() for _, row in df_category.iterrows()], ignore_index=True)\n",
    "new_df['Category'] = new_df['Category'].str.replace('[', '').str.replace(']', '').str.replace(\"'\",'')\n",
    "new_df = new_df.drop_duplicates()\n",
    "new_df = new_df.dropna()\n",
    "new_df\n"
   ]
  },
  {
   "cell_type": "code",
   "execution_count": 52,
   "id": "82ba76e440ea524e",
   "metadata": {
    "ExecuteTime": {
     "end_time": "2023-09-30T21:23:20.949789Z",
     "start_time": "2023-09-30T21:23:20.697979Z"
    }
   },
   "outputs": [],
   "source": [
    "table_name = 'category'\n",
    "\n",
    "for _, row in new_df.iterrows():\n",
    "    # Use parameterized queries to safely insert data\n",
    "    insert_query = \"INSERT INTO {} (category_name) VALUES (%s)\".format(table_name)\n",
    "    cursor.execute(insert_query, (row['Category'],))\n",
    "\n",
    "connection.commit()"
   ]
  },
  {
   "cell_type": "markdown",
   "id": "356bbc003faf5962",
   "metadata": {},
   "source": [
    "## Import persons to person table"
   ]
  },
  {
   "cell_type": "code",
   "execution_count": 121,
   "outputs": [
    {
     "data": {
      "text/plain": "                  person\n0           پیمان خاکسار\n1           گلناز سهرابی\n2            مهدی غبرایی\n3      پریسا سلیمان زاده\n4              زیبا گنجی\n...                  ...\n19395   جمال الدین اکرمی\n19396       نویدا هادیان\n19397       نوشین شعبانی\n19399         زهرا سجادی\n19400  محبوبه میرفندرسکی\n\n[17034 rows x 1 columns]",
      "text/html": "<div>\n<style scoped>\n    .dataframe tbody tr th:only-of-type {\n        vertical-align: middle;\n    }\n\n    .dataframe tbody tr th {\n        vertical-align: top;\n    }\n\n    .dataframe thead th {\n        text-align: right;\n    }\n</style>\n<table border=\"1\" class=\"dataframe\">\n  <thead>\n    <tr style=\"text-align: right;\">\n      <th></th>\n      <th>person</th>\n    </tr>\n  </thead>\n  <tbody>\n    <tr>\n      <th>0</th>\n      <td>پیمان خاکسار</td>\n    </tr>\n    <tr>\n      <th>1</th>\n      <td>گلناز سهرابی</td>\n    </tr>\n    <tr>\n      <th>2</th>\n      <td>مهدی غبرایی</td>\n    </tr>\n    <tr>\n      <th>3</th>\n      <td>پریسا سلیمان زاده</td>\n    </tr>\n    <tr>\n      <th>4</th>\n      <td>زیبا گنجی</td>\n    </tr>\n    <tr>\n      <th>...</th>\n      <td>...</td>\n    </tr>\n    <tr>\n      <th>19395</th>\n      <td>جمال الدین اکرمی</td>\n    </tr>\n    <tr>\n      <th>19396</th>\n      <td>نویدا هادیان</td>\n    </tr>\n    <tr>\n      <th>19397</th>\n      <td>نوشین شعبانی</td>\n    </tr>\n    <tr>\n      <th>19399</th>\n      <td>زهرا سجادی</td>\n    </tr>\n    <tr>\n      <th>19400</th>\n      <td>محبوبه میرفندرسکی</td>\n    </tr>\n  </tbody>\n</table>\n<p>17034 rows × 1 columns</p>\n</div>"
     },
     "execution_count": 121,
     "metadata": {},
     "output_type": "execute_result"
    }
   ],
   "source": [
    "df_translator = pd.read_csv('Book.csv', usecols=['translator'])\n",
    "df_translator = df_translator.drop_duplicates()\n",
    "df_translator['translator'] = df_translator['translator'].str.split(',')\n",
    "new_df = pd.DataFrame(columns = ['person'])\n",
    "new_df['person'] = pd.concat([pd.Series(row['translator']).explode() for _, row in df_translator.iterrows()], ignore_index=True)\n",
    "new_df['person'] = new_df['person'].str.replace('[', '').str.replace(']', '').str.replace(\"'\",'')\n",
    "new_df = new_df.drop_duplicates()\n",
    "new_df = new_df.dropna()\n",
    "new_df"
   ],
   "metadata": {
    "collapsed": false,
    "ExecuteTime": {
     "end_time": "2023-10-01T16:03:39.299165Z",
     "start_time": "2023-10-01T16:03:27.837742Z"
    }
   },
   "id": "170c2a7e94cfa055"
  },
  {
   "cell_type": "code",
   "execution_count": 122,
   "id": "f73ac93ba2da201c",
   "metadata": {
    "ExecuteTime": {
     "end_time": "2023-10-01T16:03:43.588108Z",
     "start_time": "2023-10-01T16:03:42.777045Z"
    }
   },
   "outputs": [
    {
     "data": {
      "text/plain": "                     person\n0               استیو تولتز\n1                خالد حسینی\n2              جی کی رولینگ\n3              اورهان پاموک\n4            پاتریک مودیانو\n...                     ...\n51680  یلدا واشقانی فراهانی\n51681       مسعود نقاش زاده\n51682          نویدا هادیان\n51683            زهرا سجادی\n51684     محبوبه میرفندرسکی\n\n[51685 rows x 1 columns]",
      "text/html": "<div>\n<style scoped>\n    .dataframe tbody tr th:only-of-type {\n        vertical-align: middle;\n    }\n\n    .dataframe tbody tr th {\n        vertical-align: top;\n    }\n\n    .dataframe thead th {\n        text-align: right;\n    }\n</style>\n<table border=\"1\" class=\"dataframe\">\n  <thead>\n    <tr style=\"text-align: right;\">\n      <th></th>\n      <th>person</th>\n    </tr>\n  </thead>\n  <tbody>\n    <tr>\n      <th>0</th>\n      <td>استیو تولتز</td>\n    </tr>\n    <tr>\n      <th>1</th>\n      <td>خالد حسینی</td>\n    </tr>\n    <tr>\n      <th>2</th>\n      <td>جی کی رولینگ</td>\n    </tr>\n    <tr>\n      <th>3</th>\n      <td>اورهان پاموک</td>\n    </tr>\n    <tr>\n      <th>4</th>\n      <td>پاتریک مودیانو</td>\n    </tr>\n    <tr>\n      <th>...</th>\n      <td>...</td>\n    </tr>\n    <tr>\n      <th>51680</th>\n      <td>یلدا واشقانی فراهانی</td>\n    </tr>\n    <tr>\n      <th>51681</th>\n      <td>مسعود نقاش زاده</td>\n    </tr>\n    <tr>\n      <th>51682</th>\n      <td>نویدا هادیان</td>\n    </tr>\n    <tr>\n      <th>51683</th>\n      <td>زهرا سجادی</td>\n    </tr>\n    <tr>\n      <th>51684</th>\n      <td>محبوبه میرفندرسکی</td>\n    </tr>\n  </tbody>\n</table>\n<p>51685 rows × 1 columns</p>\n</div>"
     },
     "execution_count": 122,
     "metadata": {},
     "output_type": "execute_result"
    }
   ],
   "source": [
    "df_author = pd.DataFrame(columns=['person'])\n",
    "df_author['person'] = pd.read_csv('Book.csv', usecols=['Writer'])\n",
    "df_person = pd.concat([df_author, new_df], axis=0)\n",
    "df_person = df_person.drop_duplicates()\n",
    "df_person = df_person.dropna()\n",
    "df_person = df_person.reset_index(drop=True)\n",
    "df_person"
   ]
  },
  {
   "cell_type": "code",
   "execution_count": 128,
   "id": "e7ce6b136905967e",
   "metadata": {
    "ExecuteTime": {
     "end_time": "2023-10-01T16:04:23.665024Z",
     "start_time": "2023-10-01T16:04:17.794150Z"
    }
   },
   "outputs": [],
   "source": [
    "table_name = 'person'\n",
    "\n",
    "for _, row in df_person.iterrows():\n",
    "    # Use parameterized queries to safely insert data\n",
    "    insert_query = \"INSERT INTO {} (person_name) VALUES (%s)\".format(table_name)\n",
    "    cursor.execute(insert_query, (row['person'],))\n",
    "\n",
    "connection.commit()"
   ]
  },
  {
   "cell_type": "markdown",
   "id": "122287774f4e24d3",
   "metadata": {},
   "source": [
    "## Import data to book table"
   ]
  },
  {
   "cell_type": "markdown",
   "source": [
    "### Cleaning inventory column"
   ],
   "metadata": {
    "collapsed": false
   },
   "id": "e3b0404c4e249461"
  },
  {
   "cell_type": "code",
   "execution_count": 75,
   "outputs": [
    {
     "name": "stdout",
     "output_type": "stream",
     "text": [
      "<class 'pandas.core.frame.DataFrame'>\n",
      "RangeIndex: 103840 entries, 0 to 103839\n",
      "Data columns (total 23 columns):\n",
      " #   Column                  Non-Null Count   Dtype  \n",
      "---  ------                  --------------   -----  \n",
      " 0   book_id                 103840 non-null  int64  \n",
      " 1   print_series            103840 non-null  int64  \n",
      " 2   size                    103840 non-null  object \n",
      " 3   type_of_print           103840 non-null  object \n",
      " 4   translator              55191 non-null   object \n",
      " 5   shabak                  103833 non-null  object \n",
      " 6   gregorian_publish_year  51349 non-null   object \n",
      " 7   solar_publish_year      103207 non-null  object \n",
      " 8   page_count              103840 non-null  int64  \n",
      " 9   Persian Title           103840 non-null  object \n",
      " 10  English Title           103014 non-null  object \n",
      " 11  Off                     103840 non-null  int64  \n",
      " 12  Rate                    103840 non-null  float64\n",
      " 13  Break Price             103840 non-null  object \n",
      " 14  Special_Price           103840 non-null  object \n",
      " 15  Exist                   103840 non-null  int64  \n",
      " 16  Publisher               103840 non-null  object \n",
      " 17  publisher id            103840 non-null  int64  \n",
      " 18  Writer                  103840 non-null  object \n",
      " 19  writer id               103840 non-null  int64  \n",
      " 20  Description             103840 non-null  object \n",
      " 21  Feature                 103840 non-null  object \n",
      " 22  Category                103840 non-null  object \n",
      "dtypes: float64(1), int64(7), object(15)\n",
      "memory usage: 18.2+ MB\n"
     ]
    }
   ],
   "source": [
    "df_clean = pd.read_csv('Book.csv')\n",
    "df_clean = df_clean.reset_index(drop=True)\n",
    "df_clean.replace('موجود', 1, inplace=True)\n",
    "df_clean.replace('ناموجود', 0, inplace=True)\n",
    "df_clean.replace('Not Define', 0, inplace=True)\n",
    "df_clean.replace('Unknown', np.NaN, inplace=True)\n",
    "df_clean.replace('unknown', np.NaN, inplace=True)\n",
    "df_clean['page_count'].replace(np.NaN, 0, inplace=True)\n",
    "df_clean['gregorian_publish_year'] = df_clean['gregorian_publish_year'].astype('object')\n",
    "df_clean['solar_publish_year'] = df_clean['solar_publish_year'].astype('object')\n",
    "df_clean.to_csv('Book.csv', index=False)\n",
    "df_clean.info()"
   ],
   "metadata": {
    "collapsed": false,
    "ExecuteTime": {
     "end_time": "2023-10-01T14:22:54.494467Z",
     "start_time": "2023-10-01T14:22:49.584324Z"
    }
   },
   "id": "418c218fd3b86777"
  },
  {
   "cell_type": "code",
   "execution_count": 55,
   "outputs": [
    {
     "name": "stdout",
     "output_type": "stream",
     "text": [
      "<class 'pandas.core.frame.DataFrame'>\n",
      "RangeIndex: 103840 entries, 0 to 103839\n",
      "Data columns (total 23 columns):\n",
      " #   Column                  Non-Null Count   Dtype  \n",
      "---  ------                  --------------   -----  \n",
      " 0   book_id                 103840 non-null  int64  \n",
      " 1   print_series            103840 non-null  int64  \n",
      " 2   size                    103840 non-null  object \n",
      " 3   type_of_print           103840 non-null  object \n",
      " 4   translator              55191 non-null   object \n",
      " 5   shabak                  103833 non-null  object \n",
      " 6   gregorian_publish_year  51349 non-null   float64\n",
      " 7   solar_publish_year      103207 non-null  float64\n",
      " 8   page_count              103532 non-null  object \n",
      " 9   Persian Title           103840 non-null  object \n",
      " 10  English Title           103014 non-null  object \n",
      " 11  Off                     103840 non-null  int64  \n",
      " 12  Rate                    103840 non-null  float64\n",
      " 13  Break Price             103840 non-null  int64  \n",
      " 14  Special_Price           103840 non-null  int64  \n",
      " 15  Exist                   103840 non-null  int64  \n",
      " 16  Publisher               103840 non-null  object \n",
      " 17  publisher id            103840 non-null  int64  \n",
      " 18  Writer                  103840 non-null  object \n",
      " 19  writer id               103840 non-null  int64  \n",
      " 20  Description             103840 non-null  object \n",
      " 21  Feature                 103840 non-null  object \n",
      " 22  Category                103840 non-null  object \n",
      "dtypes: float64(3), int64(8), object(12)\n",
      "memory usage: 18.2+ MB\n"
     ]
    }
   ],
   "source": [
    "df_clean.info()"
   ],
   "metadata": {
    "collapsed": false,
    "ExecuteTime": {
     "end_time": "2023-10-01T12:34:27.641671Z",
     "start_time": "2023-10-01T12:34:27.405598Z"
    }
   },
   "id": "b7bebc01f51e8e8c"
  },
  {
   "cell_type": "code",
   "execution_count": 120,
   "id": "6bba5638cdf0fca2",
   "metadata": {
    "ExecuteTime": {
     "end_time": "2023-10-01T15:54:48.817272Z",
     "start_time": "2023-10-01T15:21:13.957280Z"
    }
   },
   "outputs": [
    {
     "name": "stdout",
     "output_type": "stream",
     "text": [
      "Connected to MySQL database: iranketab_db\n"
     ]
    }
   ],
   "source": [
    "connection = create_connection(db_host, db_user, db_password, db_name)\n",
    "cursor = connection.cursor(buffered=True)\n",
    "try:\n",
    "    with open('Book.csv', 'r') as csvfile:\n",
    "        csvreader = csv.DictReader(csvfile)\n",
    "        for row in csvreader:\n",
    "            persian_title = row['Persian Title']\n",
    "            english_title = row['English Title']\n",
    "            isbn = row['shabak']\n",
    "            book_code = row['book_id']\n",
    "            release_date_sh = row['solar_publish_year']\n",
    "            release_date_gc = row['gregorian_publish_year']\n",
    "            rating = row['Rate']\n",
    "            page_count = row['page_count']\n",
    "            print_series = row['print_series']\n",
    "            inventory = row['Exist']\n",
    "            original_price = row['Break Price']\n",
    "            discounted_price = row['Special_Price']\n",
    "            discount_percentage = row['Off']\n",
    "            size = row['size']\n",
    "            summery = row['Description']\n",
    "            type_of_print = row['type_of_print']\n",
    "            publisher_name = row['Publisher']\n",
    "\n",
    "            if not connection.is_connected():\n",
    "                connection.connect()\n",
    "\n",
    "            cursor.execute(\"SELECT id FROM publisher WHERE publisher_name = %s\", (publisher_name,))\n",
    "            result = cursor.fetchone()\n",
    "            if result is not None:\n",
    "                publisher_id = result[0]\n",
    "            else:\n",
    "                publisher_id = None\n",
    "\n",
    "            cursor.execute(\"SELECT id FROM size WHERE size_name = %s\", (size,))\n",
    "            result1 = cursor.fetchone()\n",
    "\n",
    "            if result1 is not None:\n",
    "                size_id = result1[0]\n",
    "            else:\n",
    "                size_id = None\n",
    "\n",
    "            cursor.execute(\"SELECT id FROM summery WHERE summary_text = %s\", (summery,))\n",
    "            result2 = cursor.fetchone()\n",
    "            \n",
    "            if result2 is not None:\n",
    "                summery_id = result2[0]\n",
    "            else:\n",
    "                summery_id = None\n",
    "\n",
    "            cursor.execute(\"SELECT id FROM type_of_print WHERE type_of_print = %s\", (type_of_print,))\n",
    "            result3 = cursor.fetchone()\n",
    "            \n",
    "            if result3 is not None:\n",
    "                type_of_print_id = result3[0]\n",
    "            else:\n",
    "                type_of_print_id = None\n",
    "\n",
    "            cursor.execute(\"INSERT INTO Book (product_name, product_name_eng, isbn, book_code, release_date_sh, release_date_gc, rating, book_pages,print_series, inventory, original_price, discount_price, discount_percent, size_id, summery_id, type_of_print_id, publisher_id) VALUES (%s, %s, %s, %s, %s, %s, %s, %s, %s, %s, %s, %s, %s, %s, %s, %s, %s)\", (persian_title, english_title, isbn, book_code, release_date_sh, release_date_gc, rating, page_count, print_series, inventory, original_price, discounted_price, discount_percentage, size_id, summery_id, type_of_print_id, publisher_id))\n",
    "\n",
    "            connection.commit()\n",
    "\n",
    "except Exception as e:\n",
    "    print(f\"Error: {str(e)}\")\n",
    "\n",
    "finally:\n",
    "    cursor.close()\n",
    "    connection.close()\n"
   ]
  },
  {
   "cell_type": "markdown",
   "source": [
    "## Import data to book_category table\n"
   ],
   "metadata": {
    "collapsed": false
   },
   "id": "e890fe9d03c1faf6"
  },
  {
   "cell_type": "code",
   "execution_count": 145,
   "outputs": [
    {
     "name": "stdout",
     "output_type": "stream",
     "text": [
      "Connected to MySQL database: iranketab_db\n"
     ]
    },
    {
     "ename": "KeyboardInterrupt",
     "evalue": "",
     "output_type": "error",
     "traceback": [
      "\u001B[0;31m---------------------------------------------------------------------------\u001B[0m",
      "\u001B[0;31mKeyboardInterrupt\u001B[0m                         Traceback (most recent call last)",
      "Cell \u001B[0;32mIn[145], line 26\u001B[0m\n\u001B[1;32m     23\u001B[0m                 \u001B[38;5;28;01melse\u001B[39;00m:\n\u001B[1;32m     24\u001B[0m                     book_id \u001B[38;5;241m=\u001B[39m \u001B[38;5;28;01mNone\u001B[39;00m\n\u001B[0;32m---> 26\u001B[0m                 \u001B[43mcursor\u001B[49m\u001B[38;5;241;43m.\u001B[39;49m\u001B[43mexecute\u001B[49m\u001B[43m(\u001B[49m\u001B[38;5;124;43m\"\u001B[39;49m\u001B[38;5;124;43mINSERT INTO book_category (book_id, category_id) VALUES (\u001B[39;49m\u001B[38;5;132;43;01m%s\u001B[39;49;00m\u001B[38;5;124;43m, \u001B[39;49m\u001B[38;5;132;43;01m%s\u001B[39;49;00m\u001B[38;5;124;43m)\u001B[39;49m\u001B[38;5;124;43m\"\u001B[39;49m\u001B[43m,\u001B[49m\u001B[43m \u001B[49m\u001B[43m(\u001B[49m\u001B[43mbook_id\u001B[49m\u001B[43m,\u001B[49m\u001B[43m \u001B[49m\u001B[43mcategory_id\u001B[49m\u001B[43m)\u001B[49m\u001B[43m)\u001B[49m\n\u001B[1;32m     27\u001B[0m                 connection\u001B[38;5;241m.\u001B[39mcommit()\n\u001B[1;32m     29\u001B[0m \u001B[38;5;28;01mexcept\u001B[39;00m \u001B[38;5;167;01mException\u001B[39;00m \u001B[38;5;28;01mas\u001B[39;00m e:\n",
      "File \u001B[0;32m~/anaconda3/envs/quera/lib/python3.9/site-packages/mysql/connector/cursor_cext.py:264\u001B[0m, in \u001B[0;36mCMySQLCursor.execute\u001B[0;34m(self, operation, params, multi)\u001B[0m\n\u001B[1;32m    260\u001B[0m             \u001B[38;5;28;01mraise\u001B[39;00m errors\u001B[38;5;241m.\u001B[39mProgrammingError(\n\u001B[1;32m    261\u001B[0m                 \u001B[38;5;124m\"\u001B[39m\u001B[38;5;124mNot all parameters were used in the SQL statement\u001B[39m\u001B[38;5;124m\"\u001B[39m)\n\u001B[1;32m    263\u001B[0m \u001B[38;5;28;01mtry\u001B[39;00m:\n\u001B[0;32m--> 264\u001B[0m     result \u001B[38;5;241m=\u001B[39m \u001B[38;5;28;43mself\u001B[39;49m\u001B[38;5;241;43m.\u001B[39;49m\u001B[43m_cnx\u001B[49m\u001B[38;5;241;43m.\u001B[39;49m\u001B[43mcmd_query\u001B[49m\u001B[43m(\u001B[49m\u001B[43mstmt\u001B[49m\u001B[43m,\u001B[49m\u001B[43m \u001B[49m\u001B[43mraw\u001B[49m\u001B[38;5;241;43m=\u001B[39;49m\u001B[38;5;28;43mself\u001B[39;49m\u001B[38;5;241;43m.\u001B[39;49m\u001B[43m_raw\u001B[49m\u001B[43m,\u001B[49m\n\u001B[1;32m    265\u001B[0m \u001B[43m                                 \u001B[49m\u001B[43mbuffered\u001B[49m\u001B[38;5;241;43m=\u001B[39;49m\u001B[38;5;28;43mself\u001B[39;49m\u001B[38;5;241;43m.\u001B[39;49m\u001B[43m_buffered\u001B[49m\u001B[43m,\u001B[49m\n\u001B[1;32m    266\u001B[0m \u001B[43m                                 \u001B[49m\u001B[43mraw_as_string\u001B[49m\u001B[38;5;241;43m=\u001B[39;49m\u001B[38;5;28;43mself\u001B[39;49m\u001B[38;5;241;43m.\u001B[39;49m\u001B[43m_raw_as_string\u001B[49m\u001B[43m)\u001B[49m\n\u001B[1;32m    267\u001B[0m \u001B[38;5;28;01mexcept\u001B[39;00m MySQLInterfaceError \u001B[38;5;28;01mas\u001B[39;00m exc:\n\u001B[1;32m    268\u001B[0m     \u001B[38;5;28;01mraise\u001B[39;00m errors\u001B[38;5;241m.\u001B[39mget_mysql_exception(msg\u001B[38;5;241m=\u001B[39mexc\u001B[38;5;241m.\u001B[39mmsg, errno\u001B[38;5;241m=\u001B[39mexc\u001B[38;5;241m.\u001B[39merrno,\n\u001B[1;32m    269\u001B[0m                                      sqlstate\u001B[38;5;241m=\u001B[39mexc\u001B[38;5;241m.\u001B[39msqlstate)\n",
      "File \u001B[0;32m~/anaconda3/envs/quera/lib/python3.9/site-packages/mysql/connector/connection_cext.py:470\u001B[0m, in \u001B[0;36mCMySQLConnection.cmd_query\u001B[0;34m(self, query, raw, buffered, raw_as_string)\u001B[0m\n\u001B[1;32m    468\u001B[0m     \u001B[38;5;28;01mif\u001B[39;00m \u001B[38;5;129;01mnot\u001B[39;00m \u001B[38;5;28misinstance\u001B[39m(query, \u001B[38;5;28mbytes\u001B[39m):\n\u001B[1;32m    469\u001B[0m         query \u001B[38;5;241m=\u001B[39m query\u001B[38;5;241m.\u001B[39mencode(\u001B[38;5;124m'\u001B[39m\u001B[38;5;124mutf-8\u001B[39m\u001B[38;5;124m'\u001B[39m)\n\u001B[0;32m--> 470\u001B[0m     \u001B[38;5;28;43mself\u001B[39;49m\u001B[38;5;241;43m.\u001B[39;49m\u001B[43m_cmysql\u001B[49m\u001B[38;5;241;43m.\u001B[39;49m\u001B[43mquery\u001B[49m\u001B[43m(\u001B[49m\u001B[43mquery\u001B[49m\u001B[43m,\u001B[49m\n\u001B[1;32m    471\u001B[0m \u001B[43m                       \u001B[49m\u001B[43mraw\u001B[49m\u001B[38;5;241;43m=\u001B[39;49m\u001B[43mraw\u001B[49m\u001B[43m,\u001B[49m\u001B[43m \u001B[49m\u001B[43mbuffered\u001B[49m\u001B[38;5;241;43m=\u001B[39;49m\u001B[43mbuffered\u001B[49m\u001B[43m,\u001B[49m\n\u001B[1;32m    472\u001B[0m \u001B[43m                       \u001B[49m\u001B[43mraw_as_string\u001B[49m\u001B[38;5;241;43m=\u001B[39;49m\u001B[43mraw_as_string\u001B[49m\u001B[43m)\u001B[49m\n\u001B[1;32m    473\u001B[0m \u001B[38;5;28;01mexcept\u001B[39;00m MySQLInterfaceError \u001B[38;5;28;01mas\u001B[39;00m exc:\n\u001B[1;32m    474\u001B[0m     \u001B[38;5;28;01mraise\u001B[39;00m errors\u001B[38;5;241m.\u001B[39mget_mysql_exception(exc\u001B[38;5;241m.\u001B[39merrno, msg\u001B[38;5;241m=\u001B[39mexc\u001B[38;5;241m.\u001B[39mmsg,\n\u001B[1;32m    475\u001B[0m                                      sqlstate\u001B[38;5;241m=\u001B[39mexc\u001B[38;5;241m.\u001B[39msqlstate)\n",
      "\u001B[0;31mKeyboardInterrupt\u001B[0m: "
     ]
    }
   ],
   "source": [
    "connection = create_connection(db_host, db_user, db_password, db_name)\n",
    "cursor = connection.cursor(buffered=True)\n",
    "try:\n",
    "    with open('Book.csv', 'r') as csvfile:\n",
    "        csvreader = csv.DictReader(csvfile)\n",
    "        for row in csvreader:\n",
    "            book_name = row['Persian Title']\n",
    "            cat = row['Category']\n",
    "            category = category.split(',')\n",
    "            for cat in category:\n",
    "                cursor.execute(\"SELECT id FROM category WHERE category_name = %s\", (cat,))\n",
    "                result = cursor.fetchone()\n",
    "                if result is not None:\n",
    "                    category_id = result[0]\n",
    "                else:\n",
    "                    category_id = None\n",
    "                    \n",
    "            for book_name in book_code:\n",
    "                cursor.execute(\"SELECT book_id FROM Book WHERE product_name = %s\", (book_id,))\n",
    "                result = cursor.fetchone()\n",
    "                if result is not None:\n",
    "                    book_id = result[0]\n",
    "                else:\n",
    "                    book_id = None\n",
    "                \n",
    "                cursor.execute(\"INSERT INTO book_category (book_id, category_id) VALUES (%s, %s)\", (book_id, category_id))\n",
    "                connection.commit()\n",
    "\n",
    "except Exception as e:\n",
    "    print(f\"Error: {str(e)}\")\n",
    "\n",
    "finally:\n",
    "    cursor.close()\n",
    "    connection.close()"
   ],
   "metadata": {
    "collapsed": false,
    "ExecuteTime": {
     "end_time": "2023-10-01T16:20:10.353415Z",
     "start_time": "2023-10-01T16:19:57.089804Z"
    }
   },
   "id": "664e2c9a5c01951d"
  },
  {
   "cell_type": "code",
   "execution_count": 184,
   "outputs": [],
   "source": [
    "df = pd.read_csv('Book.csv', usecols=['Persian Title', 'Category'])"
   ],
   "metadata": {
    "collapsed": false,
    "ExecuteTime": {
     "end_time": "2023-10-01T16:36:13.711899Z",
     "start_time": "2023-10-01T16:36:12.483642Z"
    }
   },
   "id": "b8afe4a5104d38a6"
  },
  {
   "cell_type": "code",
   "execution_count": 223,
   "outputs": [
    {
     "data": {
      "text/plain": "                           Persian Title                    Category\n0                         کتاب جزء از کل  جایزه ی ان اس دبلیو پرایمر\n1                         کتاب جزء از کل             ادبیات استرالیا\n2                         کتاب جزء از کل              ادبیات داستانی\n3                         کتاب جزء از کل                داستان فلسفی\n4                         کتاب جزء از کل                ادبیات معاصر\n...                                  ...                         ...\n580976              کتاب روان شناسی بازی              روانشناسی کودک\n580977  کتاب فرمانروایی هخامنشیان بر مصر             دهه 2010 میلادی\n580978  کتاب فرمانروایی هخامنشیان بر مصر                      تاریخی\n580979  کتاب فرمانروایی هخامنشیان بر مصر                ادبیات ایران\n580980  کتاب فرمانروایی هخامنشیان بر مصر                 تاریخ ایران\n\n[580981 rows x 2 columns]",
      "text/html": "<div>\n<style scoped>\n    .dataframe tbody tr th:only-of-type {\n        vertical-align: middle;\n    }\n\n    .dataframe tbody tr th {\n        vertical-align: top;\n    }\n\n    .dataframe thead th {\n        text-align: right;\n    }\n</style>\n<table border=\"1\" class=\"dataframe\">\n  <thead>\n    <tr style=\"text-align: right;\">\n      <th></th>\n      <th>Persian Title</th>\n      <th>Category</th>\n    </tr>\n  </thead>\n  <tbody>\n    <tr>\n      <th>0</th>\n      <td>کتاب جزء از کل</td>\n      <td>جایزه ی ان اس دبلیو پرایمر</td>\n    </tr>\n    <tr>\n      <th>1</th>\n      <td>کتاب جزء از کل</td>\n      <td>ادبیات استرالیا</td>\n    </tr>\n    <tr>\n      <th>2</th>\n      <td>کتاب جزء از کل</td>\n      <td>ادبیات داستانی</td>\n    </tr>\n    <tr>\n      <th>3</th>\n      <td>کتاب جزء از کل</td>\n      <td>داستان فلسفی</td>\n    </tr>\n    <tr>\n      <th>4</th>\n      <td>کتاب جزء از کل</td>\n      <td>ادبیات معاصر</td>\n    </tr>\n    <tr>\n      <th>...</th>\n      <td>...</td>\n      <td>...</td>\n    </tr>\n    <tr>\n      <th>580976</th>\n      <td>کتاب روان شناسی بازی</td>\n      <td>روانشناسی کودک</td>\n    </tr>\n    <tr>\n      <th>580977</th>\n      <td>کتاب فرمانروایی هخامنشیان بر مصر</td>\n      <td>دهه 2010 میلادی</td>\n    </tr>\n    <tr>\n      <th>580978</th>\n      <td>کتاب فرمانروایی هخامنشیان بر مصر</td>\n      <td>تاریخی</td>\n    </tr>\n    <tr>\n      <th>580979</th>\n      <td>کتاب فرمانروایی هخامنشیان بر مصر</td>\n      <td>ادبیات ایران</td>\n    </tr>\n    <tr>\n      <th>580980</th>\n      <td>کتاب فرمانروایی هخامنشیان بر مصر</td>\n      <td>تاریخ ایران</td>\n    </tr>\n  </tbody>\n</table>\n<p>580981 rows × 2 columns</p>\n</div>"
     },
     "execution_count": 223,
     "metadata": {},
     "output_type": "execute_result"
    }
   ],
   "source": [
    "df = pd.read_csv('Book.csv', usecols=['Persian Title', 'Category'])\n",
    "\n",
    "# Split the 'Category' column by comma and explode\n",
    "df['Category'] = df['Category'].str.split(',')\n",
    "df = df.explode('Category')\n",
    "\n",
    "# Remove extra characters from the 'Category' column\n",
    "df['Category'] = df['Category'].str.replace('[', '').str.replace(']', '').str.replace(\"'\", '')\n",
    "\n",
    "# Reset the index of the DataFrame\n",
    "df.reset_index(drop=True, inplace=True)\n",
    "\n",
    "\n",
    "df.to_csv('category.csv', index=False)\n",
    "\n"
   ],
   "metadata": {
    "collapsed": false,
    "ExecuteTime": {
     "end_time": "2023-10-01T17:04:00.111149Z",
     "start_time": "2023-10-01T17:03:57.852262Z"
    }
   },
   "id": "3a60a2d03a2d8395"
  },
  {
   "cell_type": "code",
   "execution_count": 245,
   "outputs": [
    {
     "name": "stdout",
     "output_type": "stream",
     "text": [
      "Connected to MySQL database: iranketab_db\n"
     ]
    }
   ],
   "source": [
    "connection = create_connection(db_host, db_user, db_password, db_name)\n",
    "cursor = connection.cursor(buffered=True)\n",
    "\n",
    "with open('category.csv', 'r') as csvfile:\n",
    "    csvreader = csv.DictReader(csvfile)\n",
    "    for row in csvreader:\n",
    "        title = row['Persian Title']\n",
    "        cat1 = row['Category']\n",
    "        categories = cat1.split(',')  # Split the category string into a list\n",
    "        \n",
    "        for cat in categories:\n",
    "            cursor.execute(\"SELECT id FROM category WHERE category_name = %s\", (cat.strip(),))  # Use strip() to remove any leading/trailing spaces\n",
    "            result = cursor.fetchone()\n",
    "            if result is not None:  # Check if a result was found\n",
    "                category_id = result[0]\n",
    "            else:\n",
    "                category_id = None\n",
    "                continue\n",
    "        \n",
    "        cursor.execute(\"SELECT book_id FROM book WHERE product_name = %s\", (title,))\n",
    "        result = cursor.fetchone()\n",
    "        if result is not None:  # Check if a result was found\n",
    "            book_id = result[0]\n",
    "        else:\n",
    "            book_id = None\n",
    "            continue\n",
    "\n",
    "        cursor.execute(\"INSERT INTO book_category (book_id, category_id) VALUES (%s, %s)\", (book_id, category_id))\n",
    "        connection.commit()\n",
    "\n",
    "connection.close()\n"
   ],
   "metadata": {
    "collapsed": false,
    "ExecuteTime": {
     "end_time": "2023-10-01T17:28:13.762675Z",
     "start_time": "2023-10-01T17:17:54.481578Z"
    }
   },
   "id": "7c3575a90b1177c3"
  },
  {
   "cell_type": "markdown",
   "source": [
    "## Import data to book_author table"
   ],
   "metadata": {
    "collapsed": false
   },
   "id": "e0f842595b14a7b5"
  },
  {
   "cell_type": "code",
   "execution_count": 249,
   "outputs": [],
   "source": [
    "df_author = pd.read_csv('Book.csv', usecols=['Persian Title','Writer'])\n",
    "df_author['Writer'] = df['Writer'].str.split(',')\n",
    "df_author = df.explode('Writer')\n",
    "\n",
    "# Remove extra characters from the 'Category' column\n",
    "df_author['Writer'] = df['Writer'].str.replace('[', '').str.replace(']', '').str.replace(\"'\", '')\n",
    "\n",
    "# Reset the index of the DataFrame\n",
    "df_author.reset_index(drop=True, inplace=True)\n",
    "df.to_csv('author.csv', index=False)\n"
   ],
   "metadata": {
    "collapsed": false,
    "ExecuteTime": {
     "end_time": "2023-10-01T17:42:08.132092Z",
     "start_time": "2023-10-01T17:42:06.039728Z"
    }
   },
   "id": "e57e6cc3c077ddca"
  },
  {
   "cell_type": "code",
   "execution_count": 250,
   "outputs": [
    {
     "name": "stdout",
     "output_type": "stream",
     "text": [
      "Connected to MySQL database: iranketab_db\n"
     ]
    }
   ],
   "source": [
    "connection = create_connection(db_host, db_user, db_password, db_name)\n",
    "cursor = connection.cursor(buffered=True)\n",
    "\n",
    "with open('author.csv', 'r') as csvfile:\n",
    "    csvreader = csv.DictReader(csvfile)\n",
    "    for row in csvreader:\n",
    "        title = row['Persian Title']\n",
    "        author1 = row['Writer']\n",
    "        authors = author1.split(',')  # Split the category string into a list\n",
    "        \n",
    "        for author in authors:\n",
    "            cursor.execute(\"SELECT id FROM person WHERE person_name = %s\", (author.strip(),))  # Use strip() to remove any leading/trailing spaces\n",
    "            result = cursor.fetchone()\n",
    "            if result is not None:  # Check if a result was found\n",
    "                author_id = result[0]\n",
    "            else:\n",
    "                author_id = None\n",
    "                continue\n",
    "        \n",
    "        cursor.execute(\"SELECT book_id FROM book WHERE product_name = %s\", (title,))\n",
    "        result = cursor.fetchone()\n",
    "        if result is not None:  # Check if a result was found\n",
    "            book_id = result[0]\n",
    "        else:\n",
    "            book_id = None\n",
    "            continue\n",
    "\n",
    "        cursor.execute(\"INSERT INTO book_author (book_id, person_id) VALUES (%s, %s)\", (book_id, author_id))\n",
    "        connection.commit()"
   ],
   "metadata": {
    "collapsed": false,
    "ExecuteTime": {
     "end_time": "2023-10-01T18:02:26.596112Z",
     "start_time": "2023-10-01T17:44:21.644781Z"
    }
   },
   "id": "ae008aa14d7b4814"
  },
  {
   "cell_type": "markdown",
   "source": [
    "## Import data to book_translator table"
   ],
   "metadata": {
    "collapsed": false
   },
   "id": "d6c14fd1accb6023"
  },
  {
   "cell_type": "code",
   "execution_count": 259,
   "outputs": [
    {
     "data": {
      "text/plain": "                   translator                     Persian Title\n0            ['پیمان خاکسار']                    کتاب جزء از کل\n1            ['پیمان خاکسار']      جزء از کل (مجموعه برگ و نوا)\n2            ['گلناز سهرابی']                         جزء از کل\n3            ['گلناز سهرابی']                         جزء از کل\n4             ['مهدی غبرایی']                  کتاب بادبادک باز\n...                       ...                               ...\n103835                    NaN            کتاب اسرار عرفانی نماز\n103836                    NaN                      کتاب شاهنامک\n103837  ['محبوبه میرفندرسکی']                      کتاب خواهران\n103838                    NaN              کتاب روان شناسی بازی\n103839                    NaN  کتاب فرمانروایی هخامنشیان بر مصر\n\n[103840 rows x 2 columns]",
      "text/html": "<div>\n<style scoped>\n    .dataframe tbody tr th:only-of-type {\n        vertical-align: middle;\n    }\n\n    .dataframe tbody tr th {\n        vertical-align: top;\n    }\n\n    .dataframe thead th {\n        text-align: right;\n    }\n</style>\n<table border=\"1\" class=\"dataframe\">\n  <thead>\n    <tr style=\"text-align: right;\">\n      <th></th>\n      <th>translator</th>\n      <th>Persian Title</th>\n    </tr>\n  </thead>\n  <tbody>\n    <tr>\n      <th>0</th>\n      <td>['پیمان خاکسار']</td>\n      <td>کتاب جزء از کل</td>\n    </tr>\n    <tr>\n      <th>1</th>\n      <td>['پیمان خاکسار']</td>\n      <td>جزء از کل (مجموعه برگ و نوا)</td>\n    </tr>\n    <tr>\n      <th>2</th>\n      <td>['گلناز سهرابی']</td>\n      <td>جزء از کل</td>\n    </tr>\n    <tr>\n      <th>3</th>\n      <td>['گلناز سهرابی']</td>\n      <td>جزء از کل</td>\n    </tr>\n    <tr>\n      <th>4</th>\n      <td>['مهدی غبرایی']</td>\n      <td>کتاب بادبادک باز</td>\n    </tr>\n    <tr>\n      <th>...</th>\n      <td>...</td>\n      <td>...</td>\n    </tr>\n    <tr>\n      <th>103835</th>\n      <td>NaN</td>\n      <td>کتاب اسرار عرفانی نماز</td>\n    </tr>\n    <tr>\n      <th>103836</th>\n      <td>NaN</td>\n      <td>کتاب شاهنامک</td>\n    </tr>\n    <tr>\n      <th>103837</th>\n      <td>['محبوبه میرفندرسکی']</td>\n      <td>کتاب خواهران</td>\n    </tr>\n    <tr>\n      <th>103838</th>\n      <td>NaN</td>\n      <td>کتاب روان شناسی بازی</td>\n    </tr>\n    <tr>\n      <th>103839</th>\n      <td>NaN</td>\n      <td>کتاب فرمانروایی هخامنشیان بر مصر</td>\n    </tr>\n  </tbody>\n</table>\n<p>103840 rows × 2 columns</p>\n</div>"
     },
     "execution_count": 259,
     "metadata": {},
     "output_type": "execute_result"
    }
   ],
   "source": [
    "df_translator = pd.read_csv('Book.csv', usecols=['Persian Title', 'translator'])\n",
    "df_translator"
   ],
   "metadata": {
    "collapsed": false,
    "ExecuteTime": {
     "end_time": "2023-10-01T18:51:32.651356Z",
     "start_time": "2023-10-01T18:51:31.073455Z"
    }
   },
   "id": "684e01f5724dd439"
  },
  {
   "cell_type": "code",
   "execution_count": 262,
   "outputs": [],
   "source": [
    "df_translator['translator'] = df_translator['translator'].str.split(',')\n",
    "df_translator = df_translator.explode('translator')\n",
    "\n",
    "# Remove extra characters from the 'Category' column\n",
    "df_translator['translator'] = df_translator['translator'].str.replace('[', '').str.replace(']', '').str.replace(\"'\", '')\n",
    "\n",
    "# Reset the index of the DataFrame\n",
    "df_translator.reset_index(drop=True, inplace=True)\n",
    "df_translator.to_csv('translator.csv', index=False)"
   ],
   "metadata": {
    "collapsed": false,
    "ExecuteTime": {
     "end_time": "2023-10-01T18:52:45.482321Z",
     "start_time": "2023-10-01T18:52:44.991433Z"
    }
   },
   "id": "edc7e758ef5f05d"
  },
  {
   "cell_type": "code",
   "execution_count": 263,
   "outputs": [
    {
     "name": "stdout",
     "output_type": "stream",
     "text": [
      "Connected to MySQL database: iranketab_db\n"
     ]
    }
   ],
   "source": [
    "connection = create_connection(db_host, db_user, db_password, db_name)\n",
    "cursor = connection.cursor(buffered=True)\n",
    "\n",
    "with open('translator.csv', 'r') as csvfile:\n",
    "    csvreader = csv.DictReader(csvfile)\n",
    "    for row in csvreader:\n",
    "        title = row['Persian Title']\n",
    "        translator1 = row['translator']\n",
    "        translators = translator1.split(',')  # Split the category string into a list\n",
    "        \n",
    "        for translator in translators:\n",
    "            cursor.execute(\"SELECT id FROM person WHERE person_name = %s\", (translator.strip(),))  # Use strip() to remove any leading/trailing spaces\n",
    "            result = cursor.fetchone()\n",
    "            if result is not None:  # Check if a result was found\n",
    "                translator_id = result[0]\n",
    "            else:\n",
    "                translator_id = None\n",
    "                continue\n",
    "        \n",
    "        cursor.execute(\"SELECT book_id FROM book WHERE product_name = %s\", (title,))\n",
    "        result = cursor.fetchone()\n",
    "        if result is not None:  # Check if a result was found\n",
    "            book_id = result[0]\n",
    "        else:\n",
    "            book_id = None\n",
    "            continue\n",
    "\n",
    "        cursor.execute(\"INSERT INTO book_translator (book_id, person_id) VALUES (%s, %s)\", (book_id, translator_id))\n",
    "        connection.commit()"
   ],
   "metadata": {
    "collapsed": false,
    "ExecuteTime": {
     "end_time": "2023-10-01T19:10:53.264889Z",
     "start_time": "2023-10-01T18:53:20.355779Z"
    }
   },
   "id": "e0a711072907f4d0"
  },
  {
   "cell_type": "markdown",
   "source": [
    "## Debuging"
   ],
   "metadata": {
    "collapsed": false
   },
   "id": "1fde4a8bbab377db"
  },
  {
   "cell_type": "code",
   "execution_count": 9,
   "outputs": [
    {
     "name": "stdout",
     "output_type": "stream",
     "text": [
      "Connected to MySQL database: iranketab_db\n"
     ]
    }
   ],
   "source": [
    "connection = create_connection(db_host, db_user, db_password, db_name)\n",
    "cursor = connection.cursor()\n",
    "\n",
    "cursor.execute(\"UPDATE book SET release_date_gc = null WHERE release_date_gc > 2023\")\n",
    "connection.commit()"
   ],
   "metadata": {
    "collapsed": false,
    "ExecuteTime": {
     "end_time": "2023-10-02T14:26:14.467561Z",
     "start_time": "2023-10-02T14:26:14.226446Z"
    }
   },
   "id": "5161b281ed70d8c6"
  },
  {
   "cell_type": "code",
   "execution_count": 10,
   "outputs": [
    {
     "name": "stdout",
     "output_type": "stream",
     "text": [
      "Connected to MySQL database: iranketab_db\n"
     ]
    }
   ],
   "source": [
    "connection = create_connection(db_host, db_user, db_password, db_name)\n",
    "cursor = connection.cursor()\n",
    "\n",
    "cursor.execute(\"UPDATE book SET release_date_sh = null WHERE release_date_sh > 1402\")\n",
    "connection.commit()"
   ],
   "metadata": {
    "collapsed": false,
    "ExecuteTime": {
     "end_time": "2023-10-02T14:27:21.015178Z",
     "start_time": "2023-10-02T14:27:20.848410Z"
    }
   },
   "id": "75bf0053d9a26fdf"
  },
  {
   "cell_type": "code",
   "execution_count": 13,
   "outputs": [
    {
     "name": "stdout",
     "output_type": "stream",
     "text": [
      "Connected to MySQL database: iranketab_db\n"
     ]
    }
   ],
   "source": [
    "connection = create_connection(db_host, db_user, db_password, db_name)\n",
    "cursor = connection.cursor()\n",
    "\n",
    "cursor.execute(\"UPDATE book SET book_pages = book_pages / 10 where book_id Between 51113 AND 68116;\")\n",
    "connection.commit()"
   ],
   "metadata": {
    "collapsed": false,
    "ExecuteTime": {
     "end_time": "2023-10-02T15:41:49.052850Z",
     "start_time": "2023-10-02T15:41:47.752673Z"
    }
   },
   "id": "3e3f368923331bd3"
  }
 ],
 "metadata": {
  "kernelspec": {
   "display_name": "Python 3 (ipykernel)",
   "language": "python",
   "name": "python3"
  },
  "language_info": {
   "codemirror_mode": {
    "name": "ipython",
    "version": 3
   },
   "file_extension": ".py",
   "mimetype": "text/x-python",
   "name": "python",
   "nbconvert_exporter": "python",
   "pygments_lexer": "ipython3",
   "version": "3.9.18"
  }
 },
 "nbformat": 4,
 "nbformat_minor": 5
}
