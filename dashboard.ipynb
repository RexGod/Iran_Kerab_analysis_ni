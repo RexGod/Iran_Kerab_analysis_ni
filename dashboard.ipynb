{
 "cells": [
  {
   "cell_type": "code",
   "execution_count": 14,
   "metadata": {},
   "outputs": [],
   "source": [
    "import pandas as pd\n",
    "import numpy as np\n",
    "from matplotlib import pyplot as plt\n"
   ]
  },
  {
   "cell_type": "code",
   "execution_count": 15,
   "metadata": {},
   "outputs": [],
   "source": [
    "import mysql.connector"
   ]
  },
  {
   "cell_type": "code",
   "execution_count": null,
   "metadata": {},
   "outputs": [],
   "source": [
    "mydb = mysql.connector.Connect(\n",
    "    host = 'localhost'\n",
    "    user = ''\n",
    "    password = ''\n",
    ")"
   ]
  },
  {
   "cell_type": "code",
   "execution_count": null,
   "metadata": {},
   "outputs": [],
   "source": []
  },
  {
   "cell_type": "markdown",
   "metadata": {},
   "source": [
    "بخش اول: نمودارهای تحلیلی"
   ]
  },
  {
   "cell_type": "markdown",
   "metadata": {},
   "source": [
    "1) "
   ]
  },
  {
   "cell_type": "code",
   "execution_count": null,
   "metadata": {},
   "outputs": [],
   "source": [
    "sql1 = \"Select count(book_id) category  from book_category inner join category on book_category.category_id=category.id group by category_id\"\n",
    "df_book1 = pd.read_sql_query(sql1, mydb)\n"
   ]
  },
  {
   "cell_type": "markdown",
   "metadata": {},
   "source": [
    "2."
   ]
  },
  {
   "cell_type": "code",
   "execution_count": null,
   "metadata": {},
   "outputs": [],
   "source": [
    "sql2 = \"Select count(id) publisher_name as numbook from book inner join publisher on book.publisher_id=publisher.id group by publisher_id order by numbook DES Limit 10\"\n",
    "df_book2 = pd.read_sql_query(sql2, mydb)"
   ]
  },
  {
   "cell_type": "markdown",
   "metadata": {},
   "source": [
    "3."
   ]
  },
  {
   "cell_type": "code",
   "execution_count": null,
   "metadata": {},
   "outputs": [],
   "source": [
    "sql3 = \"Select count(id) from book group by release_date_sh order by release_date_sh ASC\"\n",
    "df_book3 = pd.read_sql_query(sql3, mydb)"
   ]
  },
  {
   "cell_type": "markdown",
   "metadata": {},
   "source": [
    "4."
   ]
  },
  {
   "cell_type": "code",
   "execution_count": null,
   "metadata": {},
   "outputs": [],
   "source": [
    "sql4 = \"Select person_name count(book_id) As booknumber from book_author inner join person on book_author.person_id=person.id group by person_id order by booknumber DEC Limit 10\"\n",
    "df_book4 = pd.read_sql_query(sql4, mydb)"
   ]
  },
  {
   "cell_type": "markdown",
   "metadata": {},
   "source": [
    "5."
   ]
  },
  {
   "cell_type": "code",
   "execution_count": null,
   "metadata": {},
   "outputs": [],
   "source": [
    "sql5 = \"Select person_name count(book_id) As booknumber from book_translator inner join person on book_translator.person_id=person.id group by person_id order by booknumber DEC Limit 10\"\n",
    "df_book5 = pd.read_sql_query(sql5, mydb)"
   ]
  },
  {
   "cell_type": "markdown",
   "metadata": {},
   "source": [
    "6."
   ]
  },
  {
   "cell_type": "code",
   "execution_count": null,
   "metadata": {},
   "outputs": [],
   "source": [
    "# Scatter Plot:\n",
    "# release date sh? or gc??\n",
    "sql6 = \"Select release_date_sh page_count from book\"\n",
    "df_book6 = pd.read_sql_query(sql6, mydb)"
   ]
  },
  {
   "cell_type": "markdown",
   "metadata": {},
   "source": [
    "7."
   ]
  },
  {
   "cell_type": "code",
   "execution_count": null,
   "metadata": {},
   "outputs": [],
   "source": [
    "# Scatter Plot:\n",
    "# release year sh or gc??\n",
    "sql7 = \"Select release_date_sh orginal_price from book\"\n",
    "df_book7 = pd.read_sql_query(sql7, mydb)"
   ]
  },
  {
   "cell_type": "markdown",
   "metadata": {},
   "source": [
    "8."
   ]
  },
  {
   "cell_type": "code",
   "execution_count": 16,
   "metadata": {},
   "outputs": [],
   "source": [
    "# Scatter Plot:\n",
    "sql8 = \"Select original_price discount_price rating from book\"\n",
    "df_book8 = pd.read_sql_query(sql8, mydb)"
   ]
  },
  {
   "cell_type": "markdown",
   "metadata": {},
   "source": [
    "9."
   ]
  },
  {
   "cell_type": "code",
   "execution_count": null,
   "metadata": {},
   "outputs": [],
   "source": [
    "sql9 = \"Select count(id) size_name from book inner join size on book.size_id=size.id group by size_id\"\n",
    "df_book9 = pd.read_sql_query(sql9, mydb)\n"
   ]
  },
  {
   "cell_type": "markdown",
   "metadata": {},
   "source": [
    "تحلیل نمودارهای بخش اول:"
   ]
  },
  {
   "cell_type": "markdown",
   "metadata": {},
   "source": [
    "بخش دوم: نمودارهای تعاملی (جستجوی پیشرفته)"
   ]
  },
  {
   "cell_type": "markdown",
   "metadata": {},
   "source": []
  },
  {
   "cell_type": "code",
   "execution_count": 21,
   "metadata": {},
   "outputs": [],
   "source": [
    "# UI , for Filtering books\n",
    "import streamlit as Strm\n",
    "#"
   ]
  },
  {
   "cell_type": "code",
   "execution_count": 23,
   "metadata": {},
   "outputs": [],
   "source": [
    "# Filter params:\n",
    "book_name = \"\"\n",
    "author_name = \"\"\n",
    "has_translator = 0 # 1\n",
    "book_size = 0 # num size_id\n",
    "book_type_print = 0 # num type_of_print_id\n",
    "book_publisher = \"\"\n",
    "book_inventory = 1 # 0\n",
    "# price :\n",
    "min_price = 0\n",
    "max_price = 1\n",
    "# pages:\n",
    "min_page_num = 0\n",
    "max_page_num = 1\n",
    "# print num:\n",
    "min_print_num = 0\n",
    "max_print_num = 1\n",
    "# rating :\n",
    "min_rate = 0\n",
    "max_rate = 1\n",
    "\n"
   ]
  },
  {
   "cell_type": "code",
   "execution_count": 25,
   "metadata": {},
   "outputs": [],
   "source": [
    "dynamic_sql = \"SELECT * from \"\\\n",
    "\"(SELECT * from\"\\\n",
    "\"(SELECT * from\"\\\n",
    "\"(SELECT * from\"\\\n",
    "\"(SELECT *  from book where (discount_price>=min_price and discount_price<=max_price and rating>=min_rate and rating<=max_rate and print_series>=min_print_num and print_series<=max_print_num and page_count>=min_page_num and page_count<=max_page_num))\"\\\n",
    "\"where (size_id=book_size and type_of_print=book_type_print and inventory=book_inventory)) As table1 \"\\\n",
    "\"inner join book_author on table1.id=book_author.book_id \"\\\n",
    "\"inner join person on book_author.person_id=person.id where (author_name in person_name)) As table2 \"\\\n",
    "\"inner join publisher on table2.publisher_id=publisher.id where (book_publisher in publisher_name)) \"\\\n",
    "\"where (book_name in product_name)\"\n",
    "\n",
    "dynamic_df = pd.read_sql_query(dynamic_sql, mydb)\n"
   ]
  },
  {
   "cell_type": "markdown",
   "metadata": {},
   "source": [
    "حالا نمایش دیتافریم ساخته‌شده برای کاربر: "
   ]
  },
  {
   "cell_type": "code",
   "execution_count": null,
   "metadata": {},
   "outputs": [],
   "source": []
  },
  {
   "cell_type": "markdown",
   "metadata": {},
   "source": [
    "بخش سوم: تحلیل بیشتر"
   ]
  },
  {
   "cell_type": "markdown",
   "metadata": {},
   "source": [
    "به صورت کلی اگر هزینه‌های مربوط به دستمزد نویسنده یا مترجم، هزینه‌های اداری، و مجوز را کنار بگذاریم، اصلی‌ترین هزینه چاپ یک کتاب مربوط به چاپ آن است. در نتیجه اگر قیمت با تخفیف یک کتاب را بر تعداد صفحه آن تقسیم کنیم، میانگین درآمد ناشر بر روی هر صفحه آن کتاب بدست می‌آید. هزینه چاپ هر صفحه به قطع آن کتاب بستگی دارد و همچنین به نوع جلد و کیفیت کاغذ بستگی دارد. در اینجا دو مورد اول را در اختیار داریم. در این بخش به صورت کلی به دنبال آن هستیم از یک سو با داشتن میزان محبوبیت کتاب که اساسی‌ترین معیار آن امتیاز دریافتی است و از سوی دیگر قیمت فروش بر هر صفحه، بهترین ژانر و نوع کتاب را با توجه به شرایط و ویژگی‌های یک ناشر مشخص کنیم. در واقع تصویری به ناشر ارائه دهیم که تغییرات قیمت کتاب نسبت به امتیاز و دیگر معیارهای محبوبیت کتاب بسته به تغییر دسته‌بندی محتوایی کتاب، نوع جلد، قطع، خارجی‌بودن یا نبودن، ناشر و تعداد تجدید چاپ؛ چگونه تغییر می‌کند.  "
   ]
  },
  {
   "cell_type": "markdown",
   "metadata": {},
   "source": [
    "در اولین گام در این مسیر، سه تحلیل زیر را بر پایه داده‌های استخراج‌شده از سایت ایران کتاب ارائه می‌دهیم. تحلیل اول و دوم به دنبال بررسی ناهمگنی تغییر رفتارهای قیمتی نسبت به امتیاز در انواع قطع، جلد و دسته‌بندی است. در تحلیل سوم با الگوگیری از معیار تمرکز صنایع و سهم هر ناشر در هر یک از دسته‌بندی‌های موضوعی کتاب، میزان رقابتی‌بودن هر موضوع را بدست آورده و اثر آن بر میانگین قیمت هر صفحه کتاب در آن موضوع را مشاهده کنیم. "
   ]
  },
  {
   "cell_type": "markdown",
   "metadata": {},
   "source": [
    "تحلیل اول:"
   ]
  },
  {
   "cell_type": "markdown",
   "metadata": {},
   "source": [
    "متغیر قیمت تقسیم بر تعداد صفحه با تغییر مقدار امتیاز در هر یک از انواع قطع چگونه تفاوت می‌کند؟ به عبارتی آیا تغییر نوع قطع مي‌تواند موجب تغییر روند همبستگی این دو متغیر شود؟"
   ]
  },
  {
   "cell_type": "code",
   "execution_count": null,
   "metadata": {},
   "outputs": [],
   "source": [
    "#\n",
    "sen_sql1 = \"Select discount_price page_count size_id type_of_print_id rating from book inner join size on book.size_id=size.id inner join type_of_print on book.type_of_print_id=type_of_print.id where inventory=1 \"\n",
    "sen_df1 = pd.read_sql_query(sen_sql1, mydb)\n",
    "sen_df1['priceofonepage'] = sen_df1['discount_price']/sen_df1['page_count']\n",
    "\n",
    "# fig1:\n",
    " #priceofonepage on rating in 9 size kind!\n",
    "# fig2:\n",
    " # priceofonepage on rating in 9 type_of_print !\n",
    "# fig3:\n",
    "# combine fig1 & fig3: 9*9 ?\n"
   ]
  },
  {
   "cell_type": "markdown",
   "metadata": {},
   "source": [
    "تحلیل دوم:"
   ]
  },
  {
   "cell_type": "markdown",
   "metadata": {},
   "source": [
    "در اینجا بررسی می‌کنیم آیا تغییرات قیمت نسبت به امتیاز در کتب ترجمه‌شده و کتب غیرترجمه‌شده یکسان است؟ ه \n",
    "از سوی دیگر دیگر در هرر بازه قیمتی، مقدار میانگین امتیاز هر یک از کتاب‌های ترجمه‌شده و نشده چگونه است؟"
   ]
  },
  {
   "cell_type": "code",
   "execution_count": 26,
   "metadata": {},
   "outputs": [],
   "source": [
    "#\n",
    "sen_sql2 = \"Select discount_price page_count person_id Left join book_translator on book.id=book_translator.book_id where inentory=1\"\n",
    "sen_df2 = pd.read_sql_query(sen_sql2, mydb)\n",
    "sen_df2['priceofonepage'] = sen_df2['discount_price']/sen_df2['page_count']\n",
    "\n",
    "#sen_df2['translate']\n",
    "\n",
    "# fig1:\n",
    "\n",
    "# fig2:\n"
   ]
  },
  {
   "cell_type": "markdown",
   "metadata": {},
   "source": [
    "تحلیل سوم:"
   ]
  },
  {
   "cell_type": "markdown",
   "metadata": {},
   "source": [
    "در این بخش کتاب‌ها در ۱۲ دسته اصلی موضوعی، در نظر می‌گیریم و در هر موضوع، تعداد سهم هر ناشر از کل کتاب‌های آن موضوع را بدست می‌آوریم. آنگاه سهم هر ناشر را به توان ۲ رسانده و مقدار بدست آمده برای همه ناشرها را در هر موضوع جمع می کنیم. با این کار معیاری مشابه معیار سنجش میزان تمرکز در صنعت بدست می‌آید که نشانگر میزان رقابت یا انحصار در هر یک از موضوعات است. در واقع هر چه سهم یک یا چند ناشر محدود از کتاب‌های یک موضوع بیشتر باشد، مقدار این معیار بزرگتر می‌شود و هر چه رقابت بیشتر باشد، این معیار کوچک خواهد شد. از سوی دیگر یکی از عوامل موثر بر گران‌بودن یا ارزان‌بودن نسبی یک موضوع یا نوعی از کتاب می‌تواند قدرت یک ناشر یا میزان رقابت در آن موضوع باشد که میانگین قیمت بر صفحه هر موضوع را نسبت به معیار تمرکز بدست آمده، مقایسه می‌کنیم.\n",
    "همچنین میانگین امتیاز هر موضوع را با معیار تمرکز مقایسه می‌کنیم."
   ]
  },
  {
   "cell_type": "code",
   "execution_count": null,
   "metadata": {},
   "outputs": [],
   "source": [
    "# 3\n",
    "sen_sql3_cat1 = \"Select count(id) discount_price page_count rating publisher_id category from book \"\\\n",
    "\"inner join book_category on book.id=book_category.book_id \"\\\n",
    "  \"inner joinn category on book_category.category_id=category.id group by publisher where category='ادبیات داستانی'\"\n",
    "sen_sql3_cat2 = \"Select count(id) discount_price page_count rating publisher_id category from book \"\\\n",
    "\"inner join book_category on book.id=book_category.book_id \"\\\n",
    "  \"inner joinn category on book_category.category_id=category.id group by publisher where category='خودپروری'\"\n",
    "sen_sql3_cat3 = \"Select count(id) discount_price page_count rating publisher_id category from book \"\\\n",
    "\"inner join book_category on book.id=book_category.book_id \"\\\n",
    "  \"inner joinn category on book_category.category_id=category.id group by publisher where category='روانشناسی'\"\n",
    "sen_sql3_cat4 = \"Select count(id) discount_price page_count rating publisher_id category from book \"\\\n",
    "\"inner join book_category on book.id=book_category.book_id \"\\\n",
    "  \"inner joinn category on book_category.category_id=category.id group by publisher where category='فلسفی'\"\n",
    "sen_sql3_cat5 = \"Select count(id) discount_price page_count rating publisher_id category from book \"\\\n",
    "\"inner join book_category on book.id=book_category.book_id \"\\\n",
    "  \"inner joinn category on book_category.category_id=category.id group by publisher where category='داستان کوتاه'\"\n",
    "sen_sql3_cat6 = \"Select count(id) discount_price page_count rating publisher_id category from book \"\\\n",
    "\"inner join book_category on book.id=book_category.book_id \"\\\n",
    "  \"inner joinn category on book_category.category_id=category.id group by publisher where category='ادبیات نمایشی'\"\n",
    "sen_sql3_cat7 = \"Select count(id) discount_price page_count rating publisher_id category from book \"\\\n",
    "\"inner join book_category on book.id=book_category.book_id \"\\\n",
    "  \"inner joinn category on book_category.category_id=category.id group by publisher where category='تاریخی'\"\n",
    "sen_sql3_cat8 = \"Select count(id) discount_price page_count rating publisher_id category from book \"\\\n",
    "\"inner join book_category on book.id=book_category.book_id \"\\\n",
    "  \"inner joinn category on book_category.category_id=category.id group by publisher where category='سیاسی'\"\n",
    "sen_sql3_cat9 = \"Select count(id) discount_price page_count rating publisher_id category from book \"\\\n",
    "\"inner join book_category on book.id=book_category.book_id \"\\\n",
    "  \"inner joinn category on book_category.category_id=category.id group by publisher where category='کتاب مصور'\"\n",
    "sen_sql3_cat10 = \"Select count(id) discount_price page_count rating publisher_id category from book \"\\\n",
    "\"inner join book_category on book.id=book_category.book_id \"\\\n",
    "  \"inner joinn category on book_category.category_id=category.id group by publisher where category='دینی و مذهبی'\"\n",
    "sen_sql3_cat11 = \"Select count(id) discount_price page_count rating publisher_id category from book \"\\\n",
    "\"inner join book_category on book.id=book_category.book_id \"\\\n",
    "  \"inner joinn category on book_category.category_id=category.id group by publisher where category='آموزشی'\"\n",
    "sen_sql3_cat12 = \"Select count(id) discount_price page_count rating publisher_id category from book \"\\\n",
    "\"inner join book_category on book.id=book_category.book_id \"\\\n",
    "  \"inner joinn category on book_category.category_id=category.id group by publisher where category='کتاب کودک'\"\n"
   ]
  },
  {
   "cell_type": "markdown",
   "metadata": {},
   "source": []
  },
  {
   "cell_type": "markdown",
   "metadata": {},
   "source": []
  },
  {
   "cell_type": "markdown",
   "metadata": {},
   "source": [
    "بخش چهارم: درخواست کارفرمایان"
   ]
  },
  {
   "cell_type": "markdown",
   "metadata": {},
   "source": []
  },
  {
   "cell_type": "markdown",
   "metadata": {},
   "source": [
    "درخواست خریدار ۱:"
   ]
  },
  {
   "cell_type": "markdown",
   "metadata": {},
   "source": [
    "معیار برتری نویسنده برای کتاب‌های عاشقانه:\n",
    " میانگین امتیاز همه کتاب‌های یک نویسنده در ژانر عاشقانه ضربدر ۰.۵ \n",
    "بعلاوه\n",
    "تعداد تجدید چاپ هر کتاب ضربدر امتیاز آن، جمع کل کتاب‌ها تقسیم بر کل تجدید چاپ آن نویسنده (میانگین وزن‌دار امتیازات) ضربدر ۰.۵"
   ]
  },
  {
   "cell_type": "code",
   "execution_count": null,
   "metadata": {},
   "outputs": [],
   "source": []
  },
  {
   "cell_type": "code",
   "execution_count": null,
   "metadata": {},
   "outputs": [],
   "source": []
  },
  {
   "cell_type": "markdown",
   "metadata": {},
   "source": [
    "درخواست خریدار۲:"
   ]
  },
  {
   "cell_type": "markdown",
   "metadata": {},
   "source": [
    "در اینجا کافی است، یک دیتافریم شامل کتاب‌هایی که در چارک اول بهترین‌ها از نظر امتیاز قرار دارند بسازیم و همچنین یک دیتافریم شامل کتاب‌هایی که در ۲۰ درصد ارزان‌ترین. سپس اشتراک این دو گروه را بدست آوریم."
   ]
  },
  {
   "cell_type": "code",
   "execution_count": null,
   "metadata": {},
   "outputs": [],
   "source": []
  },
  {
   "cell_type": "markdown",
   "metadata": {},
   "source": [
    "درخواست نویسنده:"
   ]
  },
  {
   "cell_type": "markdown",
   "metadata": {},
   "source": [
    "معیار بهترین ناشر برای کتاب تاریخی:\n",
    "میانگین امتیاز کتب تاریخی هر ناشر ضربدر ۰.۵\n",
    " بعلاوه\n",
    "میانگین وزندار امتیاز کتب تاریخی آن برحسب وزن تعداد تجدید چاپ هر کتاب ضربدر ۰.۵"
   ]
  },
  {
   "cell_type": "code",
   "execution_count": null,
   "metadata": {},
   "outputs": [],
   "source": []
  },
  {
   "cell_type": "code",
   "execution_count": null,
   "metadata": {},
   "outputs": [],
   "source": []
  },
  {
   "cell_type": "markdown",
   "metadata": {},
   "source": [
    "تست فرض:"
   ]
  },
  {
   "cell_type": "markdown",
   "metadata": {},
   "source": []
  }
 ],
 "metadata": {
  "kernelspec": {
   "display_name": "base",
   "language": "python",
   "name": "python3"
  },
  "language_info": {
   "codemirror_mode": {
    "name": "ipython",
    "version": 3
   },
   "file_extension": ".py",
   "mimetype": "text/x-python",
   "name": "python",
   "nbconvert_exporter": "python",
   "pygments_lexer": "ipython3",
   "version": "3.11.4"
  },
  "orig_nbformat": 4
 },
 "nbformat": 4,
 "nbformat_minor": 2
}
