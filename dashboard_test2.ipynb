{
 "cells": [
  {
   "cell_type": "code",
   "execution_count": 2,
   "metadata": {},
   "outputs": [],
   "source": [
    "import pandas as pd\n",
    "import numpy as np\n",
    "from matplotlib import pyplot as plt\n"
   ]
  },
  {
   "cell_type": "code",
   "execution_count": 3,
   "metadata": {},
   "outputs": [],
   "source": [
    "import mysql.connector"
   ]
  },
  {
   "cell_type": "code",
   "execution_count": 4,
   "metadata": {},
   "outputs": [],
   "source": [
    "mydb = mysql.connector.Connect(\n",
    "    host = 'localhost',\n",
    "    user = 'root',\n",
    "    password = '77987798',\n",
    "    database = 'iranketab_db'\n",
    ")"
   ]
  },
  {
   "cell_type": "markdown",
   "metadata": {},
   "source": []
  },
  {
   "cell_type": "markdown",
   "metadata": {},
   "source": [
    "بخش چهارم: درخواست کارفرمایان"
   ]
  },
  {
   "cell_type": "markdown",
   "metadata": {},
   "source": [
    "در این بخش ابتدا به سراغ دو درخواست خریدار و یک درخواست نویسنده می‌رویم. برای تشخیص بهترین نویسنده کتاب عاشقانه، معیاری ترکیبی برآمده از میانگین امتیاز کتب عاشقانه یک نویسنده و میانگین وزن‌دار امتیاز کتب او می‌سازیم. وزن داده‌شده برابر تعداد تجدید چاپ هر کتاب می‌باشد. برای هر یک از درخواست‌ها، معیار ساخته‌شده را کمی تغییر می‌دهیم و مجددا نتایج را بررسی می‌کنیم. \n",
    "درخواست دیگر خریدار معرفی کتاب‌های ارزان و با امتیاز بالاست که در بخش بعدی انجام می‌دهیم. و درخواست نویسنده مشابه درخواست اول خریدار است و از ما می‌خواهد معیاری برای تشخبص بهترین ناشر کتاب‌های تاریخی معرفی کنیم که این بخش را مشابه معیار و روش درخواست خریدار ۱ انجام می‌دهیم.\n",
    "در انتها از ما خواسته‌شده است دو فرضیه آماری یعنی متفاوت‌بودن قیمت کتب دارای مترجم و کتب فاقد آن و همچنین متفاوت‌بودن قیمت کتاب‌های با جلد سخت و شومیز را ارزیابی کنیم. علاوه بر این دو فرضیه، چند فرضیه مکمل را هم پیشنهاد کرده و بررسی می‌کنیم."
   ]
  },
  {
   "cell_type": "markdown",
   "metadata": {},
   "source": [
    "درخواست خریدار ۱:"
   ]
  },
  {
   "cell_type": "markdown",
   "metadata": {},
   "source": [
    "معیار برتری نویسنده برای کتاب‌های عاشقانه:\n",
    " میانگین امتیاز همه کتاب‌های یک نویسنده در ژانر عاشقانه ضربدر ۰.۵ \n",
    "بعلاوه\n",
    "تعداد تجدید چاپ هر کتاب ضربدر امتیاز آن، جمع کل کتاب‌ها تقسیم بر کل تجدید چاپ آن نویسنده (میانگین وزن‌دار امتیازات) ضربدر ۰.۵"
   ]
  },
  {
   "cell_type": "code",
   "execution_count": 5,
   "metadata": {},
   "outputs": [
    {
     "name": "stderr",
     "output_type": "stream",
     "text": [
      "/var/folders/0r/6nwh7td129301__r2brydjn00000gn/T/ipykernel_33610/3472200729.py:11: UserWarning: pandas only supports SQLAlchemy connectable (engine/connection) or database string URI or sqlite3 DBAPI2 connection. Other DBAPI2 objects are not tested. Please consider using SQLAlchemy.\n",
      "  df_cons1 = pd.read_sql_query(query1, mydb)\n"
     ]
    }
   ],
   "source": [
    "# 1:\n",
    "query1 = \"SELECT book.book_id, book.product_name, person.person_name,book.print_series, book.rating\"\\\n",
    "       \" from book inner join  book_author\"\\\n",
    "               \" on book.book_id=book_author.book_id\"\\\n",
    "           \" inner join person on book_author.person_id=person.id\"\\\n",
    "            \" inner join book_category on book_category.book_id=book_author.book_id\"\\\n",
    "           \" inner join category on book_category.category_id=category.id\"\\\n",
    "                \" where category.category_name = 'داستان عاشقانه'\"\\\n",
    "                \" GROUP BY category.id,book_category.book_id,book_author.book_id, person.id,book_author.person_id,book.book_id\"\n",
    "\n",
    "df_cons1 = pd.read_sql_query(query1, mydb)"
   ]
  },
  {
   "cell_type": "code",
   "execution_count": 6,
   "metadata": {},
   "outputs": [
    {
     "data": {
      "text/html": [
       "<div>\n",
       "<style scoped>\n",
       "    .dataframe tbody tr th:only-of-type {\n",
       "        vertical-align: middle;\n",
       "    }\n",
       "\n",
       "    .dataframe tbody tr th {\n",
       "        vertical-align: top;\n",
       "    }\n",
       "\n",
       "    .dataframe thead th {\n",
       "        text-align: right;\n",
       "    }\n",
       "</style>\n",
       "<table border=\"1\" class=\"dataframe\">\n",
       "  <thead>\n",
       "    <tr style=\"text-align: right;\">\n",
       "      <th></th>\n",
       "      <th>book_id</th>\n",
       "      <th>product_name</th>\n",
       "      <th>person_name</th>\n",
       "      <th>print_series</th>\n",
       "      <th>rating</th>\n",
       "    </tr>\n",
       "  </thead>\n",
       "  <tbody>\n",
       "    <tr>\n",
       "      <th>69</th>\n",
       "      <td>1216</td>\n",
       "      <td>کتاب با عشق رزی</td>\n",
       "      <td>سسیلیا آهرن</td>\n",
       "      <td>0</td>\n",
       "      <td>3.60</td>\n",
       "    </tr>\n",
       "    <tr>\n",
       "      <th>70</th>\n",
       "      <td>1250</td>\n",
       "      <td>کتاب قرار آینده</td>\n",
       "      <td>مارک لوی</td>\n",
       "      <td>0</td>\n",
       "      <td>3.15</td>\n",
       "    </tr>\n",
       "    <tr>\n",
       "      <th>140</th>\n",
       "      <td>4749</td>\n",
       "      <td>کتاب زیر در زمزمه گر</td>\n",
       "      <td>تی جی کلون</td>\n",
       "      <td>0</td>\n",
       "      <td>3.74</td>\n",
       "    </tr>\n",
       "    <tr>\n",
       "      <th>448</th>\n",
       "      <td>21241</td>\n",
       "      <td>کتاب عشق در مهتاب یخ زده</td>\n",
       "      <td>حسن اصغری</td>\n",
       "      <td>0</td>\n",
       "      <td>3.04</td>\n",
       "    </tr>\n",
       "    <tr>\n",
       "      <th>462</th>\n",
       "      <td>4588</td>\n",
       "      <td>کتاب Jane Eyre</td>\n",
       "      <td>شارلوت برونته</td>\n",
       "      <td>0</td>\n",
       "      <td>3.02</td>\n",
       "    </tr>\n",
       "    <tr>\n",
       "      <th>619</th>\n",
       "      <td>29344</td>\n",
       "      <td>کتاب ربوده شده</td>\n",
       "      <td>لوسی کریستفر</td>\n",
       "      <td>0</td>\n",
       "      <td>4.00</td>\n",
       "    </tr>\n",
       "    <tr>\n",
       "      <th>620</th>\n",
       "      <td>29344</td>\n",
       "      <td>کتاب ربوده شده</td>\n",
       "      <td>رابرت لوییس استیونسون</td>\n",
       "      <td>0</td>\n",
       "      <td>4.00</td>\n",
       "    </tr>\n",
       "    <tr>\n",
       "      <th>664</th>\n",
       "      <td>32285</td>\n",
       "      <td>کتاب انجمن جین آستن</td>\n",
       "      <td>ناتالی جنر</td>\n",
       "      <td>0</td>\n",
       "      <td>3.74</td>\n",
       "    </tr>\n",
       "    <tr>\n",
       "      <th>838</th>\n",
       "      <td>38071</td>\n",
       "      <td>کتاب سرانجام شری</td>\n",
       "      <td>سیدونی گابریل کولت</td>\n",
       "      <td>0</td>\n",
       "      <td>3.89</td>\n",
       "    </tr>\n",
       "    <tr>\n",
       "      <th>1175</th>\n",
       "      <td>48452</td>\n",
       "      <td>کتاب اسکارلت - 2 جلدی</td>\n",
       "      <td>الکساندرا ریپلی</td>\n",
       "      <td>0</td>\n",
       "      <td>3.66</td>\n",
       "    </tr>\n",
       "    <tr>\n",
       "      <th>1205</th>\n",
       "      <td>51384</td>\n",
       "      <td>شاهزاده شیر و راز گل سرخ</td>\n",
       "      <td>دنا جو ناپلی</td>\n",
       "      <td>0</td>\n",
       "      <td>3.48</td>\n",
       "    </tr>\n",
       "    <tr>\n",
       "      <th>1675</th>\n",
       "      <td>67198</td>\n",
       "      <td>کتاب سه داستان عاشقانه</td>\n",
       "      <td>ایوان تورگنیف</td>\n",
       "      <td>0</td>\n",
       "      <td>3.06</td>\n",
       "    </tr>\n",
       "    <tr>\n",
       "      <th>1710</th>\n",
       "      <td>69036</td>\n",
       "      <td>کتاب وقتی آن تناور درخت خانه شکست</td>\n",
       "      <td>شهره وکیلی</td>\n",
       "      <td>0</td>\n",
       "      <td>3.99</td>\n",
       "    </tr>\n",
       "    <tr>\n",
       "      <th>1711</th>\n",
       "      <td>69038</td>\n",
       "      <td>کتاب فراتر از معرکه</td>\n",
       "      <td>شهره وکیلی</td>\n",
       "      <td>0</td>\n",
       "      <td>3.41</td>\n",
       "    </tr>\n",
       "    <tr>\n",
       "      <th>1712</th>\n",
       "      <td>69350</td>\n",
       "      <td>کتاب بازمانده آقای ف.ف</td>\n",
       "      <td>ستاره روشن</td>\n",
       "      <td>0</td>\n",
       "      <td>3.36</td>\n",
       "    </tr>\n",
       "    <tr>\n",
       "      <th>1713</th>\n",
       "      <td>69353</td>\n",
       "      <td>کتاب در هوس خیال تو</td>\n",
       "      <td>اعظم فهیمی</td>\n",
       "      <td>0</td>\n",
       "      <td>3.68</td>\n",
       "    </tr>\n",
       "    <tr>\n",
       "      <th>1714</th>\n",
       "      <td>69354</td>\n",
       "      <td>کتاب شب نما</td>\n",
       "      <td>نسرین جمال پور</td>\n",
       "      <td>0</td>\n",
       "      <td>3.98</td>\n",
       "    </tr>\n",
       "    <tr>\n",
       "      <th>1719</th>\n",
       "      <td>69561</td>\n",
       "      <td>کتاب من دختر نیستم</td>\n",
       "      <td>پگاه بختیاری</td>\n",
       "      <td>0</td>\n",
       "      <td>3.95</td>\n",
       "    </tr>\n",
       "    <tr>\n",
       "      <th>1856</th>\n",
       "      <td>76379</td>\n",
       "      <td>کتاب از هپروت تا دلدادگی</td>\n",
       "      <td>انیس لودیگ</td>\n",
       "      <td>0</td>\n",
       "      <td>3.37</td>\n",
       "    </tr>\n",
       "    <tr>\n",
       "      <th>2025</th>\n",
       "      <td>82502</td>\n",
       "      <td>کتاب جای پای لبهای تو</td>\n",
       "      <td>ساحل بهنامی(راز)</td>\n",
       "      <td>0</td>\n",
       "      <td>3.49</td>\n",
       "    </tr>\n",
       "    <tr>\n",
       "      <th>2026</th>\n",
       "      <td>82524</td>\n",
       "      <td>کتاب سرمشق دلدادگی</td>\n",
       "      <td>الهه احمدی</td>\n",
       "      <td>0</td>\n",
       "      <td>3.48</td>\n",
       "    </tr>\n",
       "  </tbody>\n",
       "</table>\n",
       "</div>"
      ],
      "text/plain": [
       "      book_id                       product_name            person_name  \\\n",
       "69       1216                    کتاب با عشق رزی            سسیلیا آهرن   \n",
       "70       1250                    کتاب قرار آینده               مارک لوی   \n",
       "140      4749               کتاب زیر در زمزمه گر             تی جی کلون   \n",
       "448     21241           کتاب عشق در مهتاب یخ زده              حسن اصغری   \n",
       "462      4588                     کتاب Jane Eyre          شارلوت برونته   \n",
       "619     29344                     کتاب ربوده شده           لوسی کریستفر   \n",
       "620     29344                     کتاب ربوده شده  رابرت لوییس استیونسون   \n",
       "664     32285                کتاب انجمن جین آستن             ناتالی جنر   \n",
       "838     38071                   کتاب سرانجام شری     سیدونی گابریل کولت   \n",
       "1175    48452              کتاب اسکارلت - 2 جلدی        الکساندرا ریپلی   \n",
       "1205    51384           شاهزاده شیر و راز گل سرخ           دنا جو ناپلی   \n",
       "1675    67198             کتاب سه داستان عاشقانه          ایوان تورگنیف   \n",
       "1710    69036  کتاب وقتی آن تناور درخت خانه شکست             شهره وکیلی   \n",
       "1711    69038                کتاب فراتر از معرکه             شهره وکیلی   \n",
       "1712    69350             کتاب بازمانده آقای ف.ف             ستاره روشن   \n",
       "1713    69353                کتاب در هوس خیال تو             اعظم فهیمی   \n",
       "1714    69354                        کتاب شب نما         نسرین جمال پور   \n",
       "1719    69561                 کتاب من دختر نیستم           پگاه بختیاری   \n",
       "1856    76379           کتاب از هپروت تا دلدادگی             انیس لودیگ   \n",
       "2025    82502              کتاب جای پای لبهای تو       ساحل بهنامی(راز)   \n",
       "2026    82524                 کتاب سرمشق دلدادگی             الهه احمدی   \n",
       "\n",
       "      print_series  rating  \n",
       "69               0    3.60  \n",
       "70               0    3.15  \n",
       "140              0    3.74  \n",
       "448              0    3.04  \n",
       "462              0    3.02  \n",
       "619              0    4.00  \n",
       "620              0    4.00  \n",
       "664              0    3.74  \n",
       "838              0    3.89  \n",
       "1175             0    3.66  \n",
       "1205             0    3.48  \n",
       "1675             0    3.06  \n",
       "1710             0    3.99  \n",
       "1711             0    3.41  \n",
       "1712             0    3.36  \n",
       "1713             0    3.68  \n",
       "1714             0    3.98  \n",
       "1719             0    3.95  \n",
       "1856             0    3.37  \n",
       "2025             0    3.49  \n",
       "2026             0    3.48  "
      ]
     },
     "execution_count": 6,
     "metadata": {},
     "output_type": "execute_result"
    }
   ],
   "source": [
    "df_cons1[df_cons1['print_series']==0]"
   ]
  },
  {
   "cell_type": "markdown",
   "metadata": {},
   "source": [
    "همانطور که مشاهده می‌کنیم، تعداد ۲۱ کتاب دارای نوبت چاپ صفر هستند که به دلیل آن است که برای این کتاب‌ها، مقدار نوبت چاپ در سایت، معرفی نشده است. در اینجا می‌توان این داده‌ها را کنار گذاشت یا مقدار تعداد چاپ آن‌ها را ۱ فرض کرد. با توجه به تعداد بسیار محدود آن‌ها به نظر تفاوت چندانی در داده ایجاد نخواهد کرد. ابتدا فرض می‌کنیم مقدار نوبت چاپ آن‌ها برابر ۱ باشد:"
   ]
  },
  {
   "cell_type": "code",
   "execution_count": 7,
   "metadata": {},
   "outputs": [],
   "source": [
    "df_cons1 = df_cons1.replace({'print_series': {0:1}})"
   ]
  },
  {
   "cell_type": "code",
   "execution_count": 8,
   "metadata": {},
   "outputs": [],
   "source": [
    "df_cons1['wrating'] = df_cons1['rating']*df_cons1['print_series']\n",
    "df_cons1['count'] = 1\n",
    "df_cons1 = df_cons1.groupby(by=\"person_name\").sum()\n",
    "#\n",
    "df_cons1['best_crite1'] = (0.5*(df_cons1['rating']/df_cons1['count']))+(0.5*(df_cons1['wrating']/df_cons1['print_series']))\n",
    "df_cons1['best_crite2'] = (0.3*(df_cons1['rating']/df_cons1['count']))+(0.7*(df_cons1['wrating']/df_cons1['print_series']))\n"
   ]
  },
  {
   "cell_type": "code",
   "execution_count": 9,
   "metadata": {},
   "outputs": [
    {
     "data": {
      "text/html": [
       "<div>\n",
       "<style scoped>\n",
       "    .dataframe tbody tr th:only-of-type {\n",
       "        vertical-align: middle;\n",
       "    }\n",
       "\n",
       "    .dataframe tbody tr th {\n",
       "        vertical-align: top;\n",
       "    }\n",
       "\n",
       "    .dataframe thead th {\n",
       "        text-align: right;\n",
       "    }\n",
       "</style>\n",
       "<table border=\"1\" class=\"dataframe\">\n",
       "  <thead>\n",
       "    <tr style=\"text-align: right;\">\n",
       "      <th></th>\n",
       "      <th>best_crite1</th>\n",
       "    </tr>\n",
       "    <tr>\n",
       "      <th>person_name</th>\n",
       "      <th></th>\n",
       "    </tr>\n",
       "  </thead>\n",
       "  <tbody>\n",
       "    <tr>\n",
       "      <th>مارگارت راجرسون</th>\n",
       "      <td>4.500000</td>\n",
       "    </tr>\n",
       "    <tr>\n",
       "      <th>آلکساندرا برکن</th>\n",
       "      <td>4.500000</td>\n",
       "    </tr>\n",
       "    <tr>\n",
       "      <th>میا شریدن</th>\n",
       "      <td>4.430000</td>\n",
       "    </tr>\n",
       "    <tr>\n",
       "      <th>مارتین گاندا</th>\n",
       "      <td>4.400000</td>\n",
       "    </tr>\n",
       "    <tr>\n",
       "      <th>سیمون دوبووار</th>\n",
       "      <td>4.300227</td>\n",
       "    </tr>\n",
       "  </tbody>\n",
       "</table>\n",
       "</div>"
      ],
      "text/plain": [
       "                 best_crite1\n",
       "person_name                 \n",
       "مارگارت راجرسون     4.500000\n",
       "آلکساندرا برکن      4.500000\n",
       "میا شریدن           4.430000\n",
       "مارتین گاندا        4.400000\n",
       "سیمون دوبووار       4.300227"
      ]
     },
     "execution_count": 9,
     "metadata": {},
     "output_type": "execute_result"
    }
   ],
   "source": [
    "#df_result1 = df_result1[df_result1['best_crite'].notnull()]\n",
    "df_result1 = df_cons1.sort_values('best_crite1',ascending=False)\n",
    "df_result2 = df_cons1.sort_values('best_crite2',ascending=False)\n",
    "df_result1.drop(columns={'book_id','product_name','print_series','rating','wrating','count','best_crite2'}, inplace=True)\n",
    "df_result1[:5]"
   ]
  },
  {
   "cell_type": "markdown",
   "metadata": {},
   "source": [
    "حال اگر ضریب میانگین وزن‌دار را بزرگتر از میانگین بدون وزن و برابر ۰.۷ درنظر بگیریم، خواهیم داشت:"
   ]
  },
  {
   "cell_type": "code",
   "execution_count": 10,
   "metadata": {},
   "outputs": [
    {
     "data": {
      "text/html": [
       "<div>\n",
       "<style scoped>\n",
       "    .dataframe tbody tr th:only-of-type {\n",
       "        vertical-align: middle;\n",
       "    }\n",
       "\n",
       "    .dataframe tbody tr th {\n",
       "        vertical-align: top;\n",
       "    }\n",
       "\n",
       "    .dataframe thead th {\n",
       "        text-align: right;\n",
       "    }\n",
       "</style>\n",
       "<table border=\"1\" class=\"dataframe\">\n",
       "  <thead>\n",
       "    <tr style=\"text-align: right;\">\n",
       "      <th></th>\n",
       "      <th>best_crite2</th>\n",
       "    </tr>\n",
       "    <tr>\n",
       "      <th>person_name</th>\n",
       "      <th></th>\n",
       "    </tr>\n",
       "  </thead>\n",
       "  <tbody>\n",
       "    <tr>\n",
       "      <th>آلکساندرا برکن</th>\n",
       "      <td>4.500000</td>\n",
       "    </tr>\n",
       "    <tr>\n",
       "      <th>مارگارت راجرسون</th>\n",
       "      <td>4.500000</td>\n",
       "    </tr>\n",
       "    <tr>\n",
       "      <th>سیمون دوبووار</th>\n",
       "      <td>4.438318</td>\n",
       "    </tr>\n",
       "    <tr>\n",
       "      <th>میا شریدن</th>\n",
       "      <td>4.430000</td>\n",
       "    </tr>\n",
       "    <tr>\n",
       "      <th>مارتین گاندا</th>\n",
       "      <td>4.400000</td>\n",
       "    </tr>\n",
       "  </tbody>\n",
       "</table>\n",
       "</div>"
      ],
      "text/plain": [
       "                 best_crite2\n",
       "person_name                 \n",
       "آلکساندرا برکن      4.500000\n",
       "مارگارت راجرسون     4.500000\n",
       "سیمون دوبووار       4.438318\n",
       "میا شریدن           4.430000\n",
       "مارتین گاندا        4.400000"
      ]
     },
     "execution_count": 10,
     "metadata": {},
     "output_type": "execute_result"
    }
   ],
   "source": [
    "df_result2.drop(columns={'book_id','product_name','print_series','rating','wrating','count','best_crite1'}, inplace=True)\n",
    "df_result2[:5]"
   ]
  },
  {
   "cell_type": "markdown",
   "metadata": {},
   "source": [
    "در نتیجه مشاهده می‌کنیم که اگر چه ترتیب میان ۵ نویسنده اول تغییر می‌کند اما ۵ نویسنده برتر در هر دو معیار یکی می‌شود. "
   ]
  },
  {
   "cell_type": "markdown",
   "metadata": {},
   "source": [
    "درخواست خریدار۲:"
   ]
  },
  {
   "cell_type": "markdown",
   "metadata": {},
   "source": [
    "در اینجا کافی است، یک دیتافریم شامل کتاب‌هایی که در چارک اول بهترین‌ها از نظر امتیاز قرار دارند بسازیم و همچنین یک دیتافریم شامل کتاب‌هایی که در ۲۰ درصد ارزان‌ترین. سپس اشتراک این دو گروه را بدست آوریم."
   ]
  },
  {
   "cell_type": "code",
   "execution_count": 12,
   "metadata": {},
   "outputs": [
    {
     "name": "stderr",
     "output_type": "stream",
     "text": [
      "/var/folders/0r/6nwh7td129301__r2brydjn00000gn/T/ipykernel_33610/3070154530.py:3: UserWarning: pandas only supports SQLAlchemy connectable (engine/connection) or database string URI or sqlite3 DBAPI2 connection. Other DBAPI2 objects are not tested. Please consider using SQLAlchemy.\n",
      "  df_cons2 = pd.read_sql_query(query2, mydb)\n"
     ]
    },
    {
     "name": "stderr",
     "output_type": "stream",
     "text": [
      "/var/folders/0r/6nwh7td129301__r2brydjn00000gn/T/ipykernel_33610/3070154530.py:5: FutureWarning: Calling float on a single element Series is deprecated and will raise a TypeError in the future. Use float(ser.iloc[0]) instead\n",
      "  max_price = float(df_2_price['discount_price'].quantile([0.2]))\n",
      "/var/folders/0r/6nwh7td129301__r2brydjn00000gn/T/ipykernel_33610/3070154530.py:7: FutureWarning: Calling float on a single element Series is deprecated and will raise a TypeError in the future. Use float(ser.iloc[0]) instead\n",
      "  min_rate = float(df_2_rating['rating'].quantile([.25]))\n",
      "/var/folders/0r/6nwh7td129301__r2brydjn00000gn/T/ipykernel_33610/3070154530.py:9: UserWarning: Boolean Series key will be reindexed to match DataFrame index.\n",
      "  result2 = df_2_rating[df_2_rating['rating']>=min_rate][df_2_rating['discount_price']<=max_price]\n"
     ]
    }
   ],
   "source": [
    "query2 = \"Select * from book\"\n",
    "\n",
    "df_cons2 = pd.read_sql_query(query2, mydb)\n",
    "df_2_price = df_cons2.sort_values('discount_price')\n",
    "max_price = float(df_2_price['discount_price'].quantile([0.2]))\n",
    "df_2_rating = df_cons2.sort_values('rating',ascending=False)\n",
    "min_rate = float(df_2_rating['rating'].quantile([.25]))\n",
    "#result:\n",
    "result2 = df_2_rating[df_2_rating['rating']>=min_rate][df_2_rating['discount_price']<=max_price]"
   ]
  },
  {
   "cell_type": "code",
   "execution_count": 13,
   "metadata": {},
   "outputs": [
    {
     "data": {
      "text/html": [
       "<div>\n",
       "<style scoped>\n",
       "    .dataframe tbody tr th:only-of-type {\n",
       "        vertical-align: middle;\n",
       "    }\n",
       "\n",
       "    .dataframe tbody tr th {\n",
       "        vertical-align: top;\n",
       "    }\n",
       "\n",
       "    .dataframe thead th {\n",
       "        text-align: right;\n",
       "    }\n",
       "</style>\n",
       "<table border=\"1\" class=\"dataframe\">\n",
       "  <thead>\n",
       "    <tr style=\"text-align: right;\">\n",
       "      <th></th>\n",
       "      <th>book_id</th>\n",
       "      <th>product_name</th>\n",
       "      <th>product_name_eng</th>\n",
       "      <th>isbn</th>\n",
       "      <th>book_code</th>\n",
       "      <th>release_date_sh</th>\n",
       "      <th>release_date_gc</th>\n",
       "      <th>rating</th>\n",
       "      <th>book_pages</th>\n",
       "      <th>print_series</th>\n",
       "      <th>inventory</th>\n",
       "      <th>original_price</th>\n",
       "      <th>discount_price</th>\n",
       "      <th>discount_percent</th>\n",
       "      <th>type_of_print_id</th>\n",
       "      <th>publisher_id</th>\n",
       "      <th>size_id</th>\n",
       "      <th>summery_id</th>\n",
       "    </tr>\n",
       "  </thead>\n",
       "  <tbody>\n",
       "    <tr>\n",
       "      <th>6709</th>\n",
       "      <td>6710</td>\n",
       "      <td>کتاب زندگی را به رقص آور!</td>\n",
       "      <td>Make Life Dance</td>\n",
       "      <td>978-600118017-0</td>\n",
       "      <td>5530</td>\n",
       "      <td>1390</td>\n",
       "      <td>2012</td>\n",
       "      <td>5.00</td>\n",
       "      <td>144</td>\n",
       "      <td>2</td>\n",
       "      <td>0</td>\n",
       "      <td>0</td>\n",
       "      <td>0</td>\n",
       "      <td>0</td>\n",
       "      <td>2.0</td>\n",
       "      <td>73.0</td>\n",
       "      <td>7.0</td>\n",
       "      <td>4561.0</td>\n",
       "    </tr>\n",
       "    <tr>\n",
       "      <th>28025</th>\n",
       "      <td>28026</td>\n",
       "      <td>کتاب از مرز انزوا</td>\n",
       "      <td>From the isolation boundary</td>\n",
       "      <td>978-600734327-2</td>\n",
       "      <td>5994</td>\n",
       "      <td>1394</td>\n",
       "      <td>2015</td>\n",
       "      <td>5.00</td>\n",
       "      <td>235</td>\n",
       "      <td>1</td>\n",
       "      <td>0</td>\n",
       "      <td>0</td>\n",
       "      <td>0</td>\n",
       "      <td>0</td>\n",
       "      <td>2.0</td>\n",
       "      <td>264.0</td>\n",
       "      <td>2.0</td>\n",
       "      <td>19299.0</td>\n",
       "    </tr>\n",
       "    <tr>\n",
       "      <th>28450</th>\n",
       "      <td>28451</td>\n",
       "      <td>کتاب خداحافظ تسوگومی</td>\n",
       "      <td>Goodbye Tsugumi</td>\n",
       "      <td>978-600964168-0</td>\n",
       "      <td>10999</td>\n",
       "      <td>1401</td>\n",
       "      <td>1989</td>\n",
       "      <td>5.00</td>\n",
       "      <td>175</td>\n",
       "      <td>2</td>\n",
       "      <td>0</td>\n",
       "      <td>0</td>\n",
       "      <td>0</td>\n",
       "      <td>0</td>\n",
       "      <td>2.0</td>\n",
       "      <td>71.0</td>\n",
       "      <td>1.0</td>\n",
       "      <td>19632.0</td>\n",
       "    </tr>\n",
       "    <tr>\n",
       "      <th>7564</th>\n",
       "      <td>7565</td>\n",
       "      <td>کتاب عبور از سوئز</td>\n",
       "      <td>Crossing Suez</td>\n",
       "      <td>978-600031769-0</td>\n",
       "      <td>12234</td>\n",
       "      <td>1396</td>\n",
       "      <td>2017</td>\n",
       "      <td>5.00</td>\n",
       "      <td>284</td>\n",
       "      <td>1</td>\n",
       "      <td>0</td>\n",
       "      <td>0</td>\n",
       "      <td>0</td>\n",
       "      <td>0</td>\n",
       "      <td>2.0</td>\n",
       "      <td>208.0</td>\n",
       "      <td>1.0</td>\n",
       "      <td>5178.0</td>\n",
       "    </tr>\n",
       "    <tr>\n",
       "      <th>6798</th>\n",
       "      <td>6799</td>\n",
       "      <td>کتاب زن قهرمان بی مدال</td>\n",
       "      <td>Female Champion</td>\n",
       "      <td>978-964283524-9</td>\n",
       "      <td>6161</td>\n",
       "      <td>1396</td>\n",
       "      <td>2008</td>\n",
       "      <td>5.00</td>\n",
       "      <td>560</td>\n",
       "      <td>2</td>\n",
       "      <td>0</td>\n",
       "      <td>0</td>\n",
       "      <td>0</td>\n",
       "      <td>0</td>\n",
       "      <td>2.0</td>\n",
       "      <td>219.0</td>\n",
       "      <td>1.0</td>\n",
       "      <td>NaN</td>\n",
       "    </tr>\n",
       "    <tr>\n",
       "      <th>...</th>\n",
       "      <td>...</td>\n",
       "      <td>...</td>\n",
       "      <td>...</td>\n",
       "      <td>...</td>\n",
       "      <td>...</td>\n",
       "      <td>...</td>\n",
       "      <td>...</td>\n",
       "      <td>...</td>\n",
       "      <td>...</td>\n",
       "      <td>...</td>\n",
       "      <td>...</td>\n",
       "      <td>...</td>\n",
       "      <td>...</td>\n",
       "      <td>...</td>\n",
       "      <td>...</td>\n",
       "      <td>...</td>\n",
       "      <td>...</td>\n",
       "      <td>...</td>\n",
       "    </tr>\n",
       "    <tr>\n",
       "      <th>26613</th>\n",
       "      <td>26614</td>\n",
       "      <td>کتاب داستان هایی از مثنوی مولوی (2)</td>\n",
       "      <td>Stories from Masnavi Molavi (2)</td>\n",
       "      <td>978-600210017-7</td>\n",
       "      <td>121943</td>\n",
       "      <td>1392</td>\n",
       "      <td></td>\n",
       "      <td>3.26</td>\n",
       "      <td>80</td>\n",
       "      <td>3</td>\n",
       "      <td>0</td>\n",
       "      <td>0</td>\n",
       "      <td>0</td>\n",
       "      <td>0</td>\n",
       "      <td>2.0</td>\n",
       "      <td>373.0</td>\n",
       "      <td>1.0</td>\n",
       "      <td>NaN</td>\n",
       "    </tr>\n",
       "    <tr>\n",
       "      <th>35107</th>\n",
       "      <td>35108</td>\n",
       "      <td>کتاب پس از نمایش</td>\n",
       "      <td>Three plays after</td>\n",
       "      <td>978-622761252-3</td>\n",
       "      <td>76655</td>\n",
       "      <td>1400</td>\n",
       "      <td>2013</td>\n",
       "      <td>3.26</td>\n",
       "      <td>92</td>\n",
       "      <td>1</td>\n",
       "      <td>0</td>\n",
       "      <td>0</td>\n",
       "      <td>0</td>\n",
       "      <td>0</td>\n",
       "      <td>2.0</td>\n",
       "      <td>605.0</td>\n",
       "      <td>1.0</td>\n",
       "      <td>NaN</td>\n",
       "    </tr>\n",
       "    <tr>\n",
       "      <th>26533</th>\n",
       "      <td>26534</td>\n",
       "      <td>کتاب فن بیان و آیین سخنوری</td>\n",
       "      <td>The art of expression</td>\n",
       "      <td>978-600451487-3</td>\n",
       "      <td>121760</td>\n",
       "      <td>1397</td>\n",
       "      <td></td>\n",
       "      <td>3.26</td>\n",
       "      <td>158</td>\n",
       "      <td>1</td>\n",
       "      <td>0</td>\n",
       "      <td>0</td>\n",
       "      <td>0</td>\n",
       "      <td>0</td>\n",
       "      <td>2.0</td>\n",
       "      <td>116.0</td>\n",
       "      <td>1.0</td>\n",
       "      <td>18517.0</td>\n",
       "    </tr>\n",
       "    <tr>\n",
       "      <th>16550</th>\n",
       "      <td>16551</td>\n",
       "      <td>کتاب منتخب شاهنامه فردوسی</td>\n",
       "      <td>Shahnameh</td>\n",
       "      <td>978-964892530-2</td>\n",
       "      <td>56415</td>\n",
       "      <td>1398</td>\n",
       "      <td></td>\n",
       "      <td>3.26</td>\n",
       "      <td>544</td>\n",
       "      <td>1</td>\n",
       "      <td>0</td>\n",
       "      <td>0</td>\n",
       "      <td>0</td>\n",
       "      <td>0</td>\n",
       "      <td>2.0</td>\n",
       "      <td>532.0</td>\n",
       "      <td>1.0</td>\n",
       "      <td>11849.0</td>\n",
       "    </tr>\n",
       "    <tr>\n",
       "      <th>7517</th>\n",
       "      <td>7518</td>\n",
       "      <td>کتاب اصول نقاشی با رنگ روغن</td>\n",
       "      <td>How to paint in oil</td>\n",
       "      <td>978-600586521-9</td>\n",
       "      <td>11915</td>\n",
       "      <td>1393</td>\n",
       "      <td>1997</td>\n",
       "      <td>3.26</td>\n",
       "      <td>128</td>\n",
       "      <td>93</td>\n",
       "      <td>0</td>\n",
       "      <td>0</td>\n",
       "      <td>0</td>\n",
       "      <td>0</td>\n",
       "      <td>2.0</td>\n",
       "      <td>321.0</td>\n",
       "      <td>2.0</td>\n",
       "      <td>5151.0</td>\n",
       "    </tr>\n",
       "  </tbody>\n",
       "</table>\n",
       "<p>22466 rows × 18 columns</p>\n",
       "</div>"
      ],
      "text/plain": [
       "       book_id                         product_name  \\\n",
       "6709      6710            کتاب زندگی را به رقص آور!   \n",
       "28025    28026                    کتاب از مرز انزوا   \n",
       "28450    28451                 کتاب خداحافظ تسوگومی   \n",
       "7564      7565                    کتاب عبور از سوئز   \n",
       "6798      6799               کتاب زن قهرمان بی مدال   \n",
       "...        ...                                  ...   \n",
       "26613    26614  کتاب داستان هایی از مثنوی مولوی (2)   \n",
       "35107    35108                     کتاب پس از نمایش   \n",
       "26533    26534           کتاب فن بیان و آیین سخنوری   \n",
       "16550    16551            کتاب منتخب شاهنامه فردوسی   \n",
       "7517      7518          کتاب اصول نقاشی با رنگ روغن   \n",
       "\n",
       "                      product_name_eng             isbn  book_code  \\\n",
       "6709                   Make Life Dance  978-600118017-0       5530   \n",
       "28025      From the isolation boundary  978-600734327-2       5994   \n",
       "28450                  Goodbye Tsugumi  978-600964168-0      10999   \n",
       "7564                     Crossing Suez  978-600031769-0      12234   \n",
       "6798                   Female Champion  978-964283524-9       6161   \n",
       "...                                ...              ...        ...   \n",
       "26613  Stories from Masnavi Molavi (2)  978-600210017-7     121943   \n",
       "35107                Three plays after  978-622761252-3      76655   \n",
       "26533            The art of expression  978-600451487-3     121760   \n",
       "16550                        Shahnameh  978-964892530-2      56415   \n",
       "7517               How to paint in oil  978-600586521-9      11915   \n",
       "\n",
       "      release_date_sh release_date_gc  rating  book_pages  print_series  \\\n",
       "6709             1390            2012    5.00         144             2   \n",
       "28025            1394            2015    5.00         235             1   \n",
       "28450            1401            1989    5.00         175             2   \n",
       "7564             1396            2017    5.00         284             1   \n",
       "6798             1396            2008    5.00         560             2   \n",
       "...               ...             ...     ...         ...           ...   \n",
       "26613            1392                    3.26          80             3   \n",
       "35107            1400            2013    3.26          92             1   \n",
       "26533            1397                    3.26         158             1   \n",
       "16550            1398                    3.26         544             1   \n",
       "7517             1393            1997    3.26         128            93   \n",
       "\n",
       "       inventory  original_price  discount_price  discount_percent  \\\n",
       "6709           0               0               0                 0   \n",
       "28025          0               0               0                 0   \n",
       "28450          0               0               0                 0   \n",
       "7564           0               0               0                 0   \n",
       "6798           0               0               0                 0   \n",
       "...          ...             ...             ...               ...   \n",
       "26613          0               0               0                 0   \n",
       "35107          0               0               0                 0   \n",
       "26533          0               0               0                 0   \n",
       "16550          0               0               0                 0   \n",
       "7517           0               0               0                 0   \n",
       "\n",
       "       type_of_print_id  publisher_id  size_id  summery_id  \n",
       "6709                2.0          73.0      7.0      4561.0  \n",
       "28025               2.0         264.0      2.0     19299.0  \n",
       "28450               2.0          71.0      1.0     19632.0  \n",
       "7564                2.0         208.0      1.0      5178.0  \n",
       "6798                2.0         219.0      1.0         NaN  \n",
       "...                 ...           ...      ...         ...  \n",
       "26613               2.0         373.0      1.0         NaN  \n",
       "35107               2.0         605.0      1.0         NaN  \n",
       "26533               2.0         116.0      1.0     18517.0  \n",
       "16550               2.0         532.0      1.0     11849.0  \n",
       "7517                2.0         321.0      2.0      5151.0  \n",
       "\n",
       "[22466 rows x 18 columns]"
      ]
     },
     "execution_count": 13,
     "metadata": {},
     "output_type": "execute_result"
    }
   ],
   "source": [
    "result2"
   ]
  },
  {
   "cell_type": "markdown",
   "metadata": {},
   "source": [
    "در نتیجه مشخص می‌شود که ۲۰ درصد ارزان‌ترین‌ کتاب‌ها قیمت با تخفیف صفر دارند و برای قرارگرفتن کتاب در چارک اول کیفیت لازم است امتیاز آن بالای ۳.۲۶ باشد."
   ]
  },
  {
   "cell_type": "markdown",
   "metadata": {},
   "source": [
    "درخواست نویسنده:"
   ]
  },
  {
   "cell_type": "markdown",
   "metadata": {},
   "source": [
    " برای تشخیص بهترین ناشر کتاب تاریخی، معیاری ترکیبی برآمده از میانگین امتیاز کتب تاریخی یک ناشر و میانگین وزن‌دار امتیاز کتب تاریخی او می‌سازیم. وزن داده‌شده برابر تعداد تجدید چاپ هر کتاب می‌باشد. برای هر یک از درخواست‌ها، معیار ساخته‌شده را کمی تغییر می‌دهیم و مجددا نتایج را بررسی می‌کنیم. "
   ]
  },
  {
   "cell_type": "markdown",
   "metadata": {},
   "source": [
    "معیار بهترین ناشر برای کتاب تاریخی:\n",
    "میانگین امتیاز کتب تاریخی هر ناشر ضربدر ۰.۵\n",
    " بعلاوه\n",
    "میانگین وزندار امتیاز کتب تاریخی آن برحسب وزن تعداد تجدید چاپ هر کتاب ضربدر ۰.۵"
   ]
  },
  {
   "cell_type": "code",
   "execution_count": 14,
   "metadata": {},
   "outputs": [
    {
     "name": "stderr",
     "output_type": "stream",
     "text": [
      "/var/folders/0r/6nwh7td129301__r2brydjn00000gn/T/ipykernel_33610/1362641455.py:8: UserWarning: pandas only supports SQLAlchemy connectable (engine/connection) or database string URI or sqlite3 DBAPI2 connection. Other DBAPI2 objects are not tested. Please consider using SQLAlchemy.\n",
      "  df_writer = pd.read_sql_query(query3, mydb)\n"
     ]
    }
   ],
   "source": [
    "query3 = \"SELECT book.book_id, category.category_name, book.product_name, publisher.publisher_name,book.print_series, book.rating from publisher\"\\\n",
    "          \" inner join book on publisher.id = book.publisher_id\"\\\n",
    "           \" inner join book_category on book_category.book_id=book.book_id\"\\\n",
    "           \" inner join category on book_category.category_id=category.id\"\\\n",
    "            \" where category.category_name = 'داستان تاریخی' or category.category_name = ' تاریخی'\"\\\n",
    "               \" GROUP BY category.id,book_category.book_id,book.book_id, publisher.id\"\n",
    "\n",
    "df_writer = pd.read_sql_query(query3, mydb)"
   ]
  },
  {
   "cell_type": "markdown",
   "metadata": {},
   "source": [
    "در اینجا هم مشکل ثبت نشدن و صفر بودن نوبت چاپ برخی کتاب‌ها وجود دارد:"
   ]
  },
  {
   "cell_type": "code",
   "execution_count": 15,
   "metadata": {},
   "outputs": [
    {
     "data": {
      "text/html": [
       "<div>\n",
       "<style scoped>\n",
       "    .dataframe tbody tr th:only-of-type {\n",
       "        vertical-align: middle;\n",
       "    }\n",
       "\n",
       "    .dataframe tbody tr th {\n",
       "        vertical-align: top;\n",
       "    }\n",
       "\n",
       "    .dataframe thead th {\n",
       "        text-align: right;\n",
       "    }\n",
       "</style>\n",
       "<table border=\"1\" class=\"dataframe\">\n",
       "  <thead>\n",
       "    <tr style=\"text-align: right;\">\n",
       "      <th></th>\n",
       "      <th>book_id</th>\n",
       "      <th>category_name</th>\n",
       "      <th>product_name</th>\n",
       "      <th>publisher_name</th>\n",
       "      <th>print_series</th>\n",
       "      <th>rating</th>\n",
       "    </tr>\n",
       "  </thead>\n",
       "  <tbody>\n",
       "    <tr>\n",
       "      <th>6</th>\n",
       "      <td>40</td>\n",
       "      <td>داستان تاریخی</td>\n",
       "      <td>صد سال تنهایی (جلد سخت)</td>\n",
       "      <td>امیرکبیر</td>\n",
       "      <td>0</td>\n",
       "      <td>4.67</td>\n",
       "    </tr>\n",
       "    <tr>\n",
       "      <th>80</th>\n",
       "      <td>1054</td>\n",
       "      <td>داستان تاریخی</td>\n",
       "      <td>کتاب فرقه ی اساسین ها - مکاشفات</td>\n",
       "      <td>آذرباد</td>\n",
       "      <td>0</td>\n",
       "      <td>3.51</td>\n",
       "    </tr>\n",
       "    <tr>\n",
       "      <th>81</th>\n",
       "      <td>1055</td>\n",
       "      <td>داستان تاریخی</td>\n",
       "      <td>فرقه ی اساسین ها - ریشه ها؛ سوگند صحرا</td>\n",
       "      <td>آذرباد</td>\n",
       "      <td>0</td>\n",
       "      <td>3.48</td>\n",
       "    </tr>\n",
       "    <tr>\n",
       "      <th>82</th>\n",
       "      <td>1056</td>\n",
       "      <td>داستان تاریخی</td>\n",
       "      <td>فرقه ی اساسین ها - رنسانس</td>\n",
       "      <td>آذرباد</td>\n",
       "      <td>0</td>\n",
       "      <td>3.73</td>\n",
       "    </tr>\n",
       "    <tr>\n",
       "      <th>83</th>\n",
       "      <td>1057</td>\n",
       "      <td>داستان تاریخی</td>\n",
       "      <td>فرقه ی اساسین ها - پیمان برادری</td>\n",
       "      <td>آذرباد</td>\n",
       "      <td>0</td>\n",
       "      <td>3.06</td>\n",
       "    </tr>\n",
       "    <tr>\n",
       "      <th>84</th>\n",
       "      <td>1058</td>\n",
       "      <td>داستان تاریخی</td>\n",
       "      <td>فرقه ی اساسین ها - نهضت مخفی</td>\n",
       "      <td>آذرباد</td>\n",
       "      <td>0</td>\n",
       "      <td>3.71</td>\n",
       "    </tr>\n",
       "    <tr>\n",
       "      <th>85</th>\n",
       "      <td>1059</td>\n",
       "      <td>داستان تاریخی</td>\n",
       "      <td>فرقه ی اساسین ها - جدا شده</td>\n",
       "      <td>آذرباد</td>\n",
       "      <td>0</td>\n",
       "      <td>3.29</td>\n",
       "    </tr>\n",
       "    <tr>\n",
       "      <th>86</th>\n",
       "      <td>1060</td>\n",
       "      <td>داستان تاریخی</td>\n",
       "      <td>فرقه ی اساسین ها - پرچم سیاه</td>\n",
       "      <td>آذرباد</td>\n",
       "      <td>0</td>\n",
       "      <td>3.05</td>\n",
       "    </tr>\n",
       "    <tr>\n",
       "      <th>87</th>\n",
       "      <td>1061</td>\n",
       "      <td>داستان تاریخی</td>\n",
       "      <td>فرقه ی اساسین ها - وحدت</td>\n",
       "      <td>آذرباد</td>\n",
       "      <td>0</td>\n",
       "      <td>3.70</td>\n",
       "    </tr>\n",
       "    <tr>\n",
       "      <th>88</th>\n",
       "      <td>1062</td>\n",
       "      <td>داستان تاریخی</td>\n",
       "      <td>فرقه ی اساسین ها - دنیای تبهکاران</td>\n",
       "      <td>آذرباد</td>\n",
       "      <td>0</td>\n",
       "      <td>3.69</td>\n",
       "    </tr>\n",
       "    <tr>\n",
       "      <th>89</th>\n",
       "      <td>1063</td>\n",
       "      <td>داستان تاریخی</td>\n",
       "      <td>فرقه ی اساسین ها - ارتداد</td>\n",
       "      <td>آذرباد</td>\n",
       "      <td>0</td>\n",
       "      <td>3.92</td>\n",
       "    </tr>\n",
       "    <tr>\n",
       "      <th>290</th>\n",
       "      <td>6177</td>\n",
       "      <td>داستان تاریخی</td>\n",
       "      <td>کتاب دره دراز</td>\n",
       "      <td>نگاه</td>\n",
       "      <td>0</td>\n",
       "      <td>3.90</td>\n",
       "    </tr>\n",
       "    <tr>\n",
       "      <th>414</th>\n",
       "      <td>9080</td>\n",
       "      <td>داستان تاریخی</td>\n",
       "      <td>رنج و سرمستی</td>\n",
       "      <td>امیرکبیر</td>\n",
       "      <td>0</td>\n",
       "      <td>3.15</td>\n",
       "    </tr>\n",
       "    <tr>\n",
       "      <th>651</th>\n",
       "      <td>19703</td>\n",
       "      <td>داستان تاریخی</td>\n",
       "      <td>کتاب سیاوش در آتش</td>\n",
       "      <td>خانه ادبیات</td>\n",
       "      <td>0</td>\n",
       "      <td>3.89</td>\n",
       "    </tr>\n",
       "    <tr>\n",
       "      <th>699</th>\n",
       "      <td>4588</td>\n",
       "      <td>داستان تاریخی</td>\n",
       "      <td>کتاب Jane Eyre</td>\n",
       "      <td>جنگل</td>\n",
       "      <td>0</td>\n",
       "      <td>3.02</td>\n",
       "    </tr>\n",
       "    <tr>\n",
       "      <th>929</th>\n",
       "      <td>28910</td>\n",
       "      <td>داستان تاریخی</td>\n",
       "      <td>کتاب مجموعه ی فرقه اسسین ها</td>\n",
       "      <td>آذرباد</td>\n",
       "      <td>0</td>\n",
       "      <td>3.59</td>\n",
       "    </tr>\n",
       "    <tr>\n",
       "      <th>1022</th>\n",
       "      <td>32285</td>\n",
       "      <td>داستان تاریخی</td>\n",
       "      <td>کتاب انجمن جین آستن</td>\n",
       "      <td>کتاب کوله پشتی</td>\n",
       "      <td>0</td>\n",
       "      <td>3.74</td>\n",
       "    </tr>\n",
       "    <tr>\n",
       "      <th>1036</th>\n",
       "      <td>32682</td>\n",
       "      <td>داستان تاریخی</td>\n",
       "      <td>کتاب ینگه دنیا 1 (مدار 42)</td>\n",
       "      <td>هاشمی</td>\n",
       "      <td>0</td>\n",
       "      <td>3.58</td>\n",
       "    </tr>\n",
       "    <tr>\n",
       "      <th>1085</th>\n",
       "      <td>35860</td>\n",
       "      <td>داستان تاریخی</td>\n",
       "      <td>کتاب دنیای آشنا</td>\n",
       "      <td>شورآفرین</td>\n",
       "      <td>0</td>\n",
       "      <td>3.83</td>\n",
       "    </tr>\n",
       "    <tr>\n",
       "      <th>1086</th>\n",
       "      <td>35861</td>\n",
       "      <td>داستان تاریخی</td>\n",
       "      <td>کتاب خانه گرد</td>\n",
       "      <td>مسافر</td>\n",
       "      <td>0</td>\n",
       "      <td>3.92</td>\n",
       "    </tr>\n",
       "    <tr>\n",
       "      <th>1089</th>\n",
       "      <td>29344</td>\n",
       "      <td>داستان تاریخی</td>\n",
       "      <td>کتاب ربوده شده</td>\n",
       "      <td>آذرباد</td>\n",
       "      <td>0</td>\n",
       "      <td>4.00</td>\n",
       "    </tr>\n",
       "    <tr>\n",
       "      <th>1095</th>\n",
       "      <td>35899</td>\n",
       "      <td>داستان تاریخی</td>\n",
       "      <td>کتاب درمانگر</td>\n",
       "      <td>لیوسا</td>\n",
       "      <td>0</td>\n",
       "      <td>4.25</td>\n",
       "    </tr>\n",
       "    <tr>\n",
       "      <th>1339</th>\n",
       "      <td>37876</td>\n",
       "      <td>داستان تاریخی</td>\n",
       "      <td>جنگ و صلح</td>\n",
       "      <td>باهم</td>\n",
       "      <td>0</td>\n",
       "      <td>3.51</td>\n",
       "    </tr>\n",
       "    <tr>\n",
       "      <th>1381</th>\n",
       "      <td>38647</td>\n",
       "      <td>داستان تاریخی</td>\n",
       "      <td>کتاب آوای آلاباما</td>\n",
       "      <td>افراز</td>\n",
       "      <td>0</td>\n",
       "      <td>3.37</td>\n",
       "    </tr>\n",
       "    <tr>\n",
       "      <th>1518</th>\n",
       "      <td>40780</td>\n",
       "      <td>داستان تاریخی</td>\n",
       "      <td>کتاب نه فرشته نه قدیس</td>\n",
       "      <td>فرهنگ نشر نو</td>\n",
       "      <td>0</td>\n",
       "      <td>3.58</td>\n",
       "    </tr>\n",
       "    <tr>\n",
       "      <th>1537</th>\n",
       "      <td>41345</td>\n",
       "      <td>داستان تاریخی</td>\n",
       "      <td>کتاب کنت مونت کریستو</td>\n",
       "      <td>هرمس</td>\n",
       "      <td>0</td>\n",
       "      <td>3.46</td>\n",
       "    </tr>\n",
       "    <tr>\n",
       "      <th>1724</th>\n",
       "      <td>45241</td>\n",
       "      <td>داستان تاریخی</td>\n",
       "      <td>کتاب مجموعه سه گانه ی دوقلوها</td>\n",
       "      <td>مروارید</td>\n",
       "      <td>0</td>\n",
       "      <td>3.02</td>\n",
       "    </tr>\n",
       "    <tr>\n",
       "      <th>1740</th>\n",
       "      <td>45502</td>\n",
       "      <td>داستان تاریخی</td>\n",
       "      <td>الموت</td>\n",
       "      <td>دنیای نو</td>\n",
       "      <td>0</td>\n",
       "      <td>3.30</td>\n",
       "    </tr>\n",
       "    <tr>\n",
       "      <th>1828</th>\n",
       "      <td>48452</td>\n",
       "      <td>داستان تاریخی</td>\n",
       "      <td>کتاب اسکارلت - 2 جلدی</td>\n",
       "      <td>آسیم‏‫</td>\n",
       "      <td>0</td>\n",
       "      <td>3.66</td>\n",
       "    </tr>\n",
       "    <tr>\n",
       "      <th>1911</th>\n",
       "      <td>50802</td>\n",
       "      <td>داستان تاریخی</td>\n",
       "      <td>جزیره مرجانی</td>\n",
       "      <td>نشر کتاب پارسه</td>\n",
       "      <td>0</td>\n",
       "      <td>3.22</td>\n",
       "    </tr>\n",
       "    <tr>\n",
       "      <th>2526</th>\n",
       "      <td>36338</td>\n",
       "      <td>داستان تاریخی</td>\n",
       "      <td>کتاب اسماعیل</td>\n",
       "      <td>کتابسرای میردشتی</td>\n",
       "      <td>0</td>\n",
       "      <td>3.98</td>\n",
       "    </tr>\n",
       "    <tr>\n",
       "      <th>2574</th>\n",
       "      <td>73960</td>\n",
       "      <td>داستان تاریخی</td>\n",
       "      <td>کتاب قصه خوانان در تاریخ اسلام و ایران</td>\n",
       "      <td>علم</td>\n",
       "      <td>0</td>\n",
       "      <td>3.36</td>\n",
       "    </tr>\n",
       "    <tr>\n",
       "      <th>2636</th>\n",
       "      <td>75958</td>\n",
       "      <td>داستان تاریخی</td>\n",
       "      <td>کتاب سهراب و گردآفرید</td>\n",
       "      <td>خانه ادبیات</td>\n",
       "      <td>0</td>\n",
       "      <td>3.59</td>\n",
       "    </tr>\n",
       "    <tr>\n",
       "      <th>2638</th>\n",
       "      <td>75960</td>\n",
       "      <td>داستان تاریخی</td>\n",
       "      <td>کتاب سیاوش و آفرین</td>\n",
       "      <td>خانه ادبیات</td>\n",
       "      <td>0</td>\n",
       "      <td>3.38</td>\n",
       "    </tr>\n",
       "    <tr>\n",
       "      <th>2640</th>\n",
       "      <td>75962</td>\n",
       "      <td>داستان تاریخی</td>\n",
       "      <td>کتاب پیمان سیاوش</td>\n",
       "      <td>خانه ادبیات</td>\n",
       "      <td>0</td>\n",
       "      <td>3.67</td>\n",
       "    </tr>\n",
       "    <tr>\n",
       "      <th>2800</th>\n",
       "      <td>83499</td>\n",
       "      <td>داستان تاریخی</td>\n",
       "      <td>کتاب مجموعه قصه هایی از چهارده معصوم (15جلدی)</td>\n",
       "      <td>برف</td>\n",
       "      <td>0</td>\n",
       "      <td>3.65</td>\n",
       "    </tr>\n",
       "  </tbody>\n",
       "</table>\n",
       "</div>"
      ],
      "text/plain": [
       "      book_id  category_name                                   product_name  \\\n",
       "6          40  داستان تاریخی                        صد سال تنهایی (جلد سخت)   \n",
       "80       1054  داستان تاریخی                کتاب فرقه ی اساسین ها - مکاشفات   \n",
       "81       1055  داستان تاریخی         فرقه ی اساسین ها - ریشه ها؛ سوگند صحرا   \n",
       "82       1056  داستان تاریخی                      فرقه ی اساسین ها - رنسانس   \n",
       "83       1057  داستان تاریخی                فرقه ی اساسین ها - پیمان برادری   \n",
       "84       1058  داستان تاریخی                   فرقه ی اساسین ها - نهضت مخفی   \n",
       "85       1059  داستان تاریخی                     فرقه ی اساسین ها - جدا شده   \n",
       "86       1060  داستان تاریخی                   فرقه ی اساسین ها - پرچم سیاه   \n",
       "87       1061  داستان تاریخی                        فرقه ی اساسین ها - وحدت   \n",
       "88       1062  داستان تاریخی              فرقه ی اساسین ها - دنیای تبهکاران   \n",
       "89       1063  داستان تاریخی                      فرقه ی اساسین ها - ارتداد   \n",
       "290      6177  داستان تاریخی                                  کتاب دره دراز   \n",
       "414      9080  داستان تاریخی                                   رنج و سرمستی   \n",
       "651     19703  داستان تاریخی                              کتاب سیاوش در آتش   \n",
       "699      4588  داستان تاریخی                                 کتاب Jane Eyre   \n",
       "929     28910  داستان تاریخی                    کتاب مجموعه ی فرقه اسسین ها   \n",
       "1022    32285  داستان تاریخی                            کتاب انجمن جین آستن   \n",
       "1036    32682  داستان تاریخی                     کتاب ینگه دنیا 1 (مدار 42)   \n",
       "1085    35860  داستان تاریخی                                کتاب دنیای آشنا   \n",
       "1086    35861  داستان تاریخی                                  کتاب خانه گرد   \n",
       "1089    29344  داستان تاریخی                                 کتاب ربوده شده   \n",
       "1095    35899  داستان تاریخی                                   کتاب درمانگر   \n",
       "1339    37876  داستان تاریخی                                      جنگ و صلح   \n",
       "1381    38647  داستان تاریخی                              کتاب آوای آلاباما   \n",
       "1518    40780  داستان تاریخی                          کتاب نه فرشته نه قدیس   \n",
       "1537    41345  داستان تاریخی                           کتاب کنت مونت کریستو   \n",
       "1724    45241  داستان تاریخی                  کتاب مجموعه سه گانه ی دوقلوها   \n",
       "1740    45502  داستان تاریخی                                          الموت   \n",
       "1828    48452  داستان تاریخی                          کتاب اسکارلت - 2 جلدی   \n",
       "1911    50802  داستان تاریخی                                   جزیره مرجانی   \n",
       "2526    36338  داستان تاریخی                                   کتاب اسماعیل   \n",
       "2574    73960  داستان تاریخی         کتاب قصه خوانان در تاریخ اسلام و ایران   \n",
       "2636    75958  داستان تاریخی                          کتاب سهراب و گردآفرید   \n",
       "2638    75960  داستان تاریخی                             کتاب سیاوش و آفرین   \n",
       "2640    75962  داستان تاریخی                               کتاب پیمان سیاوش   \n",
       "2800    83499  داستان تاریخی  کتاب مجموعه قصه هایی از چهارده معصوم (15جلدی)   \n",
       "\n",
       "        publisher_name  print_series  rating  \n",
       "6             امیرکبیر             0    4.67  \n",
       "80              آذرباد             0    3.51  \n",
       "81              آذرباد             0    3.48  \n",
       "82              آذرباد             0    3.73  \n",
       "83              آذرباد             0    3.06  \n",
       "84              آذرباد             0    3.71  \n",
       "85              آذرباد             0    3.29  \n",
       "86              آذرباد             0    3.05  \n",
       "87              آذرباد             0    3.70  \n",
       "88              آذرباد             0    3.69  \n",
       "89              آذرباد             0    3.92  \n",
       "290               نگاه             0    3.90  \n",
       "414           امیرکبیر             0    3.15  \n",
       "651        خانه ادبیات             0    3.89  \n",
       "699               جنگل             0    3.02  \n",
       "929             آذرباد             0    3.59  \n",
       "1022    کتاب کوله پشتی             0    3.74  \n",
       "1036             هاشمی             0    3.58  \n",
       "1085          شورآفرین             0    3.83  \n",
       "1086             مسافر             0    3.92  \n",
       "1089            آذرباد             0    4.00  \n",
       "1095             لیوسا             0    4.25  \n",
       "1339              باهم             0    3.51  \n",
       "1381             افراز             0    3.37  \n",
       "1518      فرهنگ نشر نو             0    3.58  \n",
       "1537              هرمس             0    3.46  \n",
       "1724           مروارید             0    3.02  \n",
       "1740          دنیای نو             0    3.30  \n",
       "1828            آسیم‏‫             0    3.66  \n",
       "1911    نشر کتاب پارسه             0    3.22  \n",
       "2526  کتابسرای میردشتی             0    3.98  \n",
       "2574               علم             0    3.36  \n",
       "2636       خانه ادبیات             0    3.59  \n",
       "2638       خانه ادبیات             0    3.38  \n",
       "2640       خانه ادبیات             0    3.67  \n",
       "2800               برف             0    3.65  "
      ]
     },
     "execution_count": 15,
     "metadata": {},
     "output_type": "execute_result"
    }
   ],
   "source": [
    "df_writer[df_writer['print_series']==0]"
   ]
  },
  {
   "cell_type": "markdown",
   "metadata": {},
   "source": [
    "مشابه قسمت اول،‌ مقدار نوبت چاپ این ۳۶ کتاب را برابر ۱ فرض می‌کنیم و به طریق مشابه برای دو معیار مشابه، ۵ ناشر برتر را بدست می‌آوریم:"
   ]
  },
  {
   "cell_type": "code",
   "execution_count": 16,
   "metadata": {},
   "outputs": [],
   "source": [
    "df_writer = df_writer.replace({'print_series': {0:1}})"
   ]
  },
  {
   "cell_type": "code",
   "execution_count": 17,
   "metadata": {},
   "outputs": [],
   "source": [
    "df_writer['wrating'] = df_writer['rating']*df_writer['print_series']\n",
    "df_writer['count'] = 1\n",
    "df_writer = df_writer.groupby(by=\"publisher_name\").sum()\n",
    "\n",
    "df_writer['best_crite1'] = (0.5*(df_writer['rating']/df_writer['count']))+(0.5*(df_writer['wrating']/df_writer['print_series']))\n",
    "df_writer['best_crite2'] = (0.3*(df_writer['rating']/df_writer['count']))+(0.7*(df_writer['wrating']/df_writer['print_series']))\n",
    "\n"
   ]
  },
  {
   "cell_type": "code",
   "execution_count": 18,
   "metadata": {},
   "outputs": [
    {
     "data": {
      "text/html": [
       "<div>\n",
       "<style scoped>\n",
       "    .dataframe tbody tr th:only-of-type {\n",
       "        vertical-align: middle;\n",
       "    }\n",
       "\n",
       "    .dataframe tbody tr th {\n",
       "        vertical-align: top;\n",
       "    }\n",
       "\n",
       "    .dataframe thead th {\n",
       "        text-align: right;\n",
       "    }\n",
       "</style>\n",
       "<table border=\"1\" class=\"dataframe\">\n",
       "  <thead>\n",
       "    <tr style=\"text-align: right;\">\n",
       "      <th></th>\n",
       "      <th>best_crite1</th>\n",
       "    </tr>\n",
       "    <tr>\n",
       "      <th>publisher_name</th>\n",
       "      <th></th>\n",
       "    </tr>\n",
       "  </thead>\n",
       "  <tbody>\n",
       "    <tr>\n",
       "      <th>کتاب نغمه</th>\n",
       "      <td>4.29</td>\n",
       "    </tr>\n",
       "    <tr>\n",
       "      <th>لیوسا</th>\n",
       "      <td>4.25</td>\n",
       "    </tr>\n",
       "    <tr>\n",
       "      <th>هنرکده</th>\n",
       "      <td>4.25</td>\n",
       "    </tr>\n",
       "    <tr>\n",
       "      <th>گل آفتاب</th>\n",
       "      <td>4.14</td>\n",
       "    </tr>\n",
       "    <tr>\n",
       "      <th>افق دور</th>\n",
       "      <td>4.13</td>\n",
       "    </tr>\n",
       "  </tbody>\n",
       "</table>\n",
       "</div>"
      ],
      "text/plain": [
       "                best_crite1\n",
       "publisher_name             \n",
       "کتاب نغمه              4.29\n",
       "لیوسا                  4.25\n",
       "هنرکده                 4.25\n",
       "گل آفتاب               4.14\n",
       "افق دور                4.13"
      ]
     },
     "execution_count": 18,
     "metadata": {},
     "output_type": "execute_result"
    }
   ],
   "source": [
    "df_writer1 = df_writer.sort_values('best_crite1',ascending=False)\n",
    "df_writer2 = df_writer.sort_values('best_crite2',ascending=False)\n",
    "df_writer1.drop(columns={'book_id','product_name','print_series','rating','wrating','count','best_crite2','category_name'}, inplace=True)\n",
    "df_writer1[:5]"
   ]
  },
  {
   "cell_type": "markdown",
   "metadata": {},
   "source": [
    "و با  تغییر ضریب اهمیت میانگین وزن‌دار به ۰.۷، ترتیب بهترین ناشران تاریخی تغییری نمی‌کند:"
   ]
  },
  {
   "cell_type": "code",
   "execution_count": 19,
   "metadata": {},
   "outputs": [
    {
     "data": {
      "text/html": [
       "<div>\n",
       "<style scoped>\n",
       "    .dataframe tbody tr th:only-of-type {\n",
       "        vertical-align: middle;\n",
       "    }\n",
       "\n",
       "    .dataframe tbody tr th {\n",
       "        vertical-align: top;\n",
       "    }\n",
       "\n",
       "    .dataframe thead th {\n",
       "        text-align: right;\n",
       "    }\n",
       "</style>\n",
       "<table border=\"1\" class=\"dataframe\">\n",
       "  <thead>\n",
       "    <tr style=\"text-align: right;\">\n",
       "      <th></th>\n",
       "      <th>best_crite2</th>\n",
       "    </tr>\n",
       "    <tr>\n",
       "      <th>publisher_name</th>\n",
       "      <th></th>\n",
       "    </tr>\n",
       "  </thead>\n",
       "  <tbody>\n",
       "    <tr>\n",
       "      <th>کتاب نغمه</th>\n",
       "      <td>4.29</td>\n",
       "    </tr>\n",
       "    <tr>\n",
       "      <th>لیوسا</th>\n",
       "      <td>4.25</td>\n",
       "    </tr>\n",
       "    <tr>\n",
       "      <th>هنرکده</th>\n",
       "      <td>4.25</td>\n",
       "    </tr>\n",
       "    <tr>\n",
       "      <th>گل آفتاب</th>\n",
       "      <td>4.14</td>\n",
       "    </tr>\n",
       "    <tr>\n",
       "      <th>افق دور</th>\n",
       "      <td>4.13</td>\n",
       "    </tr>\n",
       "  </tbody>\n",
       "</table>\n",
       "</div>"
      ],
      "text/plain": [
       "                best_crite2\n",
       "publisher_name             \n",
       "کتاب نغمه              4.29\n",
       "لیوسا                  4.25\n",
       "هنرکده                 4.25\n",
       "گل آفتاب               4.14\n",
       "افق دور                4.13"
      ]
     },
     "execution_count": 19,
     "metadata": {},
     "output_type": "execute_result"
    }
   ],
   "source": [
    "df_writer2.drop(columns={'book_id','product_name','print_series','rating','wrating','count','best_crite1','category_name'}, inplace=True)\n",
    "df_writer2[:5]"
   ]
  },
  {
   "cell_type": "markdown",
   "metadata": {},
   "source": [
    "تست فرض:"
   ]
  },
  {
   "cell_type": "markdown",
   "metadata": {},
   "source": [
    "در این بخش باید اعتبار دو فرضیه مطرح شده را بررسی کنیم. علاوه بر این دو فرضیه، چند فرضیه مفید و راهگشا را اضافه کرده و بررسی می‌کنیم:"
   ]
  },
  {
   "cell_type": "code",
   "execution_count": 20,
   "metadata": {},
   "outputs": [
    {
     "name": "stderr",
     "output_type": "stream",
     "text": [
      "/var/folders/0r/6nwh7td129301__r2brydjn00000gn/T/ipykernel_33610/22030998.py:2: UserWarning: pandas only supports SQLAlchemy connectable (engine/connection) or database string URI or sqlite3 DBAPI2 connection. Other DBAPI2 objects are not tested. Please consider using SQLAlchemy.\n",
      "  df_transl = pd.read_sql_query(query_test1, mydb)\n"
     ]
    }
   ],
   "source": [
    "query_test1 = \"Select * from book left join book_translator on book.book_id=book_translator.book_id\"\n",
    "df_transl = pd.read_sql_query(query_test1, mydb)"
   ]
  },
  {
   "cell_type": "code",
   "execution_count": 21,
   "metadata": {},
   "outputs": [],
   "source": [
    "df_transl=df_transl.drop(columns={'book_id','product_name','product_name_eng','isbn'})"
   ]
  },
  {
   "cell_type": "markdown",
   "metadata": {},
   "source": [
    "داده‌های مربوط به قیمت با تخفیف کتاب‌های بدون ترجمه و با ترجمه را هر یک در یک دیتافریم می‌ریزیم و اعتبار فرضیه برابر بودن قیمت آن‌ها را بررسی می‌کنیم:"
   ]
  },
  {
   "cell_type": "code",
   "execution_count": 22,
   "metadata": {},
   "outputs": [],
   "source": [
    "df_without_trans = df_transl[df_transl['person_id'].isnull()]['discount_price']\n",
    "df_with_trans = df_transl[df_transl['person_id'].notnull()]['discount_price']"
   ]
  },
  {
   "cell_type": "code",
   "execution_count": 23,
   "metadata": {},
   "outputs": [],
   "source": [
    "from scipy.stats import ttest_ind\n",
    "t1 = ttest_ind(df_with_trans,df_without_trans)"
   ]
  },
  {
   "cell_type": "code",
   "execution_count": 24,
   "metadata": {},
   "outputs": [
    {
     "data": {
      "text/plain": [
       "TtestResult(statistic=13.305777158400987, pvalue=2.2950165555296392e-40, df=115147.0)"
      ]
     },
     "execution_count": 24,
     "metadata": {},
     "output_type": "execute_result"
    }
   ],
   "source": [
    "t1"
   ]
  },
  {
   "cell_type": "markdown",
   "metadata": {},
   "source": [
    "پس در اینجا پی-مقدار برابر ۲.۲۹۵ شده است که مقدار بزرگی است و می‌توانیم در سطح ۱ درصد یکی‌بودن دو نمونه را رد کنیم. در واقع ادعای یکی‌بودن قیمت کتاب‌های با ترجمه و بدون ترجمه رد می‌شود. همچنین با توجه به آماره تی به نظر می‌رسد، قیمت کتب ترجمه‌شده بیشتر از کتب تالیفی است. شاید یکی از دلایل آن اقبال بیشتر مردم به کتاب‌های خارجی به خاطر شهرت یا کیفیت بهتر آن‌ها باشد که قیمت کتاب را بالا برده است. زیرا می‌دانیم که قوانین کپی رایت و حق ناشر خارجی چندان در ایران رعایت نمی‌شود و هزینه اصلی تولید یک کتاب ترجمه‌شده به جز هزینه‌های چاپ و توزیع، بیشتر هزینه ترجمه است. "
   ]
  },
  {
   "cell_type": "markdown",
   "metadata": {},
   "source": [
    "همچنین این فرضیه را با استفاده از قیمت‌های بدون تخفیف (قیمت اصلی) را بررسی می‌کنیم:"
   ]
  },
  {
   "cell_type": "code",
   "execution_count": 25,
   "metadata": {},
   "outputs": [
    {
     "data": {
      "text/plain": [
       "TtestResult(statistic=13.337062505804147, pvalue=1.5102829085625577e-40, df=115147.0)"
      ]
     },
     "execution_count": 25,
     "metadata": {},
     "output_type": "execute_result"
    }
   ],
   "source": [
    "df_without_trans_orig = df_transl[df_transl['person_id'].isnull()]['original_price']\n",
    "df_with_trans_orig = df_transl[df_transl['person_id'].notnull()]['original_price']\n",
    "\n",
    "t1_origin = ttest_ind(df_with_trans_orig,df_without_trans_orig)\n",
    "t1_origin"
   ]
  },
  {
   "cell_type": "markdown",
   "metadata": {},
   "source": [
    "البته باید دید اگر چنین فرضیه‌ای را در برش‌های کوچک‌تری از داده مشاهده کنیم،‌ چگونه خواهد بود؟ مثلا آیا اگر برای بازه مشخصی از سال‌ها این را مشاهده کنیم باز هم همین است؟ برای این منظور، کتاب‌های ترجمه‌دار و بدون‌ترجمه را برای سال‌های قبل و بعد از ۱۳۹۵ بررسی می‌کنیم:"
   ]
  },
  {
   "cell_type": "code",
   "execution_count": 26,
   "metadata": {},
   "outputs": [
    {
     "name": "stderr",
     "output_type": "stream",
     "text": [
      "/var/folders/0r/6nwh7td129301__r2brydjn00000gn/T/ipykernel_33610/1043449097.py:3: UserWarning: pandas only supports SQLAlchemy connectable (engine/connection) or database string URI or sqlite3 DBAPI2 connection. Other DBAPI2 objects are not tested. Please consider using SQLAlchemy.\n",
      "  df_trans_pre95 = pd.read_sql_query(query_test1_pre95, mydb)\n"
     ]
    }
   ],
   "source": [
    "# pre 1395:\n",
    "query_test1_pre95 = \"Select * from book left join book_translator on book.book_id=book_translator.book_id where release_date_sh<1395\"\n",
    "df_trans_pre95 = pd.read_sql_query(query_test1_pre95, mydb)"
   ]
  },
  {
   "cell_type": "code",
   "execution_count": 27,
   "metadata": {},
   "outputs": [
    {
     "data": {
      "text/plain": [
       "TtestResult(statistic=-2.110350748056976, pvalue=0.034839476848749495, df=21875.0)"
      ]
     },
     "execution_count": 27,
     "metadata": {},
     "output_type": "execute_result"
    }
   ],
   "source": [
    "\n",
    "df_trans_pre95_without = df_trans_pre95[df_trans_pre95['person_id'].isnull()]['discount_price']\n",
    "df_trans_pre95_with = df_trans_pre95[df_trans_pre95['person_id'].notnull()]['discount_price']\n",
    "t1_pre95 = ttest_ind(df_trans_pre95_with,df_trans_pre95_without)\n",
    "t1_pre95"
   ]
  },
  {
   "cell_type": "markdown",
   "metadata": {},
   "source": [
    "یکی‌بودن قیمت ترجمه‌شده و نشده را در سطح ۱ درصد می توان رد کرد اما در سطح ۵ درصد خیر. یعنی در سطح ۵ درصد نمی‌توانیم از یک جور بودن دو نمونه عبور کنیم! حال برای کتاب‌های سال ۱۳۹۵ و پس از آن امتحان می‌کنیم:"
   ]
  },
  {
   "cell_type": "code",
   "execution_count": 28,
   "metadata": {},
   "outputs": [
    {
     "name": "stderr",
     "output_type": "stream",
     "text": [
      "/var/folders/0r/6nwh7td129301__r2brydjn00000gn/T/ipykernel_33610/980863145.py:3: UserWarning: pandas only supports SQLAlchemy connectable (engine/connection) or database string URI or sqlite3 DBAPI2 connection. Other DBAPI2 objects are not tested. Please consider using SQLAlchemy.\n",
      "  df_trans_post95 = pd.read_sql_query(query_test1_post95, mydb)\n"
     ]
    }
   ],
   "source": [
    "# post 1395:\n",
    "query_test1_post95 = \"Select * from book left join book_translator on book.book_id=book_translator.book_id where release_date_sh>=1395\"\n",
    "df_trans_post95 = pd.read_sql_query(query_test1_post95, mydb)"
   ]
  },
  {
   "cell_type": "code",
   "execution_count": 29,
   "metadata": {},
   "outputs": [
    {
     "data": {
      "text/plain": [
       "TtestResult(statistic=12.64897109190194, pvalue=1.2149427182456091e-36, df=93270.0)"
      ]
     },
     "execution_count": 29,
     "metadata": {},
     "output_type": "execute_result"
    }
   ],
   "source": [
    "df_trans_post95_without = df_trans_post95[df_trans_post95['person_id'].isnull()]['discount_price']\n",
    "df_trans_post95_with = df_trans_post95[df_trans_post95['person_id'].notnull()]['discount_price']\n",
    "t1_post95 = ttest_ind(df_trans_post95_with,df_trans_post95_without)\n",
    "t1_post95"
   ]
  },
  {
   "cell_type": "markdown",
   "metadata": {},
   "source": [
    "حال بررسی می‌کنیم برای دسته موضوعی ادبیات داستانی*، فرضیه مطرح ‌شده چگونه است؟"
   ]
  },
  {
   "cell_type": "code",
   "execution_count": null,
   "metadata": {},
   "outputs": [],
   "source": [
    "# \n",
    "query_test1_Fi = \"Select * from (Select book.book_id from book inner join book_category on book.book_id=book_category.book_id inner join \"\\\n",
    "    \"Category on book_category.category_id=Category.iD where category_name='ادبیات داستانی') left join book_translator on book.book_id=book_translator.book_id where \"\n",
    "df_trans_Fi = pd.read_sql_query(query_test1_Fi, mydb)"
   ]
  },
  {
   "cell_type": "code",
   "execution_count": null,
   "metadata": {},
   "outputs": [],
   "source": [
    "df_trans_Fi_without = df_trans_Fi[df_trans_Fi['person_id'].isnull()]['discount_price']\n",
    "df_trans_Fi_with = df_trans_Fi[df_trans_Fi['person_id'].notnull()]['discount_price']\n",
    "t1_Fi = ttest_ind(df_trans_Fi_with,df_trans_Fi_without)\n",
    "t1_Fi"
   ]
  },
  {
   "cell_type": "code",
   "execution_count": null,
   "metadata": {},
   "outputs": [],
   "source": []
  },
  {
   "cell_type": "markdown",
   "metadata": {},
   "source": [
    "فرضیه دوم:"
   ]
  },
  {
   "cell_type": "markdown",
   "metadata": {},
   "source": [
    "در اینجا هر کتابی که عنوان جلدی شامل 'سخت' داشته باشد را جلد سخت و هر کدام که عنوان جلدی شامل 'شومیز' داشته باشد را جلد شومیز می‌گیریم."
   ]
  },
  {
   "cell_type": "code",
   "execution_count": 31,
   "metadata": {},
   "outputs": [
    {
     "name": "stderr",
     "output_type": "stream",
     "text": [
      "/var/folders/0r/6nwh7td129301__r2brydjn00000gn/T/ipykernel_33610/1423094792.py:4: UserWarning: pandas only supports SQLAlchemy connectable (engine/connection) or database string URI or sqlite3 DBAPI2 connection. Other DBAPI2 objects are not tested. Please consider using SQLAlchemy.\n",
      "  df_sakht = pd.read_sql_query(query_sakht, mydb)['discount_price']\n",
      "/var/folders/0r/6nwh7td129301__r2brydjn00000gn/T/ipykernel_33610/1423094792.py:5: UserWarning: pandas only supports SQLAlchemy connectable (engine/connection) or database string URI or sqlite3 DBAPI2 connection. Other DBAPI2 objects are not tested. Please consider using SQLAlchemy.\n",
      "  df_shomiz = pd.read_sql_query(query_shomiz, mydb)['discount_price']\n"
     ]
    }
   ],
   "source": [
    "query_sakht = \"Select discount_price  from book inner join type_of_print on book.type_of_print_id=type_of_print.id where type_of_print LIKE '%سخت%'\"\n",
    "query_shomiz = \"Select discount_price from book inner join type_of_print on book.type_of_print_id=type_of_print.id where type_of_print LIKE '%شومیز%'\"\n",
    "\n",
    "df_sakht = pd.read_sql_query(query_sakht, mydb)['discount_price']\n",
    "df_shomiz = pd.read_sql_query(query_shomiz, mydb)['discount_price']"
   ]
  },
  {
   "cell_type": "code",
   "execution_count": 32,
   "metadata": {},
   "outputs": [
    {
     "data": {
      "text/plain": [
       "TtestResult(statistic=55.048867854229414, pvalue=0.0, df=96408.0)"
      ]
     },
     "execution_count": 32,
     "metadata": {},
     "output_type": "execute_result"
    }
   ],
   "source": [
    "# test:\n",
    "t2 = ttest_ind(df_sakht,df_shomiz)\n",
    "t2"
   ]
  },
  {
   "cell_type": "markdown",
   "metadata": {},
   "source": [
    "برخلاف تصور مردم مشاهده می‌کنیم که پی مقدار تقریبا صفر می‌شود یعنی حتی در ۱ درصد هم نمی‌توان فرضیه بی‌تفاوت‌بودن قیمت جلد سخت و جلد شومیز را رد کنیم. برای تبیین و توجیه این وضعیت می‌توان گفت:"
   ]
  },
  {
   "cell_type": "markdown",
   "metadata": {},
   "source": [
    "۱- انتظار داریم هزینه اصلی تولید کتاب به خصوص برای کتاب‌هایی که تعداد صفحات زیادی دارند، مربوط به کاغذ باشد و هزینه جلد در مقابل کل هزینه چاپ و همچنین هزینه‌های کل انتشارات، بی اهمیت می‌شود.  یا ممکن است با استفاده از جلد شومیز، ناشر انگیزه داشته‌ باشد از کاغذ کم کیفیت‌تری استفاده کند."
   ]
  },
  {
   "cell_type": "markdown",
   "metadata": {},
   "source": [
    "۲- شاید در نگاه اول انتظار داشته باشیم که جلد سخت بیشتر برای کتب با تعداد صفحات بالا یا ارزش بالاتر استفاده شود اما اگر بخواهیم مشاهده کنونی خود را توجیه کنیم می‌توان گفت که استفاده از جلد سخت کمتر رایج است و در مواردی هم که استفاده می شود به موضوع کتاب، رقع کتاب یا وضعیت اقتصادی آن سال در جامعه بستگی دارد. برای مثال در سال‌هایی که وضع اقتصادی کشور مناسب‌تر است یا دولت یارانه کاغذ بیشتری اعطا می‌کند، انگیزه برای مصرف جلد سخت بیشتر است. یا این نوع جلد بیشتر برای کتب مصور یا کتب کودک و نوجوان استفاده شود و  ناشر و خریدار انگیزه‌ای برای استفاده از آن در کتب داستانی نداشته باشد. به عبارت دیگر، جلد سخت زدن یا نزدن تابع عوامل دیگری فرای تعداد صفحات و ارزش کتاب است."
   ]
  },
  {
   "cell_type": "markdown",
   "metadata": {},
   "source": [
    "در اینجا تفاوت قیمت جلد سخت و شومیز را با معیار قیمت تقسیم بر تعداد صفحات بررسی می‌کنیم تا ببینیم آیا برای کتاب‌هایی با تعداد صفحات یکسان، قیمت این دو نوع جلد تفاوت دارد یا خیر؟"
   ]
  },
  {
   "cell_type": "code",
   "execution_count": 33,
   "metadata": {},
   "outputs": [
    {
     "name": "stderr",
     "output_type": "stream",
     "text": [
      "/var/folders/0r/6nwh7td129301__r2brydjn00000gn/T/ipykernel_33610/3259644736.py:4: UserWarning: pandas only supports SQLAlchemy connectable (engine/connection) or database string URI or sqlite3 DBAPI2 connection. Other DBAPI2 objects are not tested. Please consider using SQLAlchemy.\n",
      "  df_sakht_2 = pd.read_sql_query(query_sakht_2, mydb)\n",
      "/var/folders/0r/6nwh7td129301__r2brydjn00000gn/T/ipykernel_33610/3259644736.py:5: UserWarning: pandas only supports SQLAlchemy connectable (engine/connection) or database string URI or sqlite3 DBAPI2 connection. Other DBAPI2 objects are not tested. Please consider using SQLAlchemy.\n",
      "  df_shomiz_2 = pd.read_sql_query(query_shomiz_2, mydb)\n"
     ]
    }
   ],
   "source": [
    "query_sakht_2 = \"Select *  from book inner join type_of_print on book.type_of_print_id=type_of_print.id where type_of_print LIKE '%سخت%'\"\n",
    "query_shomiz_2 = \"Select * from book inner join type_of_print on book.type_of_print_id=type_of_print.id where type_of_print LIKE '%شومیز%'\"\n",
    "\n",
    "df_sakht_2 = pd.read_sql_query(query_sakht_2, mydb)\n",
    "df_shomiz_2 = pd.read_sql_query(query_shomiz_2, mydb)\n",
    "df_sakht_2['priceonepage'] = df_sakht_2['discount_price']/df_sakht_2['book_pages']\n",
    "df_shomiz_2['priceonepage'] = df_shomiz_2['discount_price']/df_shomiz_2['book_pages']\n",
    "#df_sakht_2.drop(columns={'discount_price', 'book_pages'}, inplace=True)\n",
    "#df_shomiz_2.drop(columns={'discount_price', 'book_pages'}, inplace=True)\n",
    "df_sakht2 = df_sakht_2['priceonepage']\n",
    "df_shomiz2 = df_shomiz_2['priceonepage']"
   ]
  },
  {
   "cell_type": "code",
   "execution_count": 34,
   "metadata": {},
   "outputs": [
    {
     "data": {
      "text/plain": [
       "0         511.814024\n",
       "1         400.513479\n",
       "2         463.235294\n",
       "3         379.335260\n",
       "4         419.726562\n",
       "            ...     \n",
       "4031      356.178977\n",
       "4032      372.781065\n",
       "4033     4666.666667\n",
       "4034      740.740741\n",
       "4035    45283.018868\n",
       "Name: priceonepage, Length: 4036, dtype: float64"
      ]
     },
     "execution_count": 34,
     "metadata": {},
     "output_type": "execute_result"
    }
   ],
   "source": [
    "df_sakht2\n"
   ]
  },
  {
   "cell_type": "code",
   "execution_count": 35,
   "metadata": {},
   "outputs": [
    {
     "data": {
      "text/plain": [
       "TtestResult(statistic=nan, pvalue=nan, df=nan)"
      ]
     },
     "execution_count": 35,
     "metadata": {},
     "output_type": "execute_result"
    }
   ],
   "source": [
    "t2_2 = ttest_ind(df_sakht2,df_shomiz2)\n",
    "t2_2"
   ]
  },
  {
   "cell_type": "markdown",
   "metadata": {},
   "source": []
  },
  {
   "cell_type": "markdown",
   "metadata": {},
   "source": [
    "در ادامه تعدادی فرضیه‌دیگر را مطرح و بررسی می‌کنیم:"
   ]
  },
  {
   "cell_type": "markdown",
   "metadata": {},
   "source": [
    "فرضیه تغییر قیمت با تغییر امتیاز دریافتی: \n",
    "کتاب‌هایی با امتیاز ۴ تا ۵، قیمت بالاتری از کتاب‌های با امتیاز ۳ تا ۴ دارند!"
   ]
  },
  {
   "cell_type": "code",
   "execution_count": 36,
   "metadata": {},
   "outputs": [
    {
     "name": "stderr",
     "output_type": "stream",
     "text": [
      "/var/folders/0r/6nwh7td129301__r2brydjn00000gn/T/ipykernel_33610/4104069079.py:4: UserWarning: pandas only supports SQLAlchemy connectable (engine/connection) or database string URI or sqlite3 DBAPI2 connection. Other DBAPI2 objects are not tested. Please consider using SQLAlchemy.\n",
      "  df_3_under = pd.read_sql_query(query_3_under, mydb)\n",
      "/var/folders/0r/6nwh7td129301__r2brydjn00000gn/T/ipykernel_33610/4104069079.py:5: UserWarning: pandas only supports SQLAlchemy connectable (engine/connection) or database string URI or sqlite3 DBAPI2 connection. Other DBAPI2 objects are not tested. Please consider using SQLAlchemy.\n",
      "  df_3_upper = pd.read_sql_query(query_3_upper, mydb)\n"
     ]
    }
   ],
   "source": [
    "query_3_under = \"Select discount_price, book_pages, rating from book where rating>=3 and rating<4\"\n",
    "query_3_upper = \"Select discount_price, book_pages, rating from book where rating<=5 and rating>=4\"\n",
    "\n",
    "df_3_under = pd.read_sql_query(query_3_under, mydb)\n",
    "df_3_upper = pd.read_sql_query(query_3_upper, mydb)\n",
    "df_3_under['priceonepage'] = df_3_under['discount_price']/df_3_under['book_pages']\n",
    "df_3_upper['priceonepage'] = df_3_upper['discount_price']/df_3_upper['book_pages']"
   ]
  },
  {
   "cell_type": "code",
   "execution_count": 37,
   "metadata": {},
   "outputs": [
    {
     "data": {
      "text/html": [
       "<div>\n",
       "<style scoped>\n",
       "    .dataframe tbody tr th:only-of-type {\n",
       "        vertical-align: middle;\n",
       "    }\n",
       "\n",
       "    .dataframe tbody tr th {\n",
       "        vertical-align: top;\n",
       "    }\n",
       "\n",
       "    .dataframe thead th {\n",
       "        text-align: right;\n",
       "    }\n",
       "</style>\n",
       "<table border=\"1\" class=\"dataframe\">\n",
       "  <thead>\n",
       "    <tr style=\"text-align: right;\">\n",
       "      <th></th>\n",
       "      <th>discount_price</th>\n",
       "      <th>book_pages</th>\n",
       "      <th>rating</th>\n",
       "      <th>priceonepage</th>\n",
       "    </tr>\n",
       "  </thead>\n",
       "  <tbody>\n",
       "    <tr>\n",
       "      <th>0</th>\n",
       "      <td>140250</td>\n",
       "      <td>368</td>\n",
       "      <td>4.06</td>\n",
       "      <td>381.114130</td>\n",
       "    </tr>\n",
       "    <tr>\n",
       "      <th>1</th>\n",
       "      <td>0</td>\n",
       "      <td>432</td>\n",
       "      <td>4.27</td>\n",
       "      <td>0.000000</td>\n",
       "    </tr>\n",
       "    <tr>\n",
       "      <th>2</th>\n",
       "      <td>2512500</td>\n",
       "      <td>0</td>\n",
       "      <td>4.74</td>\n",
       "      <td>inf</td>\n",
       "    </tr>\n",
       "    <tr>\n",
       "      <th>3</th>\n",
       "      <td>0</td>\n",
       "      <td>464</td>\n",
       "      <td>4.67</td>\n",
       "      <td>0.000000</td>\n",
       "    </tr>\n",
       "    <tr>\n",
       "      <th>4</th>\n",
       "      <td>0</td>\n",
       "      <td>304</td>\n",
       "      <td>4.23</td>\n",
       "      <td>0.000000</td>\n",
       "    </tr>\n",
       "    <tr>\n",
       "      <th>...</th>\n",
       "      <td>...</td>\n",
       "      <td>...</td>\n",
       "      <td>...</td>\n",
       "      <td>...</td>\n",
       "    </tr>\n",
       "    <tr>\n",
       "      <th>2337</th>\n",
       "      <td>76000</td>\n",
       "      <td>172</td>\n",
       "      <td>4.00</td>\n",
       "      <td>441.860465</td>\n",
       "    </tr>\n",
       "    <tr>\n",
       "      <th>2338</th>\n",
       "      <td>37800</td>\n",
       "      <td>184</td>\n",
       "      <td>4.00</td>\n",
       "      <td>205.434783</td>\n",
       "    </tr>\n",
       "    <tr>\n",
       "      <th>2339</th>\n",
       "      <td>10500</td>\n",
       "      <td>36</td>\n",
       "      <td>4.00</td>\n",
       "      <td>291.666667</td>\n",
       "    </tr>\n",
       "    <tr>\n",
       "      <th>2340</th>\n",
       "      <td>300000</td>\n",
       "      <td>274</td>\n",
       "      <td>4.00</td>\n",
       "      <td>1094.890511</td>\n",
       "    </tr>\n",
       "    <tr>\n",
       "      <th>2341</th>\n",
       "      <td>30000</td>\n",
       "      <td>28</td>\n",
       "      <td>4.00</td>\n",
       "      <td>1071.428571</td>\n",
       "    </tr>\n",
       "  </tbody>\n",
       "</table>\n",
       "<p>2342 rows × 4 columns</p>\n",
       "</div>"
      ],
      "text/plain": [
       "      discount_price  book_pages  rating  priceonepage\n",
       "0             140250         368    4.06    381.114130\n",
       "1                  0         432    4.27      0.000000\n",
       "2            2512500           0    4.74           inf\n",
       "3                  0         464    4.67      0.000000\n",
       "4                  0         304    4.23      0.000000\n",
       "...              ...         ...     ...           ...\n",
       "2337           76000         172    4.00    441.860465\n",
       "2338           37800         184    4.00    205.434783\n",
       "2339           10500          36    4.00    291.666667\n",
       "2340          300000         274    4.00   1094.890511\n",
       "2341           30000          28    4.00   1071.428571\n",
       "\n",
       "[2342 rows x 4 columns]"
      ]
     },
     "execution_count": 37,
     "metadata": {},
     "output_type": "execute_result"
    }
   ],
   "source": [
    "df_3_upper"
   ]
  },
  {
   "cell_type": "code",
   "execution_count": null,
   "metadata": {},
   "outputs": [],
   "source": [
    "t3 = ttest_ind(df_3_upper['discount_price'],query_3_under['discount_price'])\n",
    "t3"
   ]
  },
  {
   "cell_type": "markdown",
   "metadata": {},
   "source": []
  },
  {
   "cell_type": "code",
   "execution_count": null,
   "metadata": {},
   "outputs": [],
   "source": [
    "t3_2 = ttest_ind(df_3_upper['priceonepage'],query_3_under['priceonepage'])\n",
    "t3_2"
   ]
  },
  {
   "cell_type": "markdown",
   "metadata": {},
   "source": []
  }
 ],
 "metadata": {
  "kernelspec": {
   "display_name": "base",
   "language": "python",
   "name": "python3"
  },
  "language_info": {
   "codemirror_mode": {
    "name": "ipython",
    "version": 3
   },
   "file_extension": ".py",
   "mimetype": "text/x-python",
   "name": "python",
   "nbconvert_exporter": "python",
   "pygments_lexer": "ipython3",
   "version": "3.11.4"
  },
  "orig_nbformat": 4
 },
 "nbformat": 4,
 "nbformat_minor": 2
}
