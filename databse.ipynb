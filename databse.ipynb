{
 "cells": [
  {
   "cell_type": "code",
   "execution_count": 1,
   "metadata": {},
   "outputs": [],
   "source": [
    "import pandas as pd\n",
    "import numpy as np\n",
    "import mysql.connector\n",
    "import re\n",
    "import ast"
   ]
  },
  {
   "cell_type": "code",
   "execution_count": 2,
   "metadata": {},
   "outputs": [],
   "source": [
    "database = mysql.connector.connect(\n",
    "    host = 'localhost',\n",
    "    user = 'root',\n",
    "    password = 'Sh@0831@Sh'\n",
    ")"
   ]
  },
  {
   "cell_type": "code",
   "execution_count": 3,
   "metadata": {},
   "outputs": [],
   "source": [
    "mycursor = database.cursor()"
   ]
  },
  {
   "cell_type": "code",
   "execution_count": 4,
   "metadata": {},
   "outputs": [],
   "source": [
    "mycursor.execute('create database iranketab')"
   ]
  },
  {
   "cell_type": "code",
   "execution_count": 5,
   "metadata": {},
   "outputs": [],
   "source": [
    "mycursor.execute('USE iranketab')"
   ]
  },
  {
   "cell_type": "code",
   "execution_count": 9,
   "metadata": {},
   "outputs": [],
   "source": [
    "mycursor.execute('CREATE TABLE summery (id INT AUTO_INCREMENT PRIMARY KEY, summery_text VARCHAR(255))')\n"
   ]
  },
  {
   "cell_type": "code",
   "execution_count": 11,
   "metadata": {},
   "outputs": [],
   "source": [
    "mycursor.execute('CREATE TABLE size (id INT AUTO_INCREMENT PRIMARY KEY, size_name VARCHAR(20))')\n"
   ]
  },
  {
   "cell_type": "code",
   "execution_count": 13,
   "metadata": {},
   "outputs": [],
   "source": [
    "mycursor.execute('CREATE TABLE publisher (id INT AUTO_INCREMENT PRIMARY KEY, publisher_name VARCHAR(20))')\n"
   ]
  },
  {
   "cell_type": "code",
   "execution_count": 15,
   "metadata": {},
   "outputs": [],
   "source": [
    "mycursor.execute('CREATE TABLE book (\\\n",
    "                 book_id INT PRIMARY KEY ,\\\n",
    "                 product_name VARCHAR(255),\\\n",
    "                 product_name_eng VARCHAR(255),\\\n",
    "                 isbn VARCHAR(20),\\\n",
    "                 release_date_sh VARCHAR(20),\\\n",
    "                 release_date_gc INT,\\\n",
    "                 rating DOUBLE,\\\n",
    "                 book_pages INT,\\\n",
    "                 print_series INT,\\\n",
    "                 inventory VARCHAR(10),\\\n",
    "                 original_price INT,\\\n",
    "                 publisher_id INT,\\\n",
    "                 size_id INT,\\\n",
    "                 summery_id INT,\\\n",
    "                 FOREIGN KEY (publisher_id) REFERENCES publisher(id),\\\n",
    "                 FOREIGN KEY (size_id) REFERENCES size(id),\\\n",
    "                 FOREIGN KEY (summery_id) REFERENCES summery(id))')\n"
   ]
  },
  {
   "cell_type": "code",
   "execution_count": 16,
   "metadata": {},
   "outputs": [],
   "source": [
    "mycursor.execute('create table category(id INT AUTO_INCREMENT PRIMARY KEY,category_name VARCHAR(25))')"
   ]
  },
  {
   "cell_type": "code",
   "execution_count": 17,
   "metadata": {},
   "outputs": [],
   "source": [
    "mycursor.execute('CREATE TABLE book_category (\\\n",
    "                 id INT AUTO_INCREMENT PRIMARY KEY,\\\n",
    "                 book_id INT,\\\n",
    "                 category_id INT,\\\n",
    "                 FOREIGN KEY (book_id) REFERENCES book(book_id),\\\n",
    "                 FOREIGN KEY (category_id) REFERENCES category(id)\\\n",
    "                 )')\n"
   ]
  },
  {
   "cell_type": "code",
   "execution_count": 20,
   "metadata": {},
   "outputs": [],
   "source": [
    "mycursor.execute('create table person(id INT AUTO_INCREMENT PRIMARY KEY,person_name VARCHAR(25))')"
   ]
  },
  {
   "cell_type": "code",
   "execution_count": 23,
   "metadata": {},
   "outputs": [],
   "source": [
    "mycursor.execute('CREATE TABLE book_author (\\\n",
    "                 id INT AUTO_INCREMENT PRIMARY KEY,\\\n",
    "                 person_id INT,\\\n",
    "                 book_id INT,\\\n",
    "                 FOREIGN KEY (book_id) REFERENCES book(book_id) ,\\\n",
    "                 FOREIGN KEY (person_id) REFERENCES person(id)\\\n",
    "                 )')"
   ]
  },
  {
   "cell_type": "code",
   "execution_count": null,
   "metadata": {},
   "outputs": [],
   "source": [
    "mycursor.execute('CREATE TABLE book_translator (\\\n",
    "                 id INT AUTO_INCREMENT PRIMARY KEY,\\\n",
    "                 person_id INT,\\\n",
    "                 book_id INT,\\\n",
    "                 FOREIGN KEY (book_id) REFERENCES book(book_id) ,\\\n",
    "                 FOREIGN KEY (person_id) REFERENCES person(id)\\\n",
    "                 )')"
   ]
  }
 ],
 "metadata": {
  "kernelspec": {
   "display_name": "BootCamp",
   "language": "python",
   "name": "python3"
  },
  "language_info": {
   "codemirror_mode": {
    "name": "ipython",
    "version": 3
   },
   "file_extension": ".py",
   "mimetype": "text/x-python",
   "name": "python",
   "nbconvert_exporter": "python",
   "pygments_lexer": "ipython3",
   "version": "3.9.17"
  },
  "orig_nbformat": 4
 },
 "nbformat": 4,
 "nbformat_minor": 2
}
