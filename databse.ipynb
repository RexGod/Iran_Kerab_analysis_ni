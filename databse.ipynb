{
 "cells": [
  {
   "cell_type": "code",
   "execution_count": 51,
   "metadata": {
    "ExecuteTime": {
     "end_time": "2023-09-28T20:24:24.096345Z",
     "start_time": "2023-09-28T20:24:24.038622Z"
    }
   },
   "outputs": [],
   "source": [
    "import pandas as pd\n",
    "import numpy as np\n",
    "import mysql.connector\n",
    "import re\n",
    "import ast"
   ]
  },
  {
   "cell_type": "code",
   "execution_count": 52,
   "metadata": {
    "ExecuteTime": {
     "end_time": "2023-09-28T20:24:24.138134Z",
     "start_time": "2023-09-28T20:24:24.039922Z"
    }
   },
   "outputs": [],
   "source": [
    "database = mysql.connector.connect(\n",
    "    host = 'localhost',\n",
    "    user = 'root',\n",
    "    password = 'your_password'\n",
    ")"
   ]
  },
  {
   "cell_type": "code",
   "execution_count": 53,
   "metadata": {
    "ExecuteTime": {
     "end_time": "2023-09-28T20:24:24.138324Z",
     "start_time": "2023-09-28T20:24:24.056659Z"
    }
   },
   "outputs": [],
   "source": [
    "mycursor = database.cursor()"
   ]
  },
  {
   "cell_type": "code",
   "execution_count": 54,
   "metadata": {
    "ExecuteTime": {
     "end_time": "2023-09-28T20:24:24.139413Z",
     "start_time": "2023-09-28T20:24:24.060396Z"
    }
   },
   "outputs": [],
   "source": [
    "mycursor.execute('create database iranketab_db')"
   ]
  },
  {
   "cell_type": "code",
   "execution_count": 55,
   "metadata": {
    "ExecuteTime": {
     "end_time": "2023-09-28T20:24:24.139682Z",
     "start_time": "2023-09-28T20:24:24.067244Z"
    }
   },
   "outputs": [],
   "source": [
    "mycursor.execute('USE iranketab_db')"
   ]
  },
  {
   "cell_type": "code",
   "execution_count": 56,
   "metadata": {
    "ExecuteTime": {
     "end_time": "2023-09-28T20:24:24.139767Z",
     "start_time": "2023-09-28T20:24:24.072245Z"
    }
   },
   "outputs": [],
   "source": [
    "mycursor.execute('CREATE TABLE summery (id INT AUTO_INCREMENT PRIMARY KEY, summery_text VARCHAR(1000))')\n"
   ]
  },
  {
   "cell_type": "code",
   "execution_count": 57,
   "metadata": {
    "ExecuteTime": {
     "end_time": "2023-09-28T20:24:24.140002Z",
     "start_time": "2023-09-28T20:24:24.086614Z"
    }
   },
   "outputs": [],
   "source": [
    "mycursor.execute('CREATE TABLE size (id INT AUTO_INCREMENT PRIMARY KEY, size_name VARCHAR(20))')\n"
   ]
  },
  {
   "cell_type": "code",
   "execution_count": 58,
   "outputs": [],
   "source": [
    "mycursor.execute('CREATE TABLE publisher (id INT AUTO_INCREMENT PRIMARY KEY, publisher_name VARCHAR(255))')\n"
   ],
   "metadata": {
    "collapsed": false,
    "ExecuteTime": {
     "end_time": "2023-09-28T20:24:24.140320Z",
     "start_time": "2023-09-28T20:24:24.096835Z"
    }
   }
  },
  {
   "cell_type": "code",
   "execution_count": 59,
   "outputs": [],
   "source": [
    "mycursor.execute('create table type_of_print(id INT AUTO_INCREMENT PRIMARY KEY,type_of_print VARCHAR(25))')"
   ],
   "metadata": {
    "collapsed": false,
    "ExecuteTime": {
     "end_time": "2023-09-28T20:24:24.140390Z",
     "start_time": "2023-09-28T20:24:24.104597Z"
    }
   }
  },
  {
   "cell_type": "code",
   "execution_count": 60,
   "outputs": [],
   "source": [
    "mycursor.execute('CREATE TABLE book (\\\n",
    "                 book_id INT PRIMARY KEY ,\\\n",
    "                 product_name VARCHAR(255),\\\n",
    "                 product_name_eng VARCHAR(255),\\\n",
    "                 isbn VARCHAR(20),\\\n",
    "                 release_date_sh INT,\\\n",
    "                 release_date_gc INT,\\\n",
    "                 rating DOUBLE,\\\n",
    "                 book_pages INT,\\\n",
    "                 print_series INT,\\\n",
    "                 inventory BOOLEAN,\\\n",
    "                 original_price INT,\\\n",
    "                 type_of_print_id INT,\\\n",
    "                 publisher_id INT,\\\n",
    "                 size_id INT,\\\n",
    "                 summery_id INT,\\\n",
    "                 FOREIGN KEY (type_of_print_id) REFERENCES type_of_print(id),\\\n",
    "                 FOREIGN KEY (publisher_id) REFERENCES publisher(id),\\\n",
    "                 FOREIGN KEY (size_id) REFERENCES size(id),\\\n",
    "                 FOREIGN KEY (summery_id) REFERENCES summery(id))')\n"
   ],
   "metadata": {
    "collapsed": false,
    "ExecuteTime": {
     "end_time": "2023-09-28T20:24:24.160103Z",
     "start_time": "2023-09-28T20:24:24.112775Z"
    }
   }
  },
  {
   "cell_type": "markdown",
   "source": [],
   "metadata": {
    "collapsed": false
   }
  },
  {
   "cell_type": "code",
   "execution_count": 61,
   "metadata": {
    "ExecuteTime": {
     "end_time": "2023-09-28T20:24:24.160347Z",
     "start_time": "2023-09-28T20:24:24.145520Z"
    }
   },
   "outputs": [],
   "source": [
    "mycursor.execute('create table category(id INT AUTO_INCREMENT PRIMARY KEY,category_name VARCHAR(255))')"
   ]
  },
  {
   "cell_type": "code",
   "execution_count": 62,
   "metadata": {
    "ExecuteTime": {
     "end_time": "2023-09-28T20:24:24.228230Z",
     "start_time": "2023-09-28T20:24:24.154830Z"
    }
   },
   "outputs": [],
   "source": [
    "mycursor.execute('CREATE TABLE book_category (\\\n",
    "                 id INT AUTO_INCREMENT PRIMARY KEY,\\\n",
    "                 book_id INT,\\\n",
    "                 category_id INT,\\\n",
    "                 FOREIGN KEY (book_id) REFERENCES book(book_id),\\\n",
    "                 FOREIGN KEY (category_id) REFERENCES category(id)\\\n",
    "                 )')\n"
   ]
  },
  {
   "cell_type": "code",
   "execution_count": 63,
   "metadata": {
    "ExecuteTime": {
     "end_time": "2023-09-28T20:24:24.228570Z",
     "start_time": "2023-09-28T20:24:24.169937Z"
    }
   },
   "outputs": [],
   "source": [
    "mycursor.execute('create table person(id INT AUTO_INCREMENT PRIMARY KEY,person_name VARCHAR(255))')"
   ]
  },
  {
   "cell_type": "code",
   "execution_count": 64,
   "metadata": {
    "ExecuteTime": {
     "end_time": "2023-09-28T20:24:24.231986Z",
     "start_time": "2023-09-28T20:24:24.180525Z"
    }
   },
   "outputs": [],
   "source": [
    "mycursor.execute('CREATE TABLE book_author (\\\n",
    "                 id INT AUTO_INCREMENT PRIMARY KEY,\\\n",
    "                 person_id INT,\\\n",
    "                 book_id INT,\\\n",
    "                 FOREIGN KEY (book_id) REFERENCES book(book_id) ,\\\n",
    "                 FOREIGN KEY (person_id) REFERENCES person(id)\\\n",
    "                 )')"
   ]
  },
  {
   "cell_type": "code",
   "execution_count": 65,
   "metadata": {
    "ExecuteTime": {
     "end_time": "2023-09-28T20:24:24.232095Z",
     "start_time": "2023-09-28T20:24:24.196685Z"
    }
   },
   "outputs": [],
   "source": [
    "mycursor.execute('CREATE TABLE book_translator (\\\n",
    "                 id INT AUTO_INCREMENT PRIMARY KEY,\\\n",
    "                 person_id INT,\\\n",
    "                 book_id INT,\\\n",
    "                 FOREIGN KEY (book_id) REFERENCES book(book_id) ,\\\n",
    "                 FOREIGN KEY (person_id) REFERENCES person(id)\\\n",
    "                 )')"
   ]
  },
  {
   "cell_type": "code",
   "execution_count": 65,
   "outputs": [],
   "source": [],
   "metadata": {
    "collapsed": false,
    "ExecuteTime": {
     "end_time": "2023-09-28T20:24:24.232154Z",
     "start_time": "2023-09-28T20:24:24.210324Z"
    }
   }
  }
 ],
 "metadata": {
  "kernelspec": {
   "display_name": "Python 3 (ipykernel)",
   "language": "python",
   "name": "python3"
  },
  "language_info": {
   "codemirror_mode": {
    "name": "ipython",
    "version": 3
   },
   "file_extension": ".py",
   "mimetype": "text/x-python",
   "name": "python",
   "nbconvert_exporter": "python",
   "pygments_lexer": "ipython3",
   "version": "3.9.18"
  }
 },
 "nbformat": 4,
 "nbformat_minor": 2
}
