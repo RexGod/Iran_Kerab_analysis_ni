{
 "cells": [
  {
   "cell_type": "code",
   "execution_count": 1,
   "metadata": {
    "ExecuteTime": {
     "end_time": "2023-09-29T20:46:34.554152Z",
     "start_time": "2023-09-29T20:46:33.458406Z"
    }
   },
   "outputs": [],
   "source": [
    "import pandas as pd\n",
    "import numpy as np\n",
    "import mysql.connector\n",
    "import re\n",
    "import ast"
   ]
  },
  {
   "cell_type": "code",
   "execution_count": 2,
   "metadata": {
    "ExecuteTime": {
     "end_time": "2023-09-29T20:46:53.543225Z",
     "start_time": "2023-09-29T20:46:53.510243Z"
    }
   },
   "outputs": [],
   "source": [
    "database = mysql.connector.connect(\n",
    "    host = 'localhost',\n",
    "    user = 'root',\n",
    "    password = '@2081081381mH'\n",
    ")"
   ]
  },
  {
   "cell_type": "code",
   "execution_count": 3,
   "metadata": {
    "ExecuteTime": {
     "end_time": "2023-09-29T20:46:54.867472Z",
     "start_time": "2023-09-29T20:46:54.838047Z"
    }
   },
   "outputs": [],
   "source": [
    "mycursor = database.cursor()"
   ]
  },
  {
   "cell_type": "code",
   "execution_count": 4,
   "metadata": {
    "ExecuteTime": {
     "end_time": "2023-09-29T20:46:56.041280Z",
     "start_time": "2023-09-29T20:46:56.007989Z"
    }
   },
   "outputs": [],
   "source": [
    "mycursor.execute('create database iranketab_db')"
   ]
  },
  {
   "cell_type": "code",
   "execution_count": 5,
   "metadata": {
    "ExecuteTime": {
     "end_time": "2023-09-29T20:46:56.969700Z",
     "start_time": "2023-09-29T20:46:56.928855Z"
    }
   },
   "outputs": [],
   "source": [
    "mycursor.execute('USE iranketab_db')"
   ]
  },
  {
   "cell_type": "code",
   "execution_count": 6,
   "metadata": {
    "ExecuteTime": {
     "end_time": "2023-09-29T20:46:57.831327Z",
     "start_time": "2023-09-29T20:46:57.791098Z"
    }
   },
   "outputs": [],
   "source": [
    "mycursor.execute('CREATE TABLE summery (id INT AUTO_INCREMENT PRIMARY KEY, summery_text VARCHAR(4000))')\n"
   ]
  },
  {
   "cell_type": "code",
   "execution_count": 7,
   "metadata": {
    "ExecuteTime": {
     "end_time": "2023-09-29T20:46:58.565514Z",
     "start_time": "2023-09-29T20:46:58.521095Z"
    }
   },
   "outputs": [],
   "source": [
    "mycursor.execute('CREATE TABLE size (id INT AUTO_INCREMENT PRIMARY KEY, size_name VARCHAR(20))')\n"
   ]
  },
  {
   "cell_type": "code",
   "execution_count": 8,
   "outputs": [],
   "source": [
    "mycursor.execute('CREATE TABLE publisher (id INT AUTO_INCREMENT PRIMARY KEY, publisher_name VARCHAR(255))')\n"
   ],
   "metadata": {
    "collapsed": false,
    "ExecuteTime": {
     "end_time": "2023-09-29T20:46:59.983980Z",
     "start_time": "2023-09-29T20:46:59.942324Z"
    }
   }
  },
  {
   "cell_type": "code",
   "execution_count": 9,
   "outputs": [],
   "source": [
    "mycursor.execute('create table type_of_print(id INT AUTO_INCREMENT PRIMARY KEY,type_of_print VARCHAR(25))')"
   ],
   "metadata": {
    "collapsed": false,
    "ExecuteTime": {
     "end_time": "2023-09-29T20:47:00.570208Z",
     "start_time": "2023-09-29T20:47:00.538846Z"
    }
   }
  },
  {
   "cell_type": "code",
   "execution_count": 10,
   "outputs": [],
   "source": [
    "mycursor.execute('CREATE TABLE book (\\\n",
    "                 book_id INT AUTO_INCREMENT PRIMARY KEY ,\\\n",
    "                 product_name VARCHAR(255),\\\n",
    "                 product_name_eng VARCHAR(255),\\\n",
    "                 isbn VARCHAR(20),\\\n",
    "                 book_code INT,\\\n",
    "                 release_date_sh INT,\\\n",
    "                 release_date_gc INT,\\\n",
    "                 rating DOUBLE,\\\n",
    "                 book_pages INT,\\\n",
    "                 print_series INT,\\\n",
    "                 inventory BOOLEAN,\\\n",
    "                 original_price INT,\\\n",
    "                 discount_price INT,\\\n",
    "                 discount_percent INT,\\\n",
    "                 type_of_print_id INT,\\\n",
    "                 publisher_id INT,\\\n",
    "                 size_id INT,\\\n",
    "                 summery_id INT,\\\n",
    "                 FOREIGN KEY (type_of_print_id) REFERENCES type_of_print(id),\\\n",
    "                 FOREIGN KEY (publisher_id) REFERENCES publisher(id),\\\n",
    "                 FOREIGN KEY (size_id) REFERENCES size(id),\\\n",
    "                 FOREIGN KEY (summery_id) REFERENCES summery(id))')\n"
   ],
   "metadata": {
    "collapsed": false,
    "ExecuteTime": {
     "end_time": "2023-09-29T20:47:01.308745Z",
     "start_time": "2023-09-29T20:47:01.253781Z"
    }
   }
  },
  {
   "cell_type": "markdown",
   "source": [],
   "metadata": {
    "collapsed": false
   }
  },
  {
   "cell_type": "code",
   "execution_count": 11,
   "metadata": {
    "ExecuteTime": {
     "end_time": "2023-09-29T20:47:03.035567Z",
     "start_time": "2023-09-29T20:47:03.014723Z"
    }
   },
   "outputs": [],
   "source": [
    "mycursor.execute('create table category(id INT AUTO_INCREMENT PRIMARY KEY,category_name VARCHAR(255))')"
   ]
  },
  {
   "cell_type": "code",
   "execution_count": 12,
   "metadata": {
    "ExecuteTime": {
     "end_time": "2023-09-29T20:47:03.735557Z",
     "start_time": "2023-09-29T20:47:03.705377Z"
    }
   },
   "outputs": [],
   "source": [
    "mycursor.execute('CREATE TABLE book_category (\\\n",
    "                 id INT AUTO_INCREMENT PRIMARY KEY,\\\n",
    "                 book_id INT,\\\n",
    "                 category_id INT,\\\n",
    "                 FOREIGN KEY (book_id) REFERENCES book(book_id),\\\n",
    "                 FOREIGN KEY (category_id) REFERENCES category(id)\\\n",
    "                 )')\n"
   ]
  },
  {
   "cell_type": "code",
   "execution_count": 13,
   "metadata": {
    "ExecuteTime": {
     "end_time": "2023-09-29T20:47:04.283213Z",
     "start_time": "2023-09-29T20:47:04.250214Z"
    }
   },
   "outputs": [],
   "source": [
    "mycursor.execute('create table person(id INT AUTO_INCREMENT PRIMARY KEY,person_name VARCHAR(255))')"
   ]
  },
  {
   "cell_type": "code",
   "execution_count": 14,
   "metadata": {
    "ExecuteTime": {
     "end_time": "2023-09-29T20:47:04.787453Z",
     "start_time": "2023-09-29T20:47:04.755708Z"
    }
   },
   "outputs": [],
   "source": [
    "mycursor.execute('CREATE TABLE book_author (\\\n",
    "                 id INT AUTO_INCREMENT PRIMARY KEY,\\\n",
    "                 person_id INT,\\\n",
    "                 book_id INT,\\\n",
    "                 FOREIGN KEY (book_id) REFERENCES book(book_id) ,\\\n",
    "                 FOREIGN KEY (person_id) REFERENCES person(id)\\\n",
    "                 )')"
   ]
  },
  {
   "cell_type": "code",
   "execution_count": 15,
   "metadata": {
    "ExecuteTime": {
     "end_time": "2023-09-29T20:47:05.524615Z",
     "start_time": "2023-09-29T20:47:05.494699Z"
    }
   },
   "outputs": [],
   "source": [
    "mycursor.execute('CREATE TABLE book_translator (\\\n",
    "                 id INT AUTO_INCREMENT PRIMARY KEY,\\\n",
    "                 person_id INT,\\\n",
    "                 book_id INT,\\\n",
    "                 FOREIGN KEY (book_id) REFERENCES book(book_id) ,\\\n",
    "                 FOREIGN KEY (person_id) REFERENCES person(id)\\\n",
    "                 )')"
   ]
  },
  {
   "cell_type": "code",
   "execution_count": null,
   "outputs": [],
   "source": [],
   "metadata": {
    "collapsed": false,
    "is_executing": true
   }
  }
 ],
 "metadata": {
  "kernelspec": {
   "display_name": "Python 3 (ipykernel)",
   "language": "python",
   "name": "python3"
  },
  "language_info": {
   "codemirror_mode": {
    "name": "ipython",
    "version": 3
   },
   "file_extension": ".py",
   "mimetype": "text/x-python",
   "name": "python",
   "nbconvert_exporter": "python",
   "pygments_lexer": "ipython3",
   "version": "3.9.18"
  }
 },
 "nbformat": 4,
 "nbformat_minor": 2
}
